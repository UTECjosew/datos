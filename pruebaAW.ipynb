{
 "cells": [
  {
   "cell_type": "code",
   "execution_count": 7,
   "metadata": {},
   "outputs": [
    {
     "name": "stdout",
     "output_type": "stream",
     "text": [
      "package 'tidyverse' successfully unpacked and MD5 sums checked\n",
      "\n",
      "The downloaded binary packages are in\n",
      "\tC:\\Users\\alew\\AppData\\Local\\Temp\\Rtmpk7PMfA\\downloaded_packages\n"
     ]
    }
   ],
   "source": [
    "library(xml2)\n",
    "# Importar libreria dplyr\n",
    "library(dplyr)\n",
    "install.packages(\"tidyverse\")\n",
    "library(base)\n"
   ]
  },
  {
   "cell_type": "code",
   "execution_count": 8,
   "metadata": {},
   "outputs": [
    {
     "name": "stderr",
     "output_type": "stream",
     "text": [
      "Warning message in file(file, \"rt\"):\n",
      "\"no fue posible abrir el archivo 'TallerGrupal-Parte1/compras/compras2018_1ero.csv': No such file or directory\""
     ]
    },
    {
     "ename": "ERROR",
     "evalue": "Error in file(file, \"rt\"): no se puede abrir la conexión\n",
     "output_type": "error",
     "traceback": [
      "Error in file(file, \"rt\"): no se puede abrir la conexión\nTraceback:\n",
      "1. read.csv(archivo_csv, sep = \",\", header = TRUE)",
      "2. read.table(file = file, header = header, sep = sep, quote = quote, \n .     dec = dec, fill = fill, comment.char = comment.char, ...)",
      "3. file(file, \"rt\")"
     ]
    }
   ],
   "source": [
    "archivo_csv = \"TallerGrupal-Parte1/compras/compras2018_1ero.csv\"\n",
    "datos <- read.csv(archivo_csv,sep=\",\",header=TRUE)\n",
    "#head(datos,1)\n",
    "#tail(datos,3)\n",
    "#aniocompra = factor(datos$anio_compra)\n",
    "#Cantidad de datos del Factor aniocompra\n",
    "paste(\"La cantidad de datos es: \",length(aniocompra))\n",
    "group_by(datos,trimws(datos$id_ue))\n"
   ]
  },
  {
   "cell_type": "markdown",
   "metadata": {},
   "source": [
    "# Archivos XML"
   ]
  },
  {
   "cell_type": "code",
   "execution_count": null,
   "metadata": {},
   "outputs": [],
   "source": [
    "reporteEstadosCompra = \"TallerGrupal-Parte1/compras/reporteEstadosCompra.do.xml\"\n",
    "# Activate the `XML` library\n",
    "#library(XML)\n",
    "library(xml2)\n",
    "# Parse the XML file\n",
    "xmlfile <- read_xml(reporteEstadosCompra)\n",
    "print(xmlfile)"
   ]
  },
  {
   "cell_type": "code",
   "execution_count": null,
   "metadata": {},
   "outputs": [],
   "source": [
    "reporteIncisos = \"TallerGrupal-Parte1/compras/reporteIncisos.do.xml\"\n",
    "# Activate the `XML` library\n",
    "#library(XML)\n",
    "library(xml2)\n",
    "# Parse the XML file\n",
    "xmlfile <- read_xml(reporteIncisos)\n",
    "print(xmlfile)"
   ]
  },
  {
   "cell_type": "code",
   "execution_count": null,
   "metadata": {},
   "outputs": [],
   "source": [
    "reporteIncisos = \"TallerGrupal-Parte1/compras/reporteIncisos.do.xml\"\n",
    "# Activate the `XML` library\n",
    "#library(XML)\n",
    "library(xml2)\n",
    "# Parse the XML file\n",
    "xmlfile <- read_xml(reporteIncisos)\n",
    "print(xmlfile)"
   ]
  },
  {
   "cell_type": "code",
   "execution_count": 9,
   "metadata": {},
   "outputs": [
    {
     "ename": "ERROR",
     "evalue": "Error: 'TallerGrupal-Parte1/compras/reporteEstadosCompra.do.xml' does not exist in current working directory ('C:/Users/alew/Documents/UTEC Tecnologo en Tecnologias de la Informacion/6 - SextoSemestre/Analisis de Datos/TallerAnalisisDatos/datos').\n",
     "output_type": "error",
     "traceback": [
      "Error: 'TallerGrupal-Parte1/compras/reporteEstadosCompra.do.xml' does not exist in current working directory ('C:/Users/alew/Documents/UTEC Tecnologo en Tecnologias de la Informacion/6 - SextoSemestre/Analisis de Datos/TallerAnalisisDatos/datos').\nTraceback:\n",
      "1. read_xml(archivo_xml)",
      "2. read_xml.character(archivo_xml)",
      "3. path_to_connection(x)",
      "4. check_path(path)",
      "5. stop(\"'\", path, \"' does not exist\", if (!is_absolute_path(path)) paste0(\" in current working directory ('\", \n .     getwd(), \"')\"), \".\", call. = FALSE)"
     ]
    }
   ],
   "source": [
    "library(xml2)\n",
    "archivo_xml = \"TallerGrupal-Parte1/compras/reporteEstadosCompra.do.xml\"\n",
    "pg <- read_xml(archivo_xml)\n",
    "\n",
    "# get all the <record>s\n",
    "recs <- xml_find_all(pg, \"//record\")\n",
    "\n",
    "# extract and clean all the columns\n",
    "vals <- trimws(xml_text(recs))\n",
    "\n",
    "# extract and clean (if needed) the area names\n",
    "labs <- trimws(xml_attr(recs, \"label\"))\n",
    "\n",
    "# mine the column names from the two variable descriptions\n",
    "# this XPath construct lets us grab either the <categ…> or <real…> tags\n",
    "# and then grabs the 'name' attribute of them\n",
    "#cols <- xml_attr(xml_find_all(pg, \"//data/variables/*[self::categoricalvariable or\n",
    " #                                                     self::realvariable]\"), \"name\")\n",
    "\n",
    "# this converts each set of <record> columns to a data frame\n",
    "# after first converting each row to numeric and assigning\n",
    "# names to each column (making it easier to do the matrix to data frame conv)\n",
    "#dat <- do.call(rbind, lapply(strsplit(vals, \"\\ +\"),function(x) {data.frame(rbind(setNames(as.numeric(x),cols)))}))\n",
    "\n",
    "# then assign the area name column to the data frame\n",
    "#dat$area_name <- labs\n",
    "\n",
    "#head(dat)\n",
    "\n",
    "head(vals)"
   ]
  },
  {
   "cell_type": "code",
   "execution_count": null,
   "metadata": {},
   "outputs": [],
   "source": [
    "\n",
    "# Importar libreria dplyr\n",
    "library(dplyr)\n",
    "install.packages(\"tidyverse\")\n",
    "zoo<-read.csv(\"zoo.csv\",sep=\",\",header=TRUE)\n",
    "length(zoo$animal)\n",
    "sum(zoo$water_need)\n",
    "#zoo.groupby('animal').mean()\n",
    "print(zoo)\n",
    "#zoo.groupby('animal').mean()\n",
    "group_by(zoo,animal)"
   ]
  },
  {
   "cell_type": "code",
   "execution_count": null,
   "metadata": {},
   "outputs": [],
   "source": []
  },
  {
   "cell_type": "code",
   "execution_count": null,
   "metadata": {},
   "outputs": [],
   "source": []
  },
  {
   "cell_type": "code",
   "execution_count": null,
   "metadata": {},
   "outputs": [],
   "source": []
  },
  {
   "cell_type": "code",
   "execution_count": null,
   "metadata": {},
   "outputs": [],
   "source": []
  }
 ],
 "metadata": {
  "kernelspec": {
   "display_name": "R",
   "language": "R",
   "name": "ir"
  },
  "language_info": {
   "codemirror_mode": "r",
   "file_extension": ".r",
   "mimetype": "text/x-r-source",
   "name": "R",
   "pygments_lexer": "r",
   "version": "3.6.1"
  }
 },
 "nbformat": 4,
 "nbformat_minor": 2
}
