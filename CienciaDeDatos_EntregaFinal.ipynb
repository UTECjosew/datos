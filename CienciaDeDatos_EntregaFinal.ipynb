{
 "cells": [
  {
   "cell_type": "markdown",
   "metadata": {},
   "source": [
    "# Taller Ciencia de Datos \n",
    "\n",
    "### ***Tarea Laboratorio 2019***\n",
    "\n",
    "![DevIt](logo.jpg)\n",
    "\n",
    "---\n",
    "<div class=\"text-center\"> Andrea Correa </div>\n",
    "<div class=\"text-center\">Maria Laura Gayo </div>\n",
    "<div class=\"text-center\"> Mariano Koci </div>\n",
    "<div class=\"text-center\">Alejandro Wohlwend </div>\n",
    "<div class=\"text-center\">Renzo Daset </div>\n",
    "<div class=\"text-center\">Laura Rodriguez </div>\n",
    "\n",
    "---\n",
    "\n",
    "\n",
    "<a id='Indice'></a>\n",
    "### Índice\n",
    "\n",
    "1. [Objetivo](#Objetivo)\n",
    "\n",
    "2. [Metodología](#Metodología)\n",
    "\n",
    "3. [Realidad Planteada](#Realidad)\n",
    "\n",
    "4. [Requerimientos Planteados](#Realidad)\n",
    "\n",
    "5. [Adquisición de datos](#Adquisicion-Datos)\n",
    "    5. [Import de CSV](#Import-CSV)\n",
    "    5. [Unión de archivos](#Union)\n",
    "    \n",
    "6. [Transformación de los datos](#Transformacion)\n",
    "    7. [Transformación de Adjudicaciones](#Transformación-Adjudicaciones)\n",
    "    7. [Transformación de Monedas](#Transformación-Moneda)\n",
    "    7. [Transformación de valor 0 ](#Transformación-Invalidos)\n",
    "    \n",
    "8. [Análisis de los objetivos del Negocio y como se mapeo a los datos disponibles](#Analisis)\n",
    "\n",
    "9. [Análisis y visualización para los requerimientos de negocio](#Visualización)\n",
    "\n",
    "10. [Conclusiones](#Conclusiones)\n",
    "\n",
    "---"
   ]
  },
  {
   "cell_type": "markdown",
   "metadata": {},
   "source": [
    "## Objetivo"
   ]
  },
  {
   "cell_type": "markdown",
   "metadata": {},
   "source": [
    "Esta tarea pretende la puesta en práctica y profundización por parte el estudiante de los\n",
    "siguientes puntos vistos en el taller:\n",
    "- Entender cómo se implementa una ingesta de datos\n",
    "- Poner en práctica técnicas para el análisis de la calidad de un conjunto de datos\n",
    "- Practicar con herramientas de visualización de datos\n",
    "- Aplicar la metodología de trabajo vista en el taller"
   ]
  },
  {
   "cell_type": "markdown",
   "metadata": {},
   "source": [
    "## Metodología"
   ]
  },
  {
   "cell_type": "markdown",
   "metadata": {},
   "source": [
    "Vamos a utilizar la metodología **_CRISP-DM_**, pasando por las etapas que se detallan a continuación:\n",
    "1.\tBusiness understanding\n",
    "2.\tData understanding (adquisición de datos o ingesta de datos)\n",
    "3.\tData preparation"
   ]
  },
  {
   "cell_type": "markdown",
   "metadata": {},
   "source": [
    "## Realidad planteada"
   ]
  },
  {
   "cell_type": "markdown",
   "metadata": {},
   "source": [
    "De cara a un año electoral muy reñido, de acuerdo a todos los pronósticos, el prestigioso\n",
    "diario “ El Durazno Post ” se propuso acercar a sus lectores un informe especial sobre las\n",
    "compras realizadas por el estado en el último período de gobierno. Como el diario no cuenta\n",
    "con científicos de datos, le ha encomendado a usted y su equipo la tarea de realizar un\n",
    "estudio inicial sobre dichos datos para validar la viabilidad del informe periodístico.\n",
    "Los datos a analizar, provienen del sitio de Compras Estatales[1], el cual pone a disposición\n",
    "varios conjuntos de datos sobre las compras realizadas por el estado, a través del Catálogo\n",
    "de Datos Abiertos del Estado [2]. En particular, de todos los datos que publica esta agencia,\n",
    "en esta etapa solamente interesa analizar el conjunto de datos de Adjudicaciones 2018 [2],\n",
    "el cual contiene todas las adjudicaciones de compras realizadas por el estado en dicho año.\n",
    "El conjunto de datos es un archivo de tipo .csv y utiliza codigueras para los valores de\n",
    "algunas de los campos. Para interpretar correctamente la información de estos códigos, se\n",
    "cuenta con la información de todas las codigeras utilizadas, en archivos de tipo .xml [4]."
   ]
  },
  {
   "cell_type": "markdown",
   "metadata": {},
   "source": [
    "<a id='Analisis'></a>\n",
    "## Requerimientos planteados\n",
    "\n",
    "[Inicio ▲](#Indice)\n",
    "\n",
    "---\n",
    "*Se quiere obtener la siguiente información a partir de los datos*\n",
    "&nbsp;\n",
    "\n",
    "1. TOP 20 de las organizaciones que gastaron más dinero (ordenados de forma descendente).\n",
    "2. TOP 50 de las compras más caras.\n",
    "3. Agregación de monto total por tipo de producto\n",
    "4. TOP 10 de las unidades ejecutoras que más compraron en el periodo\n",
    "5. Compras directas mayores $436.000.\n"
   ]
  },
  {
   "cell_type": "markdown",
   "metadata": {},
   "source": [
    "<a id='Adquisicion-Datos'></a>\n",
    "## Adquisición de los Datos\n",
    "[Inicio ▲](#Indice)\n"
   ]
  },
  {
   "cell_type": "markdown",
   "metadata": {},
   "source": [
    "En esta etapa vamos a realizar la carga de los datos desde las fuentes brindadas (archivos .csv).\n",
    "\n",
    "En un primer análisis podremos ver que información es necesaria para el cumplimiento de los requerimientos planteados.\n",
    "\n",
    "\n",
    "Nuestra fuente para obtener los datos para analizar son fuentes de datos abiertos correspondientes al catálogo de datos abiertos del Estado, puntualmente los conjuntos de datos de Adjudicaciones 2018 que contiene las compras realizadas por el Estado en dicho año.\n",
    "Partimos de la carga de tres archivos con formato .csv, dos de ellos corresponden a las compras realizadas por semestre del año y el otro contiene los metadatos para poder inferir información. Además realizamos la carga de archivos de extensión .xml que cuentan con la información de todas las codigueras utilizadas en los archivos .csv para su mejor interpretación.\n",
    "\n",
    "Hicimos uso de distintas librerías que provee R como **_downloader y dyplr_** para poder acceder a los archivos en los formatos especificados y manerajarlos en el entorno."
   ]
  }
 ],
 "metadata": {
  "kernelspec": {
   "display_name": "R",
   "language": "R",
   "name": "ir"
  },
  "language_info": {
   "codemirror_mode": "r",
   "file_extension": ".r",
   "mimetype": "text/x-r-source",
   "name": "R",
   "pygments_lexer": "r",
   "version": "3.6.1"
  }
 },
 "nbformat": 4,
 "nbformat_minor": 2
}
