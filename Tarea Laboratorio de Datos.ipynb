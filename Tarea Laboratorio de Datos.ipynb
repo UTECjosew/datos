{
 "cells": [
  {
   "cell_type": "markdown",
   "metadata": {},
   "source": [
    " # Taller Ciencia de Datos \n",
    "\n",
    "### ***Tarea Laboratorio 2019***\n",
    "\n",
    "---\n",
    "<div class=\"text-center\"> Andrea Correa </div>\n",
    "<div class=\"text-center\">Maria Laura Gayo </div>\n",
    "<div class=\"text-center\"> Mariano Koci </div>\n",
    "<div class=\"text-center\">Alejandro Wohlwend </div>\n",
    "<div class=\"text-center\">Renzo Daset </div>\n",
    "<div class=\"text-center\">Laura Rodriguez </div>\n",
    "\n",
    "---\n",
    "\n",
    "\n",
    "<a id='Indice'></a>\n",
    "### Índice\n",
    "\n",
    "1. [Adquisición de datos](#Adquisicion-Datos)\n",
    "    1. [Import de CSV](#Import-CSV)\n",
    "    1. [Unión de archivos](#Union)\n",
    "    \n",
    "2. [Transformación de los datos](#Transformacion)\n",
    "    2. [Transformación de Adjudicaciones](#Transformación-Adjudicaciones)\n",
    "    2. [Transformación de Monedas](#Transformación-Moneda)\n",
    "    2. [Transformación de valor 0 ](#Transformación-Invalidos)\n",
    "    \n",
    "3. [Análisis de los objetivos del Negocio y como se mapeo a los datos disponibles](#Analisis)\n",
    "\n",
    "4. [Análisis y visualización para los requerimientos de negocio](#Visualización)\n",
    "\n",
    "5. [Conclusiones](#Conclusiones)\n",
    "\n",
    "---"
   ]
  },
  {
   "cell_type": "code",
   "execution_count": null,
   "metadata": {},
   "outputs": [],
   "source": [
    "# Importamos la libreria dplyr\n",
    "library(dplyr)\n",
    "install.packages(\"tidyverse\")"
   ]
  },
  {
   "cell_type": "code",
   "execution_count": null,
   "metadata": {},
   "outputs": [],
   "source": [
    "install.packages('DataExplorer') \n",
    "library(DataExplorer); library(dplyr)  "
   ]
  },
  {
   "cell_type": "markdown",
   "metadata": {},
   "source": [
    "<a id='Adquisicion-Datos'></a>\n",
    "### Adquisición de los Datos\n",
    "[Inicio ▲](#Indice)\n",
    "\n",
    "---\n",
    "\n",
    " La ingesta de datos se realizó  mediante los pasos que se muestran a continuación:\n",
    "\n",
    "\n"
   ]
  },
  {
   "cell_type": "code",
   "execution_count": 1,
   "metadata": {},
   "outputs": [],
   "source": [
    "# Importamos los archivos CSV\n",
    "archivo <- \"compras2018_1ero.csv\"\n",
    "archivo2 <- \"compras2018_2do.csv\""
   ]
  },
  {
   "cell_type": "code",
   "execution_count": 2,
   "metadata": {},
   "outputs": [],
   "source": [
    "# Cargamos datos del archivo\n",
    "datos <- read.csv(archivo)"
   ]
  },
  {
   "cell_type": "code",
   "execution_count": 3,
   "metadata": {},
   "outputs": [],
   "source": [
    "# Cargamos datos del archivo\n",
    "datos2 <- read.csv(archivo2)"
   ]
  },
  {
   "cell_type": "code",
   "execution_count": 4,
   "metadata": {},
   "outputs": [],
   "source": [
    "# Unimos los datos de ambos archivos\n",
    "datosAll<-rbind(datos,datos2)"
   ]
  },
  {
   "cell_type": "code",
   "execution_count": 5,
   "metadata": {
    "scrolled": true
   },
   "outputs": [
    {
     "ename": "ERROR",
     "evalue": "Error in count(datosAll): no se pudo encontrar la función \"count\"\n",
     "output_type": "error",
     "traceback": [
      "Error in count(datosAll): no se pudo encontrar la función \"count\"\nTraceback:\n"
     ]
    }
   ],
   "source": [
    "# Imprimmimos las primeras filas del CSV\n",
    "count(datosAll) # contamos la cantidad de registros\n",
    "names(datos) # Con 'names' obtenemos todos los nombres de los variables\n",
    "head(datos)\n"
   ]
  },
  {
   "cell_type": "code",
   "execution_count": 7,
   "metadata": {},
   "outputs": [
    {
     "name": "stderr",
     "output_type": "stream",
     "text": [
      "\n",
      "Attaching package: 'dplyr'\n",
      "\n",
      "The following objects are masked from 'package:stats':\n",
      "\n",
      "    filter, lag\n",
      "\n",
      "The following objects are masked from 'package:base':\n",
      "\n",
      "    intersect, setdiff, setequal, union\n",
      "\n"
     ]
    },
    {
     "name": "stdout",
     "output_type": "stream",
     "text": [
      "package 'tidyverse' successfully unpacked and MD5 sums checked\n",
      "\n",
      "The downloaded binary packages are in\n",
      "\tC:\\Users\\alew\\AppData\\Local\\Temp\\RtmpYFuW95\\downloaded_packages\n"
     ]
    }
   ],
   "source": [
    "# Importamos la libreria dplyr\n",
    "library(dplyr)\n",
    "install.packages(\"tidyverse\")"
   ]
  },
  {
   "cell_type": "markdown",
   "metadata": {},
   "source": [
    "<a id='Analisis'></a>\n",
    "### Análisis de los requerimientos planteados\n",
    "\n",
    "[Inicio ▲](#Indice)\n",
    "\n",
    "---\n",
    "*Se quiere obtener la siguiente información a partir de los datos*\n",
    "&nbsp;\n",
    "\n",
    "1. TOP 20 de las organizaciones que gastaron más dinero (ordenados de forma descendente).\n",
    "2. TOP 50 de las compras más caras.\n",
    "3. Agregación de monto total por tipo de producto\n",
    "4. TOP 10 de las unidades ejecutoras que más compraron en el periodo\n",
    "5. Compras directas mayores $436.000.\n"
   ]
  },
  {
   "cell_type": "markdown",
   "metadata": {},
   "source": [
    "**Descripción de los puntos solicitados:**\n"
   ]
  },
  {
   "cell_type": "markdown",
   "metadata": {},
   "source": [
    "1. Con cuántos datos cuentan para el análisis?\n",
    "<br>\n",
    "Para el análisis se cuenta con 55373 registros.\n",
    "2. Cuáles columnas cree que serán de utilidad para resolver los requerimientos planteados ?\n",
    "<br>\n",
    "Según los requerimientos planteados y los datos disponibles para el análisis consideramos que son necesarias las columnas que se seleccionan en la siguiente línea.\n",
    "Por otro lado para cumplir con el requerimiento \"Agregación de monto total por tipo de producto\", se nos presenta la siguiente dificultad:\n",
    "        Consideramos que la columna a utilizar es la llamada \"objeto\", al observar los datos que se incluyen en ella encontramos que no poseen la estructura necesaria para una óptima agrupación (corresponden a diferentes tipos de datos y no cumplen con ningún patrón). Debido a esto consideramos utilizar la columna \"subtipo_compra\" la cual contiene un patrón ordenable de datos, pero en este caso la mayoría de los registros son clasificados con \"COM\",  que corresponde al tipo de compra \"COMÚN\". \n",
    "3. Qué problema identifica con los datos cargados si es que los hay.\n",
    "<br>\n",
    "Uno de los problemas, se plantea en el punto 2, en el caso de que sea necesaria la utilización de la columna OBJETO.\n",
    "El otro problema que se presenta es referido a la identificación de aquellos registros con codigeras asociadas a sus descripciones.\n"
   ]
  },
  {
   "cell_type": "code",
   "execution_count": 16,
   "metadata": {},
   "outputs": [
    {
     "name": "stdout",
     "output_type": "stream",
     "text": [
      "'data.frame':\t55373 obs. of  5 variables:\n",
      " $ anio_compra        : int  2017 2017 2017 2017 2017 2017 2017 2017 2017 2017 ...\n",
      " $ id_inciso          : int  26 29 26 25 12 26 3 85 12 9 ...\n",
      " $ id_moneda_monto_adj: int  1 0 0 0 0 0 0 0 0 0 ...\n",
      " $ id_ue              : int  31 103 16 1 103 16 1 1 103 1 ...\n",
      " $ monto_adj          : num  17910 12195 12468 0 13908 ...\n"
     ]
    }
   ],
   "source": [
    "# Selecciona solamente las columnas Anio_Compra, id_moneda_monto_adj, id_ue, monto_adj,  \n",
    "dataSelect <- select(datosAll, anio_compra, id_inciso,id_moneda_monto_adj, id_ue, monto_adj)\n",
    "str(dataSelect)"
   ]
  },
  {
   "cell_type": "markdown",
   "metadata": {},
   "source": []
  },
  {
   "cell_type": "code",
   "execution_count": 9,
   "metadata": {},
   "outputs": [
    {
     "data": {
      "text/html": [
       "<table>\n",
       "<thead><tr><th scope=col>anio_compra</th><th scope=col>id_inciso</th><th scope=col>id_moneda_monto_adj</th><th scope=col>id_ue</th><th scope=col>monto_adj</th></tr></thead>\n",
       "<tbody>\n",
       "\t<tr><td>2017      </td><td>26        </td><td>1         </td><td> 31       </td><td>  17910.00</td></tr>\n",
       "\t<tr><td>2017      </td><td>29        </td><td>0         </td><td>103       </td><td>  12195.03</td></tr>\n",
       "\t<tr><td>2017      </td><td>26        </td><td>0         </td><td> 16       </td><td>  12468.40</td></tr>\n",
       "\t<tr><td>2017      </td><td>25        </td><td>0         </td><td>  1       </td><td>      0.00</td></tr>\n",
       "\t<tr><td>2017      </td><td>12        </td><td>0         </td><td>103       </td><td>  13908.00</td></tr>\n",
       "\t<tr><td>2017      </td><td>26        </td><td>0         </td><td> 16       </td><td>1679118.94</td></tr>\n",
       "</tbody>\n",
       "</table>\n"
      ],
      "text/latex": [
       "\\begin{tabular}{r|lllll}\n",
       " anio\\_compra & id\\_inciso & id\\_moneda\\_monto\\_adj & id\\_ue & monto\\_adj\\\\\n",
       "\\hline\n",
       "\t 2017       & 26         & 1          &  31        &   17910.00\\\\\n",
       "\t 2017       & 29         & 0          & 103        &   12195.03\\\\\n",
       "\t 2017       & 26         & 0          &  16        &   12468.40\\\\\n",
       "\t 2017       & 25         & 0          &   1        &       0.00\\\\\n",
       "\t 2017       & 12         & 0          & 103        &   13908.00\\\\\n",
       "\t 2017       & 26         & 0          &  16        & 1679118.94\\\\\n",
       "\\end{tabular}\n"
      ],
      "text/markdown": [
       "\n",
       "| anio_compra | id_inciso | id_moneda_monto_adj | id_ue | monto_adj |\n",
       "|---|---|---|---|---|\n",
       "| 2017       | 26         | 1          |  31        |   17910.00 |\n",
       "| 2017       | 29         | 0          | 103        |   12195.03 |\n",
       "| 2017       | 26         | 0          |  16        |   12468.40 |\n",
       "| 2017       | 25         | 0          |   1        |       0.00 |\n",
       "| 2017       | 12         | 0          | 103        |   13908.00 |\n",
       "| 2017       | 26         | 0          |  16        | 1679118.94 |\n",
       "\n"
      ],
      "text/plain": [
       "  anio_compra id_inciso id_moneda_monto_adj id_ue monto_adj \n",
       "1 2017        26        1                    31     17910.00\n",
       "2 2017        29        0                   103     12195.03\n",
       "3 2017        26        0                    16     12468.40\n",
       "4 2017        25        0                     1         0.00\n",
       "5 2017        12        0                   103     13908.00\n",
       "6 2017        26        0                    16   1679118.94"
      ]
     },
     "metadata": {},
     "output_type": "display_data"
    }
   ],
   "source": [
    "# Imprimo primeras filas del CSV\n",
    "head(dataSelect)"
   ]
  },
  {
   "cell_type": "code",
   "execution_count": 10,
   "metadata": {},
   "outputs": [
    {
     "data": {
      "text/html": [
       "<table>\n",
       "<thead><tr><th scope=col>id_inciso</th><th scope=col>id_ue</th><th scope=col>monto</th></tr></thead>\n",
       "<tbody>\n",
       "\t<tr><td>25        </td><td> 4        </td><td>2904185818</td></tr>\n",
       "\t<tr><td>88        </td><td> 1        </td><td>   9557438</td></tr>\n",
       "\t<tr><td>53        </td><td> 1        </td><td>   8349217</td></tr>\n",
       "\t<tr><td>90        </td><td> 1        </td><td>   4191063</td></tr>\n",
       "\t<tr><td>50        </td><td> 1        </td><td>   3125982</td></tr>\n",
       "\t<tr><td>26        </td><td>19        </td><td>   3092099</td></tr>\n",
       "\t<tr><td>97        </td><td> 1        </td><td>   2831371</td></tr>\n",
       "\t<tr><td>93        </td><td> 1        </td><td>   2426569</td></tr>\n",
       "\t<tr><td>40        </td><td> 4        </td><td>   2279624</td></tr>\n",
       "\t<tr><td>29        </td><td>26        </td><td>   2223533</td></tr>\n",
       "\t<tr><td>86        </td><td> 2        </td><td>   2195533</td></tr>\n",
       "\t<tr><td>80        </td><td> 1        </td><td>   2114762</td></tr>\n",
       "\t<tr><td>94        </td><td> 1        </td><td>   2110972</td></tr>\n",
       "\t<tr><td>84        </td><td> 1        </td><td>   1845486</td></tr>\n",
       "\t<tr><td>26        </td><td>30        </td><td>   1649849</td></tr>\n",
       "\t<tr><td>51        </td><td> 1        </td><td>   1507410</td></tr>\n",
       "\t<tr><td>29        </td><td>21        </td><td>   1469908</td></tr>\n",
       "\t<tr><td>26        </td><td> 9        </td><td>   1414563</td></tr>\n",
       "\t<tr><td>29        </td><td>57        </td><td>   1378406</td></tr>\n",
       "\t<tr><td>85        </td><td> 1        </td><td>   1363285</td></tr>\n",
       "</tbody>\n",
       "</table>\n"
      ],
      "text/latex": [
       "\\begin{tabular}{r|lll}\n",
       " id\\_inciso & id\\_ue & monto\\\\\n",
       "\\hline\n",
       "\t 25         &  4         & 2904185818\\\\\n",
       "\t 88         &  1         &    9557438\\\\\n",
       "\t 53         &  1         &    8349217\\\\\n",
       "\t 90         &  1         &    4191063\\\\\n",
       "\t 50         &  1         &    3125982\\\\\n",
       "\t 26         & 19         &    3092099\\\\\n",
       "\t 97         &  1         &    2831371\\\\\n",
       "\t 93         &  1         &    2426569\\\\\n",
       "\t 40         &  4         &    2279624\\\\\n",
       "\t 29         & 26         &    2223533\\\\\n",
       "\t 86         &  2         &    2195533\\\\\n",
       "\t 80         &  1         &    2114762\\\\\n",
       "\t 94         &  1         &    2110972\\\\\n",
       "\t 84         &  1         &    1845486\\\\\n",
       "\t 26         & 30         &    1649849\\\\\n",
       "\t 51         &  1         &    1507410\\\\\n",
       "\t 29         & 21         &    1469908\\\\\n",
       "\t 26         &  9         &    1414563\\\\\n",
       "\t 29         & 57         &    1378406\\\\\n",
       "\t 85         &  1         &    1363285\\\\\n",
       "\\end{tabular}\n"
      ],
      "text/markdown": [
       "\n",
       "| id_inciso | id_ue | monto |\n",
       "|---|---|---|\n",
       "| 25         |  4         | 2904185818 |\n",
       "| 88         |  1         |    9557438 |\n",
       "| 53         |  1         |    8349217 |\n",
       "| 90         |  1         |    4191063 |\n",
       "| 50         |  1         |    3125982 |\n",
       "| 26         | 19         |    3092099 |\n",
       "| 97         |  1         |    2831371 |\n",
       "| 93         |  1         |    2426569 |\n",
       "| 40         |  4         |    2279624 |\n",
       "| 29         | 26         |    2223533 |\n",
       "| 86         |  2         |    2195533 |\n",
       "| 80         |  1         |    2114762 |\n",
       "| 94         |  1         |    2110972 |\n",
       "| 84         |  1         |    1845486 |\n",
       "| 26         | 30         |    1649849 |\n",
       "| 51         |  1         |    1507410 |\n",
       "| 29         | 21         |    1469908 |\n",
       "| 26         |  9         |    1414563 |\n",
       "| 29         | 57         |    1378406 |\n",
       "| 85         |  1         |    1363285 |\n",
       "\n"
      ],
      "text/plain": [
       "   id_inciso id_ue monto     \n",
       "1  25         4    2904185818\n",
       "2  88         1       9557438\n",
       "3  53         1       8349217\n",
       "4  90         1       4191063\n",
       "5  50         1       3125982\n",
       "6  26        19       3092099\n",
       "7  97         1       2831371\n",
       "8  93         1       2426569\n",
       "9  40         4       2279624\n",
       "10 29        26       2223533\n",
       "11 86         2       2195533\n",
       "12 80         1       2114762\n",
       "13 94         1       2110972\n",
       "14 84         1       1845486\n",
       "15 26        30       1649849\n",
       "16 51         1       1507410\n",
       "17 29        21       1469908\n",
       "18 26         9       1414563\n",
       "19 29        57       1378406\n",
       "20 85         1       1363285"
      ]
     },
     "metadata": {},
     "output_type": "display_data"
    }
   ],
   "source": [
    "#Agrupamos los datos \n",
    "\n",
    "# group_by(dataSelect, dataSelect$id_ue)\n",
    "datosOrdenados <-dataSelect %>% group_by(id_inciso,id_ue) %>% summarise(monto = mean(monto_adj))\n",
    "f<-arrange(datosOrdenados, desc(monto))\n",
    "head(f, 20)"
   ]
  },
  {
   "cell_type": "code",
   "execution_count": null,
   "metadata": {},
   "outputs": [],
   "source": []
  },
  {
   "cell_type": "code",
   "execution_count": 11,
   "metadata": {},
   "outputs": [
    {
     "name": "stdout",
     "output_type": "stream",
     "text": [
      "{xml_document}\n",
      "<unidades-ejecutoras>\n",
      " [1] <unidad-ejecutora id-inciso=\"1\" id-ue=\"1\" nom-ue=\"Cámara de Senadores\"/>\n",
      " [2] <unidad-ejecutora id-inciso=\"1\" id-ue=\"2\" nom-ue=\"Cámara de Representant ...\n",
      " [3] <unidad-ejecutora id-inciso=\"1\" id-ue=\"3\" nom-ue=\"Comisión Administrativ ...\n",
      " [4] <unidad-ejecutora id-inciso=\"2\" id-ue=\"1\" nom-ue=\"Presidencia  de la Rep ...\n",
      " [5] <unidad-ejecutora id-inciso=\"2\" id-ue=\"3\" nom-ue=\"Casa Militar\"/>\n",
      " [6] <unidad-ejecutora id-inciso=\"2\" id-ue=\"4\" nom-ue=\"Oficina de Planeamient ...\n",
      " [7] <unidad-ejecutora id-inciso=\"2\" id-ue=\"5\" nom-ue=\"NO VIGENTE - Dirección ...\n",
      " [8] <unidad-ejecutora id-inciso=\"2\" id-ue=\"6\" nom-ue=\"Unidad Reguladora de S ...\n",
      " [9] <unidad-ejecutora id-inciso=\"2\" id-ue=\"7\" nom-ue=\"Instituto Nacional de  ...\n",
      "[10] <unidad-ejecutora id-inciso=\"2\" id-ue=\"8\" nom-ue=\"Oficina Nacional del S ...\n",
      "[11] <unidad-ejecutora id-inciso=\"2\" id-ue=\"9\" nom-ue=\"Unidad Reguladora de S ...\n",
      "[12] <unidad-ejecutora id-inciso=\"2\" id-ue=\"10\" nom-ue=\"AGESIC\"/>\n",
      "[13] <unidad-ejecutora id-inciso=\"2\" id-ue=\"11\" nom-ue=\"Secretaría  Nacional  ...\n",
      "[14] <unidad-ejecutora id-inciso=\"3\" id-ue=\"1\" nom-ue=\"Dirección General de S ...\n",
      "[15] <unidad-ejecutora id-inciso=\"3\" id-ue=\"3\" nom-ue=\"Estado Mayor de la Def ...\n",
      "[16] <unidad-ejecutora id-inciso=\"3\" id-ue=\"4\" nom-ue=\"Comando General del Ej ...\n",
      "[17] <unidad-ejecutora id-inciso=\"3\" id-ue=\"18\" nom-ue=\"Comando General de la ...\n",
      "[18] <unidad-ejecutora id-inciso=\"3\" id-ue=\"23\" nom-ue=\"Comando General de la ...\n",
      "[19] <unidad-ejecutora id-inciso=\"3\" id-ue=\"30\" nom-ue=\"Ex-Dirección Nacional ...\n",
      "[20] <unidad-ejecutora id-inciso=\"3\" id-ue=\"31\" nom-ue=\"Ex-Dirección General  ...\n",
      "...\n"
     ]
    }
   ],
   "source": [
    "archivo_xml = \"reporteUnidadesEjecutoras.do.xml\"\n",
    "# Activate the `XML` library\n",
    "#library(XML)\n",
    "library(xml2)\n",
    "# Parse the XML file\n",
    "xmlfile <- read_xml(archivo_xml)\n",
    "print(xmlfile)"
   ]
  },
  {
   "cell_type": "code",
   "execution_count": 12,
   "metadata": {},
   "outputs": [
    {
     "name": "stdout",
     "output_type": "stream",
     "text": [
      "{xml_document}\n",
      "<incisos>\n",
      " [1] <inciso id-inciso=\"1\" nom-inciso=\"Poder Legislativo\"/>\n",
      " [2] <inciso id-inciso=\"2\" nom-inciso=\"Presidencia de la República\"/>\n",
      " [3] <inciso id-inciso=\"3\" nom-inciso=\"Ministerio de Defensa Nacional\"/>\n",
      " [4] <inciso id-inciso=\"4\" nom-inciso=\"Ministerio del Interior\"/>\n",
      " [5] <inciso id-inciso=\"5\" nom-inciso=\"Ministerio de Economía y Finanzas\"/>\n",
      " [6] <inciso id-inciso=\"6\" nom-inciso=\"Ministerio de Relaciones Exteriores\"/>\n",
      " [7] <inciso id-inciso=\"7\" nom-inciso=\"Ministerio de Ganadería, Agricultura y ...\n",
      " [8] <inciso id-inciso=\"8\" nom-inciso=\"Ministerio de Industria, Energía y Min ...\n",
      " [9] <inciso id-inciso=\"9\" nom-inciso=\"Ministerio de Turismo\"/>\n",
      "[10] <inciso id-inciso=\"10\" nom-inciso=\"Ministerio de Transporte y Obras Públ ...\n",
      "[11] <inciso id-inciso=\"11\" nom-inciso=\"Ministerio de Educación y Cultura\"/>\n",
      "[12] <inciso id-inciso=\"12\" nom-inciso=\"Ministerio de Salud Pública\"/>\n",
      "[13] <inciso id-inciso=\"13\" nom-inciso=\"Ministerio de Trabajo y Seguridad Soc ...\n",
      "[14] <inciso id-inciso=\"14\" nom-inciso=\"Ministerio de Vivienda, Ordenamiento  ...\n",
      "[15] <inciso id-inciso=\"15\" nom-inciso=\"Ministerio de Desarrollo Social\"/>\n",
      "[16] <inciso id-inciso=\"16\" nom-inciso=\"Poder Judicial\"/>\n",
      "[17] <inciso id-inciso=\"17\" nom-inciso=\"Tribunal de Cuentas\"/>\n",
      "[18] <inciso id-inciso=\"18\" nom-inciso=\"Corte Electoral\"/>\n",
      "[19] <inciso id-inciso=\"19\" nom-inciso=\"Tribunal de lo Contencioso Administra ...\n",
      "[20] <inciso id-inciso=\"24\" nom-inciso=\"Diversos Créditos\"/>\n",
      "...\n"
     ]
    }
   ],
   "source": [
    "archivo_xml = \"reporteIncisos.do.xml\"\n",
    "# Activate the `XML` library\n",
    "#library(XML)\n",
    "library(xml2)\n",
    "# Parse the XML file\n",
    "xmlfile <- read_xml(archivo_xml)\n",
    "print(xmlfile)"
   ]
  },
  {
   "cell_type": "code",
   "execution_count": 13,
   "metadata": {},
   "outputs": [
    {
     "name": "stdout",
     "output_type": "stream",
     "text": [
      "{xml_document}\n",
      "<monedas>\n",
      " [1] <moneda id-moneda=\"0\" desc-moneda=\"PESOS URUGUAYOS\" sigla-moneda=\"$\" id- ...\n",
      " [2] <moneda id-moneda=\"1\" desc-moneda=\"DOLAR PIZARRA VENDEDOR\" sigla-moneda= ...\n",
      " [3] <moneda id-moneda=\"2\" desc-moneda=\"DOLAR INTERBANCARIO VENDEDOR\" sigla-m ...\n",
      " [4] <moneda id-moneda=\"3\" desc-moneda=\"FRANCO FRANCES\" sigla-moneda=\"FF\" id- ...\n",
      " [5] <moneda id-moneda=\"4\" desc-moneda=\"UNIDAD INDEXADA\" sigla-moneda=\"UNIDAD ...\n",
      " [6] <moneda id-moneda=\"5\" desc-moneda=\"UNIDAD REAJUSTABLE\" sigla-moneda=\"UR\" ...\n",
      " [7] <moneda id-moneda=\"6\" desc-moneda=\"MARCO ALEMAN\" sigla-moneda=\"DM\" id-mo ...\n",
      " [8] <moneda id-moneda=\"7\" desc-moneda=\"FRANCO BELGA\" sigla-moneda=\"FB\" id-mo ...\n",
      " [9] <moneda id-moneda=\"8\" desc-moneda=\"DOLAR CANADIENSE\" sigla-moneda=\"DC\" i ...\n",
      "[10] <moneda id-moneda=\"9\" desc-moneda=\"PESETAS\" sigla-moneda=\"PTS\" id-moneda ...\n",
      "[11] <moneda id-moneda=\"10\" desc-moneda=\"FLORINES HOLANDESES\" sigla-moneda=\"F ...\n",
      "[12] <moneda id-moneda=\"11\" desc-moneda=\"LIBRA ESTERLINA\" sigla-moneda=\"£\" id ...\n",
      "[13] <moneda id-moneda=\"12\" desc-moneda=\"YEN\" sigla-moneda=\"YEN\" id-moneda-ar ...\n",
      "[14] <moneda id-moneda=\"13\" desc-moneda=\"CORONA SUECA\" sigla-moneda=\"CS\" id-m ...\n",
      "[15] <moneda id-moneda=\"14\" desc-moneda=\"FRANCO SUIZO\" sigla-moneda=\"FS\" id-m ...\n",
      "[16] <moneda id-moneda=\"15\" desc-moneda=\"EURO\" sigla-moneda=\"EUR\" id-moneda-a ...\n",
      "[17] <moneda id-moneda=\"16\" desc-moneda=\"BOLIVAR\" sigla-moneda=\"BOL\" id-moned ...\n",
      "[18] <moneda id-moneda=\"17\" desc-moneda=\"DERECHOS ESPECIALES DE GIRO\" sigla-m ...\n",
      "[19] <moneda id-moneda=\"18\" desc-moneda=\"UNIDAD REAJUSTABLE DE ALQUILERES\" si ...\n",
      "[20] <moneda id-moneda=\"19\" desc-moneda=\"UNIDAD DE AHORRO REAJUSTABLE\" sigla- ...\n",
      "...\n"
     ]
    }
   ],
   "source": [
    "archivo_xml = \"reporteMonedas.do.xml\"\n",
    "# Activate the `XML` library\n",
    "#library(XML)\n",
    "library(xml2)\n",
    "# Parse the XML file\n",
    "xmlfile <- read_xml(archivo_xml)\n",
    "print(xmlfile)"
   ]
  },
  {
   "cell_type": "code",
   "execution_count": 14,
   "metadata": {},
   "outputs": [
    {
     "name": "stdout",
     "output_type": "stream",
     "text": [
      "{xml_document}\n",
      "<objetos-gasto>\n",
      " [1] <objeto-gasto odg=\"111000\" descripcion=\"ALIMENTOS PARA PERSONAS\"/>\n",
      " [2] <objeto-gasto odg=\"112000\" descripcion=\"ALIMENTOS PARA ANIMALES\"/>\n",
      " [3] <objeto-gasto odg=\"113000\" descripcion=\"PRODUCTOS PECUARIOS\"/>\n",
      " [4] <objeto-gasto odg=\"114000\" descripcion=\"PRODUCTOS AGROFORESTALES Y SUS M ...\n",
      " [5] <objeto-gasto odg=\"115000\" descripcion=\"MATERIA PRIMA AGROPECUARIA Y FOR ...\n",
      " [6] <objeto-gasto odg=\"116000\" descripcion=\"MATERIAS PRIMAS DE ORIGEN ACUÁTI ...\n",
      " [7] <objeto-gasto odg=\"119000\" descripcion=\"OTROS PROD ALIMENTICIOS AGROPECU ...\n",
      " [8] <objeto-gasto odg=\"121000\" descripcion=\"HILADOS Y TELAS\"/>\n",
      " [9] <objeto-gasto odg=\"122000\" descripcion=\"PRENDAS DE VESTIR\"/>\n",
      "[10] <objeto-gasto odg=\"123000\" descripcion=\"CONFECCIONES TEXTILES\"/>\n",
      "[11] <objeto-gasto odg=\"124000\" descripcion=\"CUERO, PIELES Y SIMILARES\"/>\n",
      "[12] <objeto-gasto odg=\"129000\" descripcion=\"OTROS PROD TEXTILES, PRENDAS DE  ...\n",
      "[13] <objeto-gasto odg=\"131000\" descripcion=\"PAPELES DE OFICINA\"/>\n",
      "[14] <objeto-gasto odg=\"132000\" descripcion=\"PRODUCTOS DE PAPEL Y CARTON\"/>\n",
      "[15] <objeto-gasto odg=\"133000\" descripcion=\"FORMULARIOS, IMPRESOS Y SIMILARE ...\n",
      "[16] <objeto-gasto odg=\"134000\" descripcion=\"PRODUCTOS DE ARTES GRAFICAS\"/>\n",
      "[17] <objeto-gasto odg=\"135000\" descripcion=\"LIBROS, REVISTAS Y OTRAS PUBLICA ...\n",
      "[18] <objeto-gasto odg=\"136000\" descripcion=\"ESPECIES TIMBRADAS Y VALORADAS\"/>\n",
      "[19] <objeto-gasto odg=\"139000\" descripcion=\"OTROS PROD. DE PAPEL LIBROS E IM ...\n",
      "[20] <objeto-gasto odg=\"141000\" descripcion=\"COMBUSTIBLES DERIVADOS DEL PETRO ...\n",
      "...\n"
     ]
    }
   ],
   "source": [
    "archivo_xml = \"reporteObjetosGasto.do.xml\"\n",
    "# Activate the `XML` library\n",
    "#library(XML)\n",
    "library(xml2)\n",
    "# Parse the XML file\n",
    "xmlfile <- read_xml(archivo_xml)\n",
    "print(xmlfile)"
   ]
  },
  {
   "cell_type": "code",
   "execution_count": 15,
   "metadata": {},
   "outputs": [
    {
     "name": "stdout",
     "output_type": "stream",
     "text": [
      "{xml_document}\n",
      "<tipos-compra>\n",
      " [1] <tipo-compra id=\"CD\" descripcion=\"Compra Directa\" oferta-economica=\"S\" a ...\n",
      " [2] <tipo-compra id=\"CE\" descripcion=\"Compra por Excepción\" oferta-economica ...\n",
      " [3] <tipo-compra id=\"CM\" descripcion=\"Convenio Marco\" oferta-economica=\"S\" a ...\n",
      " [4] <tipo-compra id=\"CO\" descripcion=\"Concesión\" oferta-economica=\"S\" acto-a ...\n",
      " [5] <tipo-compra id=\"CP\" descripcion=\"PFI - Comparación de precios\" oferta-e ...\n",
      " [6] <tipo-compra id=\"DI\" descripcion=\"PFI - Contratación directa\" oferta-eco ...\n",
      " [7] <tipo-compra id=\"EI\" descripcion=\"Llamado a Expresiones de Interés\" ofer ...\n",
      " [8] <tipo-compra id=\"LA\" descripcion=\"Licitación Abreviada\" oferta-economica ...\n",
      " [9] <tipo-compra id=\"LI\" descripcion=\"PFI - Licitación pública internacional ...\n",
      "[10] <tipo-compra id=\"LL\" descripcion=\"PFI - Licitación internacional limitad ...\n",
      "[11] <tipo-compra id=\"LN\" descripcion=\"PFI - Licitación pública nacional\" ofe ...\n",
      "[12] <tipo-compra id=\"LP\" descripcion=\"Licitación Pública\" oferta-economica=\" ...\n",
      "[13] <tipo-compra id=\"PE\" descripcion=\"Procedimiento Especial\" oferta-economi ...\n",
      "[14] <tipo-compra id=\"PR\" descripcion=\"Pregón\" oferta-economica=\"S\" acto-aper ...\n",
      "[15] <tipo-compra id=\"SI\" descripcion=\"Solicitud de Información\" oferta-econo ...\n",
      "[16] <tipo-compra id=\"VA\" descripcion=\"Venta/Arrendamiento Licitación Abrevia ...\n",
      "[17] <tipo-compra id=\"VD\" descripcion=\"Venta/Arrendamiento Directa\" oferta-ec ...\n",
      "[18] <tipo-compra id=\"VE\" descripcion=\"Venta/Arrendamiento por Excepción\" ofe ...\n",
      "[19] <tipo-compra id=\"VL\" descripcion=\"Venta/Arrendamiento Licitación Pública ...\n",
      "[20] <tipo-compra id=\"VR\" descripcion=\"Venta/Arrendamiento por Remate\" oferta ...\n"
     ]
    }
   ],
   "source": [
    "archivo_xml = \"reporteTiposCompra.do.xml\"\n",
    "# Activate the `XML` library\n",
    "#library(XML)\n",
    "library(xml2)\n",
    "# Parse the XML file\n",
    "xmlfile <- read_xml(archivo_xml)\n",
    "print(xmlfile)"
   ]
  },
  {
   "cell_type": "code",
   "execution_count": null,
   "metadata": {},
   "outputs": [],
   "source": [
    "install.packages('DataExplorer') \n",
    "library(DataExplorer); library(dplyr)  \n",
    "\n",
    "# Información básica sobre el dataSelect\n",
    "introduce(dataSelect)"
   ]
  },
  {
   "cell_type": "code",
   "execution_count": null,
   "metadata": {},
   "outputs": [],
   "source": [
    "#Columnas vacias del dataSelect\n",
    "plot_missing(dataSelect)"
   ]
  },
  {
   "cell_type": "code",
   "execution_count": null,
   "metadata": {},
   "outputs": [],
   "source": [
    "# Recordemos que columnas tiene el dataSelect\n",
    "colnames(dataSelect)"
   ]
  },
  {
   "cell_type": "markdown",
   "metadata": {},
   "source": [
    "## 2. Transformación de valores inválidos"
   ]
  },
  {
   "cell_type": "markdown",
   "metadata": {},
   "source": [
    "<a id= Transformación-Invalidos></a>\n",
    "### Montos valor 0\n",
    "\n",
    "---\n"
   ]
  },
  {
   "cell_type": "code",
   "execution_count": 6,
   "metadata": {},
   "outputs": [
    {
     "name": "stdout",
     "output_type": "stream",
     "text": [
      "[1] \"Cantidad de Valores Vacios:\"\n"
     ]
    },
    {
     "ename": "ERROR",
     "evalue": "Error in dataSelect %>% select(monto_adj) %>% filter(monto_adj == 0) %>% : no se pudo encontrar la función \"%>%\"\n",
     "output_type": "error",
     "traceback": [
      "Error in dataSelect %>% select(monto_adj) %>% filter(monto_adj == 0) %>% : no se pudo encontrar la función \"%>%\"\nTraceback:\n"
     ]
    }
   ],
   "source": [
    "# Vamos a contar cantidad de valores \"\" en las siguientes columnas:\n",
    "\n",
    "# Imprimo cantidad\n",
    "print(\"Cantidad de Valores Vacios:\")\n",
    "\n",
    "cantMontoVacio <- dataSelect %>% select(monto_adj) %>% \n",
    "                            filter(monto_adj == 0) %>%  \n",
    "                            count()\n",
    "print(paste(\"Monto Adjudicado: \", cantMontoVacio))"
   ]
  },
  {
   "cell_type": "code",
   "execution_count": 7,
   "metadata": {},
   "outputs": [
    {
     "ename": "ERROR",
     "evalue": "Error in which(is.na(dataSelect$monto_adj)): objeto 'dataSelect' no encontrado\n",
     "output_type": "error",
     "traceback": [
      "Error in which(is.na(dataSelect$monto_adj)): objeto 'dataSelect' no encontrado\nTraceback:\n",
      "1. which(is.na(dataSelect$monto_adj))"
     ]
    }
   ],
   "source": [
    "# Se detectaron 2108 adjudicaciones con valor 0\n",
    "\n",
    "# Limpiamos los valores mencionados\n",
    "na_rows <- which(is.na(dataSelect$monto_adj))\n",
    "dataSelect <- dataSelect[-c(na_rows), ]\n",
    "length(dataSelect$monto_adj)"
   ]
  },
  {
   "cell_type": "markdown",
   "metadata": {},
   "source": [
    "### Transformación de Monedas\n",
    "---"
   ]
  },
  {
   "cell_type": "code",
   "execution_count": 8,
   "metadata": {},
   "outputs": [
    {
     "ename": "ERROR",
     "evalue": "Error in nrow(df_futbol): objeto 'df_futbol' no encontrado\n",
     "output_type": "error",
     "traceback": [
      "Error in nrow(df_futbol): objeto 'df_futbol' no encontrado\nTraceback:\n",
      "1. nrow(df_futbol)"
     ]
    }
   ],
   "source": [
    "for(i in 1:nrow(df_futbol)) {\n",
    "    if(df_futbol$Player_position[i] == \"Right Winger\" \n",
    "       || df_futbol$Player_position[i] == \"Central Midfield\" \n",
    "       || df_futbol$Player_position[i] == \"Defensive Midfield\"\n",
    "       || df_futbol$Player_position[i] == \"Left Winger\" \n",
    "       || df_futbol$Player_position[i] == \"Attacking Midfield\" \n",
    "       || df_futbol$Player_position[i] == \"Left Midfield\"){\n",
    "        df_futbol$posicion[i] = \"Media Cancha\"\n",
    "    }\n",
    "     if(df_futbol$Player_position[i] == \"Goalkeeper\"){\n",
    "        df_futbol$posicion[i] = \"Golero\"\n",
    "    }\n",
    "    if(df_futbol$Player_position[i] == \"Centre-Back\" \n",
    "       || df_futbol$Player_position[i] == \"Right-Back\" \n",
    "       || df_futbol$Player_position[i] == \"Left-Back\"){\n",
    "        df_futbol$posicion[i] = \"Defensa\"\n",
    "    }\n",
    "     if(df_futbol$Player_position[i] == \"Centre-Forward\"\n",
    "        || df_futbol$Player_position[i] == \"Second Striker\"){\n",
    "        df_futbol$posicion[i] = \"Delantero\"\n",
    "    }\n",
    "}\n",
    "\n",
    "#df_futbol\n",
    "#table(df_futbol$posicion)\n",
    "coloresrenzo=c(\"red\",\"blue\",\"green\",\"yellow\")\n",
    "plot(table(df_futbol$posicion),main=\"Histograma de Posiciones dentro del campo\",col=coloresrenzo,lwd=20)"
   ]
  },
  {
   "cell_type": "markdown",
   "metadata": {},
   "source": [
    "<a id='Conclusiones'></a>\n",
    "### Conclusiones\n",
    "\n",
    "[Inicio ▲](#Indice)\n",
    "\n",
    "---\n",
    "\n",
    "Para el análisis de datos"
   ]
  },
  {
   "cell_type": "code",
   "execution_count": null,
   "metadata": {},
   "outputs": [],
   "source": []
  }
 ],
 "metadata": {
  "kernelspec": {
   "display_name": "R",
   "language": "R",
   "name": "ir"
  },
  "language_info": {
   "codemirror_mode": "r",
   "file_extension": ".r",
   "mimetype": "text/x-r-source",
   "name": "R",
   "pygments_lexer": "r",
   "version": "3.6.1"
  }
 },
 "nbformat": 4,
 "nbformat_minor": 2
}
