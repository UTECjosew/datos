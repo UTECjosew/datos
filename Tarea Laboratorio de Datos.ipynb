{
 "cells": [
  {
   "cell_type": "markdown",
   "metadata": {},
   "source": [
    " # Taller Ciencia de Datos \n",
    "\n",
    "### ***Tarea Laboratorio 2019***\n",
    "\n",
    "---\n",
    "<div class=\"text-center\"> Andrea Correa </div>\n",
    "<div class=\"text-center\">Maria Laura Gayo </div>\n",
    "<div class=\"text-center\"> Mariano Koci </div>\n",
    "<div class=\"text-center\">Alejandro Wohlwend </div>\n",
    "<div class=\"text-center\">Renzo Daset </div>\n",
    "<div class=\"text-center\">Laura Rodriguez </div>\n",
    "\n",
    "---\n",
    "\n",
    "\n",
    "<a id='Indice'></a>\n",
    "### Índice\n",
    "\n",
    "1. [Adquisición de datos](#Adquisicion-Datos)\n",
    " \n",
    "2. [Transformación de los datos](#Transformacion)\n",
    "\n",
    "3. [Análisis de los objetivos del Negocio y como se mapeo a los datos disponibles](#Analisis)\n",
    "\n",
    "4. [Análisis y visualización para los requerimientos de negocio](#Visualización)\n",
    "\n",
    "5. [Conclusiones](#Conclusiones)\n",
    "\n",
    "---"
   ]
  },
  {
   "cell_type": "markdown",
   "metadata": {},
   "source": [
    "<a id='Adquisicion-Datos'></a>\n",
    "### Adquisición de los Datos\n",
    "---\n",
    " La ingesta de datos se realizó  mediante los pasos que se muestran a continuación:\n",
    "\n",
    "\n"
   ]
  },
  {
   "cell_type": "code",
   "execution_count": 3,
   "metadata": {},
   "outputs": [],
   "source": [
    "# Importamos los archivos CSV\n",
    "archivo <- \"/Users/arual/Documents/Utec/6to. Semestre/Taller Ciencia de Datos/S1/ArchivosTarea/compras2018_1ero.csv\"\n",
    "archivo <- \"/Users/arual/Documents/Utec/6to. Semestre/Taller Ciencia de Datos/S1/ArchivosTarea/compras2018_2do.csv\""
   ]
  },
  {
   "cell_type": "code",
   "execution_count": 4,
   "metadata": {},
   "outputs": [],
   "source": [
    "# Cargamos datos del archivo\n",
    "datos <- read.csv(archivo)"
   ]
  },
  {
   "cell_type": "code",
   "execution_count": 5,
   "metadata": {},
   "outputs": [
    {
     "ename": "ERROR",
     "evalue": "Error in read.table(file = file, header = header, sep = sep, quote = quote, : objeto 'archivo2' no encontrado\n",
     "output_type": "error",
     "traceback": [
      "Error in read.table(file = file, header = header, sep = sep, quote = quote, : objeto 'archivo2' no encontrado\nTraceback:\n",
      "1. read.csv(archivo2)",
      "2. read.table(file = file, header = header, sep = sep, quote = quote, \n .     dec = dec, fill = fill, comment.char = comment.char, ...)"
     ]
    }
   ],
   "source": [
    "# Cargamos datos del archivo\n",
    "datos2 <- read.csv(archivo2)"
   ]
  },
  {
   "cell_type": "code",
   "execution_count": null,
   "metadata": {},
   "outputs": [],
   "source": [
    "# Unimos los datos de ambos archivos\n",
    "datosAll<-rbind(datos,datos2)"
   ]
  },
  {
   "cell_type": "code",
   "execution_count": 7,
   "metadata": {
    "scrolled": true
   },
   "outputs": [
    {
     "data": {
      "text/html": [
       "<table>\n",
       "<thead><tr><th scope=col>anio_compra</th><th scope=col>apel</th><th scope=col>arch_adj</th><th scope=col>arch_reiteracion</th><th scope=col>es_reiteracion</th><th scope=col>estado_compra</th><th scope=col>fecha_compra</th><th scope=col>fecha_pub_adj</th><th scope=col>fondos_rotatorios</th><th scope=col>id_compra</th><th scope=col>...</th><th scope=col>id_tipo_resol</th><th scope=col>id_tipocompra</th><th scope=col>id_ue</th><th scope=col>monto_adj</th><th scope=col>nro_ampliacion</th><th scope=col>num_compra</th><th scope=col>num_resol</th><th scope=col>objeto</th><th scope=col>subtipo_compra</th><th scope=col>open_contracting_link</th></tr></thead>\n",
       "<tbody>\n",
       "\t<tr><td>2018                                              </td><td>N                                                 </td><td>acta_637079.pdf                                   </td><td>                                                  </td><td>N                                                 </td><td>7                                                 </td><td>26/07/2018                                        </td><td>31/07/2018 14:35                                  </td><td>N                                                 </td><td>637079                                            </td><td>...                                               </td><td>4                                                 </td><td>LA                                                </td><td>30                                                </td><td>      0.00                                        </td><td>0                                                 </td><td>   2                                              </td><td>     30                                           </td><td>SERVICIO DE CAMILLEROS                            </td><td>COM                                               </td><td>https://comprasestatales.gub.uy/ocds/record/637079</td></tr>\n",
       "\t<tr><td>2018                                              </td><td>N                                                 </td><td>acta_637085.pdf                                   </td><td>                                                  </td><td>N                                                 </td><td>7                                                 </td><td>26/07/2018                                        </td><td>31/07/2018 14:40                                  </td><td>N                                                 </td><td>637085                                            </td><td>...                                               </td><td>4                                                 </td><td>LA                                                </td><td>30                                                </td><td>      0.00                                        </td><td>0                                                 </td><td>   4                                              </td><td>     27                                           </td><td>SERVICIO DE LAVADO Y PLANCHADO                    </td><td>COM                                               </td><td>https://comprasestatales.gub.uy/ocds/record/637085</td></tr>\n",
       "\t<tr><td>2018                                              </td><td>S                                                 </td><td>acta_636213.pdf                                   </td><td>                                                  </td><td>N                                                 </td><td>7                                                 </td><td>26/04/2018                                        </td><td>01/08/2018 10:20                                  </td><td>N                                                 </td><td>636213                                            </td><td>...                                               </td><td>1                                                 </td><td>LA                                                </td><td>76                                                </td><td>1010160.00                                        </td><td>0                                                 </td><td>  10                                              </td><td>3122018                                           </td><td>MANTENIMIENTO DE LAS REDES DE GASES MEDICINALES   </td><td>COM                                               </td><td>https://comprasestatales.gub.uy/ocds/record/636213</td></tr>\n",
       "\t<tr><td>2018                                              </td><td>                                                  </td><td>                                                  </td><td>                                                  </td><td>N                                                 </td><td>7                                                 </td><td>01/06/2018                                        </td><td>27/07/2018 11:20                                  </td><td>N                                                 </td><td>664776                                            </td><td>...                                               </td><td>1                                                 </td><td>CD                                                </td><td> 5                                                </td><td>  28274.72                                        </td><td>0                                                 </td><td>5018                                              </td><td>   5018                                           </td><td>DGSG. RECARGAS DE GARRAFA A SUPERGAS - AÃ‘O:2018  </td><td>COM                                               </td><td>https://comprasestatales.gub.uy/ocds/record/664776</td></tr>\n",
       "\t<tr><td>2018                                              </td><td>                                                  </td><td>                                                  </td><td>                                                  </td><td>N                                                 </td><td>7                                                 </td><td>10/05/2018                                        </td><td>27/07/2018 11:25                                  </td><td>N                                                 </td><td>664773                                            </td><td>...                                               </td><td>1                                                 </td><td>CD                                                </td><td> 1                                                </td><td>    983.81                                        </td><td>0                                                 </td><td> 282                                              </td><td>      0                                           </td><td>Frascos de cola adhesiva.                         </td><td>COM                                               </td><td>https://comprasestatales.gub.uy/ocds/record/664773</td></tr>\n",
       "\t<tr><td>2018                                              </td><td>                                                  </td><td>                                                  </td><td>                                                  </td><td>N                                                 </td><td>7                                                 </td><td>20/07/2018                                        </td><td>27/07/2018 11:25                                  </td><td>N                                                 </td><td>661416                                            </td><td>...                                               </td><td>1                                                 </td><td>CD                                                </td><td>28                                                </td><td>  25742.00                                        </td><td>0                                                 </td><td>  61                                              </td><td>      0                                           </td><td>REPARACION IMPRESORAS HL 5450                     </td><td>COM                                               </td><td>https://comprasestatales.gub.uy/ocds/record/661416</td></tr>\n",
       "</tbody>\n",
       "</table>\n"
      ],
      "text/latex": [
       "\\begin{tabular}{r|llllllllllllllllllllll}\n",
       " anio\\_compra & apel & arch\\_adj & arch\\_reiteracion & es\\_reiteracion & estado\\_compra & fecha\\_compra & fecha\\_pub\\_adj & fondos\\_rotatorios & id\\_compra & ... & id\\_tipo\\_resol & id\\_tipocompra & id\\_ue & monto\\_adj & nro\\_ampliacion & num\\_compra & num\\_resol & objeto & subtipo\\_compra & open\\_contracting\\_link\\\\\n",
       "\\hline\n",
       "\t 2018                                               & N                                                  & acta\\_637079.pdf                                  &                                                    & N                                                  & 7                                                  & 26/07/2018                                         & 31/07/2018 14:35                                   & N                                                  & 637079                                             & ...                                                & 4                                                  & LA                                                 & 30                                                 &       0.00                                         & 0                                                  &    2                                               &      30                                            & SERVICIO DE CAMILLEROS                             & COM                                                & https://comprasestatales.gub.uy/ocds/record/637079\\\\\n",
       "\t 2018                                               & N                                                  & acta\\_637085.pdf                                  &                                                    & N                                                  & 7                                                  & 26/07/2018                                         & 31/07/2018 14:40                                   & N                                                  & 637085                                             & ...                                                & 4                                                  & LA                                                 & 30                                                 &       0.00                                         & 0                                                  &    4                                               &      27                                            & SERVICIO DE LAVADO Y PLANCHADO                     & COM                                                & https://comprasestatales.gub.uy/ocds/record/637085\\\\\n",
       "\t 2018                                               & S                                                  & acta\\_636213.pdf                                  &                                                    & N                                                  & 7                                                  & 26/04/2018                                         & 01/08/2018 10:20                                   & N                                                  & 636213                                             & ...                                                & 1                                                  & LA                                                 & 76                                                 & 1010160.00                                         & 0                                                  &   10                                               & 3122018                                            & MANTENIMIENTO DE LAS REDES DE GASES MEDICINALES    & COM                                                & https://comprasestatales.gub.uy/ocds/record/636213\\\\\n",
       "\t 2018                                               &                                                    &                                                    &                                                    & N                                                  & 7                                                  & 01/06/2018                                         & 27/07/2018 11:20                                   & N                                                  & 664776                                             & ...                                                & 1                                                  & CD                                                 &  5                                                 &   28274.72                                         & 0                                                  & 5018                                               &    5018                                            & DGSG. RECARGAS DE GARRAFA A SUPERGAS - AÃ‘O:2018   & COM                                                & https://comprasestatales.gub.uy/ocds/record/664776\\\\\n",
       "\t 2018                                               &                                                    &                                                    &                                                    & N                                                  & 7                                                  & 10/05/2018                                         & 27/07/2018 11:25                                   & N                                                  & 664773                                             & ...                                                & 1                                                  & CD                                                 &  1                                                 &     983.81                                         & 0                                                  &  282                                               &       0                                            & Frascos de cola adhesiva.                          & COM                                                & https://comprasestatales.gub.uy/ocds/record/664773\\\\\n",
       "\t 2018                                               &                                                    &                                                    &                                                    & N                                                  & 7                                                  & 20/07/2018                                         & 27/07/2018 11:25                                   & N                                                  & 661416                                             & ...                                                & 1                                                  & CD                                                 & 28                                                 &   25742.00                                         & 0                                                  &   61                                               &       0                                            & REPARACION IMPRESORAS HL 5450                      & COM                                                & https://comprasestatales.gub.uy/ocds/record/661416\\\\\n",
       "\\end{tabular}\n"
      ],
      "text/markdown": [
       "\n",
       "| anio_compra | apel | arch_adj | arch_reiteracion | es_reiteracion | estado_compra | fecha_compra | fecha_pub_adj | fondos_rotatorios | id_compra | ... | id_tipo_resol | id_tipocompra | id_ue | monto_adj | nro_ampliacion | num_compra | num_resol | objeto | subtipo_compra | open_contracting_link |\n",
       "|---|---|---|---|---|---|---|---|---|---|---|---|---|---|---|---|---|---|---|---|---|\n",
       "| 2018                                               | N                                                  | acta_637079.pdf                                    |                                                    | N                                                  | 7                                                  | 26/07/2018                                         | 31/07/2018 14:35                                   | N                                                  | 637079                                             | ...                                                | 4                                                  | LA                                                 | 30                                                 |       0.00                                         | 0                                                  |    2                                               |      30                                            | SERVICIO DE CAMILLEROS                             | COM                                                | https://comprasestatales.gub.uy/ocds/record/637079 |\n",
       "| 2018                                               | N                                                  | acta_637085.pdf                                    |                                                    | N                                                  | 7                                                  | 26/07/2018                                         | 31/07/2018 14:40                                   | N                                                  | 637085                                             | ...                                                | 4                                                  | LA                                                 | 30                                                 |       0.00                                         | 0                                                  |    4                                               |      27                                            | SERVICIO DE LAVADO Y PLANCHADO                     | COM                                                | https://comprasestatales.gub.uy/ocds/record/637085 |\n",
       "| 2018                                               | S                                                  | acta_636213.pdf                                    |                                                    | N                                                  | 7                                                  | 26/04/2018                                         | 01/08/2018 10:20                                   | N                                                  | 636213                                             | ...                                                | 1                                                  | LA                                                 | 76                                                 | 1010160.00                                         | 0                                                  |   10                                               | 3122018                                            | MANTENIMIENTO DE LAS REDES DE GASES MEDICINALES    | COM                                                | https://comprasestatales.gub.uy/ocds/record/636213 |\n",
       "| 2018                                               |                                                    |                                                    |                                                    | N                                                  | 7                                                  | 01/06/2018                                         | 27/07/2018 11:20                                   | N                                                  | 664776                                             | ...                                                | 1                                                  | CD                                                 |  5                                                 |   28274.72                                         | 0                                                  | 5018                                               |    5018                                            | DGSG. RECARGAS DE GARRAFA A SUPERGAS - AÃ‘O:2018   | COM                                                | https://comprasestatales.gub.uy/ocds/record/664776 |\n",
       "| 2018                                               |                                                    |                                                    |                                                    | N                                                  | 7                                                  | 10/05/2018                                         | 27/07/2018 11:25                                   | N                                                  | 664773                                             | ...                                                | 1                                                  | CD                                                 |  1                                                 |     983.81                                         | 0                                                  |  282                                               |       0                                            | Frascos de cola adhesiva.                          | COM                                                | https://comprasestatales.gub.uy/ocds/record/664773 |\n",
       "| 2018                                               |                                                    |                                                    |                                                    | N                                                  | 7                                                  | 20/07/2018                                         | 27/07/2018 11:25                                   | N                                                  | 661416                                             | ...                                                | 1                                                  | CD                                                 | 28                                                 |   25742.00                                         | 0                                                  |   61                                               |       0                                            | REPARACION IMPRESORAS HL 5450                      | COM                                                | https://comprasestatales.gub.uy/ocds/record/661416 |\n",
       "\n"
      ],
      "text/plain": [
       "  anio_compra apel arch_adj        arch_reiteracion es_reiteracion\n",
       "1 2018        N    acta_637079.pdf                  N             \n",
       "2 2018        N    acta_637085.pdf                  N             \n",
       "3 2018        S    acta_636213.pdf                  N             \n",
       "4 2018                                              N             \n",
       "5 2018                                              N             \n",
       "6 2018                                              N             \n",
       "  estado_compra fecha_compra fecha_pub_adj    fondos_rotatorios id_compra ...\n",
       "1 7             26/07/2018   31/07/2018 14:35 N                 637079    ...\n",
       "2 7             26/07/2018   31/07/2018 14:40 N                 637085    ...\n",
       "3 7             26/04/2018   01/08/2018 10:20 N                 636213    ...\n",
       "4 7             01/06/2018   27/07/2018 11:20 N                 664776    ...\n",
       "5 7             10/05/2018   27/07/2018 11:25 N                 664773    ...\n",
       "6 7             20/07/2018   27/07/2018 11:25 N                 661416    ...\n",
       "  id_tipo_resol id_tipocompra id_ue monto_adj  nro_ampliacion num_compra\n",
       "1 4             LA            30          0.00 0                 2      \n",
       "2 4             LA            30          0.00 0                 4      \n",
       "3 1             LA            76    1010160.00 0                10      \n",
       "4 1             CD             5      28274.72 0              5018      \n",
       "5 1             CD             1        983.81 0               282      \n",
       "6 1             CD            28      25742.00 0                61      \n",
       "  num_resol objeto                                           subtipo_compra\n",
       "1      30   SERVICIO DE CAMILLEROS                           COM           \n",
       "2      27   SERVICIO DE LAVADO Y PLANCHADO                   COM           \n",
       "3 3122018   MANTENIMIENTO DE LAS REDES DE GASES MEDICINALES  COM           \n",
       "4    5018   DGSG. RECARGAS DE GARRAFA A SUPERGAS - AÃ‘O:2018 COM           \n",
       "5       0   Frascos de cola adhesiva.                        COM           \n",
       "6       0   REPARACION IMPRESORAS HL 5450                    COM           \n",
       "  open_contracting_link                             \n",
       "1 https://comprasestatales.gub.uy/ocds/record/637079\n",
       "2 https://comprasestatales.gub.uy/ocds/record/637085\n",
       "3 https://comprasestatales.gub.uy/ocds/record/636213\n",
       "4 https://comprasestatales.gub.uy/ocds/record/664776\n",
       "5 https://comprasestatales.gub.uy/ocds/record/664773\n",
       "6 https://comprasestatales.gub.uy/ocds/record/661416"
      ]
     },
     "metadata": {},
     "output_type": "display_data"
    }
   ],
   "source": [
    "# Imprimmimos las primeras filas del CSV\n",
    "head(datos)"
   ]
  },
  {
   "cell_type": "code",
   "execution_count": 10,
   "metadata": {},
   "outputs": [
    {
     "name": "stderr",
     "output_type": "stream",
     "text": [
      "\n",
      "Attaching package: 'dplyr'\n",
      "\n",
      "The following objects are masked from 'package:stats':\n",
      "\n",
      "    filter, lag\n",
      "\n",
      "The following objects are masked from 'package:base':\n",
      "\n",
      "    intersect, setdiff, setequal, union\n",
      "\n",
      "Installing package into 'C:/Users/arual/Documents/R/win-library/3.6'\n",
      "(as 'lib' is unspecified)\n"
     ]
    },
    {
     "name": "stdout",
     "output_type": "stream",
     "text": [
      "package 'tidyverse' successfully unpacked and MD5 sums checked\n",
      "\n",
      "The downloaded binary packages are in\n",
      "\tC:\\Users\\Public\\Documents\\Wondershare\\CreatorTemp\\Rtmp8oA5DJ\\downloaded_packages\n"
     ]
    }
   ],
   "source": [
    "# Importamos la libreria dplyr\n",
    "library(dplyr)\n",
    "install.packages(\"tidyverse\")"
   ]
  },
  {
   "cell_type": "markdown",
   "metadata": {},
   "source": [
    "<a id='Analisis'></a>\n",
    "### Análisis\n",
    "\n",
    "---\n",
    "*Se quiere obtener la siguiente información a partir de los datos*\n",
    "&nbsp;\n",
    "\n",
    "1. TOP 20 de las organizaciones que gastaron más dinero (ordenados de forma descendente).\n",
    "2. TOP 50 de las compras más caras.\n",
    "3. Agregación de monto total por tipo de producto\n",
    "4. TOP 10 de las unidades ejecutoras que más compraron en el periodo\n",
    "5. Compras directas mayores $436.000.\n",
    "\n",
    "Para ello"
   ]
  },
  {
   "cell_type": "code",
   "execution_count": 11,
   "metadata": {},
   "outputs": [],
   "source": [
    "# Selecciona solamente las columnas Anio_Compra, id_moneda_monto_adj, id_ue, monto_adj,  \n",
    "dataSelect <- select(datos, anio_compra, id_inciso,id_moneda_monto_adj, id_ue, monto_adj);"
   ]
  },
  {
   "cell_type": "code",
   "execution_count": 12,
   "metadata": {},
   "outputs": [
    {
     "data": {
      "text/html": [
       "<table>\n",
       "<thead><tr><th scope=col>anio_compra</th><th scope=col>id_inciso</th><th scope=col>id_moneda_monto_adj</th><th scope=col>id_ue</th><th scope=col>monto_adj</th></tr></thead>\n",
       "<tbody>\n",
       "\t<tr><td>2018      </td><td>29        </td><td>0         </td><td>30        </td><td>      0.00</td></tr>\n",
       "\t<tr><td>2018      </td><td>29        </td><td>0         </td><td>30        </td><td>      0.00</td></tr>\n",
       "\t<tr><td>2018      </td><td>29        </td><td>0         </td><td>76        </td><td>1010160.00</td></tr>\n",
       "\t<tr><td>2018      </td><td> 7        </td><td>0         </td><td> 5        </td><td>  28274.72</td></tr>\n",
       "\t<tr><td>2018      </td><td> 1        </td><td>0         </td><td> 1        </td><td>    983.81</td></tr>\n",
       "\t<tr><td>2018      </td><td> 4        </td><td>0         </td><td>28        </td><td>  25742.00</td></tr>\n",
       "</tbody>\n",
       "</table>\n"
      ],
      "text/latex": [
       "\\begin{tabular}{r|lllll}\n",
       " anio\\_compra & id\\_inciso & id\\_moneda\\_monto\\_adj & id\\_ue & monto\\_adj\\\\\n",
       "\\hline\n",
       "\t 2018       & 29         & 0          & 30         &       0.00\\\\\n",
       "\t 2018       & 29         & 0          & 30         &       0.00\\\\\n",
       "\t 2018       & 29         & 0          & 76         & 1010160.00\\\\\n",
       "\t 2018       &  7         & 0          &  5         &   28274.72\\\\\n",
       "\t 2018       &  1         & 0          &  1         &     983.81\\\\\n",
       "\t 2018       &  4         & 0          & 28         &   25742.00\\\\\n",
       "\\end{tabular}\n"
      ],
      "text/markdown": [
       "\n",
       "| anio_compra | id_inciso | id_moneda_monto_adj | id_ue | monto_adj |\n",
       "|---|---|---|---|---|\n",
       "| 2018       | 29         | 0          | 30         |       0.00 |\n",
       "| 2018       | 29         | 0          | 30         |       0.00 |\n",
       "| 2018       | 29         | 0          | 76         | 1010160.00 |\n",
       "| 2018       |  7         | 0          |  5         |   28274.72 |\n",
       "| 2018       |  1         | 0          |  1         |     983.81 |\n",
       "| 2018       |  4         | 0          | 28         |   25742.00 |\n",
       "\n"
      ],
      "text/plain": [
       "  anio_compra id_inciso id_moneda_monto_adj id_ue monto_adj \n",
       "1 2018        29        0                   30          0.00\n",
       "2 2018        29        0                   30          0.00\n",
       "3 2018        29        0                   76    1010160.00\n",
       "4 2018         7        0                    5      28274.72\n",
       "5 2018         1        0                    1        983.81\n",
       "6 2018         4        0                   28      25742.00"
      ]
     },
     "metadata": {},
     "output_type": "display_data"
    }
   ],
   "source": [
    "# Imprimo primeras filas del CSV\n",
    "head(dataSelect)"
   ]
  },
  {
   "cell_type": "code",
   "execution_count": 13,
   "metadata": {},
   "outputs": [
    {
     "data": {
      "text/html": [
       "<table>\n",
       "<thead><tr><th scope=col>id_inciso</th><th scope=col>id_ue</th><th scope=col>monto</th></tr></thead>\n",
       "<tbody>\n",
       "\t<tr><td>25        </td><td> 4        </td><td>4239225662</td></tr>\n",
       "\t<tr><td>88        </td><td> 1        </td><td>   9792220</td></tr>\n",
       "\t<tr><td>53        </td><td> 1        </td><td>   9202553</td></tr>\n",
       "\t<tr><td>90        </td><td> 1        </td><td>   5886417</td></tr>\n",
       "\t<tr><td>26        </td><td>19        </td><td>   4482694</td></tr>\n",
       "\t<tr><td>29        </td><td>28        </td><td>   2641129</td></tr>\n",
       "\t<tr><td>29        </td><td>57        </td><td>   2607849</td></tr>\n",
       "\t<tr><td>86        </td><td> 1        </td><td>   2511739</td></tr>\n",
       "\t<tr><td>29        </td><td>26        </td><td>   2316657</td></tr>\n",
       "\t<tr><td>40        </td><td> 4        </td><td>   2279624</td></tr>\n",
       "\t<tr><td>86        </td><td> 2        </td><td>   2195533</td></tr>\n",
       "\t<tr><td>93        </td><td> 1        </td><td>   2011474</td></tr>\n",
       "\t<tr><td>96        </td><td> 1        </td><td>   1994689</td></tr>\n",
       "\t<tr><td>26        </td><td> 2        </td><td>   1866429</td></tr>\n",
       "\t<tr><td>97        </td><td> 1        </td><td>   1669376</td></tr>\n",
       "\t<tr><td>26        </td><td>30        </td><td>   1649849</td></tr>\n",
       "\t<tr><td>52        </td><td> 1        </td><td>   1559233</td></tr>\n",
       "\t<tr><td>94        </td><td> 1        </td><td>   1541782</td></tr>\n",
       "\t<tr><td>25        </td><td> 1        </td><td>   1527038</td></tr>\n",
       "\t<tr><td>15        </td><td> 2        </td><td>   1489019</td></tr>\n",
       "</tbody>\n",
       "</table>\n"
      ],
      "text/latex": [
       "\\begin{tabular}{r|lll}\n",
       " id\\_inciso & id\\_ue & monto\\\\\n",
       "\\hline\n",
       "\t 25         &  4         & 4239225662\\\\\n",
       "\t 88         &  1         &    9792220\\\\\n",
       "\t 53         &  1         &    9202553\\\\\n",
       "\t 90         &  1         &    5886417\\\\\n",
       "\t 26         & 19         &    4482694\\\\\n",
       "\t 29         & 28         &    2641129\\\\\n",
       "\t 29         & 57         &    2607849\\\\\n",
       "\t 86         &  1         &    2511739\\\\\n",
       "\t 29         & 26         &    2316657\\\\\n",
       "\t 40         &  4         &    2279624\\\\\n",
       "\t 86         &  2         &    2195533\\\\\n",
       "\t 93         &  1         &    2011474\\\\\n",
       "\t 96         &  1         &    1994689\\\\\n",
       "\t 26         &  2         &    1866429\\\\\n",
       "\t 97         &  1         &    1669376\\\\\n",
       "\t 26         & 30         &    1649849\\\\\n",
       "\t 52         &  1         &    1559233\\\\\n",
       "\t 94         &  1         &    1541782\\\\\n",
       "\t 25         &  1         &    1527038\\\\\n",
       "\t 15         &  2         &    1489019\\\\\n",
       "\\end{tabular}\n"
      ],
      "text/markdown": [
       "\n",
       "| id_inciso | id_ue | monto |\n",
       "|---|---|---|\n",
       "| 25         |  4         | 4239225662 |\n",
       "| 88         |  1         |    9792220 |\n",
       "| 53         |  1         |    9202553 |\n",
       "| 90         |  1         |    5886417 |\n",
       "| 26         | 19         |    4482694 |\n",
       "| 29         | 28         |    2641129 |\n",
       "| 29         | 57         |    2607849 |\n",
       "| 86         |  1         |    2511739 |\n",
       "| 29         | 26         |    2316657 |\n",
       "| 40         |  4         |    2279624 |\n",
       "| 86         |  2         |    2195533 |\n",
       "| 93         |  1         |    2011474 |\n",
       "| 96         |  1         |    1994689 |\n",
       "| 26         |  2         |    1866429 |\n",
       "| 97         |  1         |    1669376 |\n",
       "| 26         | 30         |    1649849 |\n",
       "| 52         |  1         |    1559233 |\n",
       "| 94         |  1         |    1541782 |\n",
       "| 25         |  1         |    1527038 |\n",
       "| 15         |  2         |    1489019 |\n",
       "\n"
      ],
      "text/plain": [
       "   id_inciso id_ue monto     \n",
       "1  25         4    4239225662\n",
       "2  88         1       9792220\n",
       "3  53         1       9202553\n",
       "4  90         1       5886417\n",
       "5  26        19       4482694\n",
       "6  29        28       2641129\n",
       "7  29        57       2607849\n",
       "8  86         1       2511739\n",
       "9  29        26       2316657\n",
       "10 40         4       2279624\n",
       "11 86         2       2195533\n",
       "12 93         1       2011474\n",
       "13 96         1       1994689\n",
       "14 26         2       1866429\n",
       "15 97         1       1669376\n",
       "16 26        30       1649849\n",
       "17 52         1       1559233\n",
       "18 94         1       1541782\n",
       "19 25         1       1527038\n",
       "20 15         2       1489019"
      ]
     },
     "metadata": {},
     "output_type": "display_data"
    }
   ],
   "source": [
    "#Agrupamos los datos \n",
    "\n",
    "# group_by(dataSelect, dataSelect$id_ue)\n",
    "datosOrdenados <-dataSelect %>% group_by(id_inciso,id_ue) %>% summarise(monto = mean(monto_adj))\n",
    "f<-arrange(datosOrdenados, desc(monto))\n",
    "head(f, 20)"
   ]
  },
  {
   "cell_type": "code",
   "execution_count": null,
   "metadata": {},
   "outputs": [],
   "source": []
  },
  {
   "cell_type": "code",
   "execution_count": 27,
   "metadata": {},
   "outputs": [
    {
     "name": "stdout",
     "output_type": "stream",
     "text": [
      "{xml_document}\n",
      "<unidades-ejecutoras>\n",
      " [1] <unidad-ejecutora id-inciso=\"1\" id-ue=\"1\" nom-ue=\"Cámara de Senadores\"/>\n",
      " [2] <unidad-ejecutora id-inciso=\"1\" id-ue=\"2\" nom-ue=\"Cámara de Representant ...\n",
      " [3] <unidad-ejecutora id-inciso=\"1\" id-ue=\"3\" nom-ue=\"Comisión Administrativ ...\n",
      " [4] <unidad-ejecutora id-inciso=\"2\" id-ue=\"1\" nom-ue=\"Presidencia  de la Rep ...\n",
      " [5] <unidad-ejecutora id-inciso=\"2\" id-ue=\"3\" nom-ue=\"Casa Militar\"/>\n",
      " [6] <unidad-ejecutora id-inciso=\"2\" id-ue=\"4\" nom-ue=\"Oficina de Planeamient ...\n",
      " [7] <unidad-ejecutora id-inciso=\"2\" id-ue=\"5\" nom-ue=\"NO VIGENTE - Dirección ...\n",
      " [8] <unidad-ejecutora id-inciso=\"2\" id-ue=\"6\" nom-ue=\"Unidad Reguladora de S ...\n",
      " [9] <unidad-ejecutora id-inciso=\"2\" id-ue=\"7\" nom-ue=\"Instituto Nacional de  ...\n",
      "[10] <unidad-ejecutora id-inciso=\"2\" id-ue=\"8\" nom-ue=\"Oficina Nacional del S ...\n",
      "[11] <unidad-ejecutora id-inciso=\"2\" id-ue=\"9\" nom-ue=\"Unidad Reguladora de S ...\n",
      "[12] <unidad-ejecutora id-inciso=\"2\" id-ue=\"10\" nom-ue=\"AGESIC\"/>\n",
      "[13] <unidad-ejecutora id-inciso=\"2\" id-ue=\"11\" nom-ue=\"Secretaría  Nacional  ...\n",
      "[14] <unidad-ejecutora id-inciso=\"3\" id-ue=\"1\" nom-ue=\"Dirección General de S ...\n",
      "[15] <unidad-ejecutora id-inciso=\"3\" id-ue=\"3\" nom-ue=\"Estado Mayor de la Def ...\n",
      "[16] <unidad-ejecutora id-inciso=\"3\" id-ue=\"4\" nom-ue=\"Comando General del Ej ...\n",
      "[17] <unidad-ejecutora id-inciso=\"3\" id-ue=\"18\" nom-ue=\"Comando General de la ...\n",
      "[18] <unidad-ejecutora id-inciso=\"3\" id-ue=\"23\" nom-ue=\"Comando General de la ...\n",
      "[19] <unidad-ejecutora id-inciso=\"3\" id-ue=\"30\" nom-ue=\"Ex-Dirección Nacional ...\n",
      "[20] <unidad-ejecutora id-inciso=\"3\" id-ue=\"31\" nom-ue=\"Ex-Dirección General  ...\n",
      "...\n"
     ]
    }
   ],
   "source": [
    "archivo_xml = \"/Users/Andy/Desktop/Win10/UTEC/2019/Semestre 6/AD:DS/Semana1/compras/reporteUnidadesEjecutoras.do.xml\"\n",
    "# Activate the `XML` library\n",
    "#library(XML)\n",
    "library(xml2)\n",
    "# Parse the XML file\n",
    "xmlfile <- read_xml(archivo_xml)\n",
    "print(xmlfile)"
   ]
  },
  {
   "cell_type": "code",
   "execution_count": 1,
   "metadata": {},
   "outputs": [
    {
     "name": "stdout",
     "output_type": "stream",
     "text": [
      "{xml_document}\n",
      "<incisos>\n",
      " [1] <inciso id-inciso=\"1\" nom-inciso=\"Poder Legislativo\"/>\n",
      " [2] <inciso id-inciso=\"2\" nom-inciso=\"Presidencia de la República\"/>\n",
      " [3] <inciso id-inciso=\"3\" nom-inciso=\"Ministerio de Defensa Nacional\"/>\n",
      " [4] <inciso id-inciso=\"4\" nom-inciso=\"Ministerio del Interior\"/>\n",
      " [5] <inciso id-inciso=\"5\" nom-inciso=\"Ministerio de Economía y Finanzas\"/>\n",
      " [6] <inciso id-inciso=\"6\" nom-inciso=\"Ministerio de Relaciones Exteriores\"/>\n",
      " [7] <inciso id-inciso=\"7\" nom-inciso=\"Ministerio de Ganadería, Agricultura y ...\n",
      " [8] <inciso id-inciso=\"8\" nom-inciso=\"Ministerio de Industria, Energía y Min ...\n",
      " [9] <inciso id-inciso=\"9\" nom-inciso=\"Ministerio de Turismo\"/>\n",
      "[10] <inciso id-inciso=\"10\" nom-inciso=\"Ministerio de Transporte y Obras Públ ...\n",
      "[11] <inciso id-inciso=\"11\" nom-inciso=\"Ministerio de Educación y Cultura\"/>\n",
      "[12] <inciso id-inciso=\"12\" nom-inciso=\"Ministerio de Salud Pública\"/>\n",
      "[13] <inciso id-inciso=\"13\" nom-inciso=\"Ministerio de Trabajo y Seguridad Soc ...\n",
      "[14] <inciso id-inciso=\"14\" nom-inciso=\"Ministerio de Vivienda, Ordenamiento  ...\n",
      "[15] <inciso id-inciso=\"15\" nom-inciso=\"Ministerio de Desarrollo Social\"/>\n",
      "[16] <inciso id-inciso=\"16\" nom-inciso=\"Poder Judicial\"/>\n",
      "[17] <inciso id-inciso=\"17\" nom-inciso=\"Tribunal de Cuentas\"/>\n",
      "[18] <inciso id-inciso=\"18\" nom-inciso=\"Corte Electoral\"/>\n",
      "[19] <inciso id-inciso=\"19\" nom-inciso=\"Tribunal de lo Contencioso Administra ...\n",
      "[20] <inciso id-inciso=\"24\" nom-inciso=\"Diversos Créditos\"/>\n",
      "...\n"
     ]
    }
   ],
   "source": [
    "archivo_xml = \"/Users/arual/Documents/Utec/6to. Semestre/Taller Ciencia de Datos/S1/ArchivosTarea/reporteIncisos.do.xml\"\n",
    "# Activate the `XML` library\n",
    "#library(XML)\n",
    "library(xml2)\n",
    "# Parse the XML file\n",
    "xmlfile <- read_xml(archivo_xml)\n",
    "print(xmlfile)"
   ]
  },
  {
   "cell_type": "code",
   "execution_count": 2,
   "metadata": {},
   "outputs": [
    {
     "name": "stdout",
     "output_type": "stream",
     "text": [
      "{xml_document}\n",
      "<monedas>\n",
      " [1] <moneda id-moneda=\"0\" desc-moneda=\"PESOS URUGUAYOS\" sigla-moneda=\"$\" id- ...\n",
      " [2] <moneda id-moneda=\"1\" desc-moneda=\"DOLAR PIZARRA VENDEDOR\" sigla-moneda= ...\n",
      " [3] <moneda id-moneda=\"2\" desc-moneda=\"DOLAR INTERBANCARIO VENDEDOR\" sigla-m ...\n",
      " [4] <moneda id-moneda=\"3\" desc-moneda=\"FRANCO FRANCES\" sigla-moneda=\"FF\" id- ...\n",
      " [5] <moneda id-moneda=\"4\" desc-moneda=\"UNIDAD INDEXADA\" sigla-moneda=\"UNIDAD ...\n",
      " [6] <moneda id-moneda=\"5\" desc-moneda=\"UNIDAD REAJUSTABLE\" sigla-moneda=\"UR\" ...\n",
      " [7] <moneda id-moneda=\"6\" desc-moneda=\"MARCO ALEMAN\" sigla-moneda=\"DM\" id-mo ...\n",
      " [8] <moneda id-moneda=\"7\" desc-moneda=\"FRANCO BELGA\" sigla-moneda=\"FB\" id-mo ...\n",
      " [9] <moneda id-moneda=\"8\" desc-moneda=\"DOLAR CANADIENSE\" sigla-moneda=\"DC\" i ...\n",
      "[10] <moneda id-moneda=\"9\" desc-moneda=\"PESETAS\" sigla-moneda=\"PTS\" id-moneda ...\n",
      "[11] <moneda id-moneda=\"10\" desc-moneda=\"FLORINES HOLANDESES\" sigla-moneda=\"F ...\n",
      "[12] <moneda id-moneda=\"11\" desc-moneda=\"LIBRA ESTERLINA\" sigla-moneda=\"£\" id ...\n",
      "[13] <moneda id-moneda=\"12\" desc-moneda=\"YEN\" sigla-moneda=\"YEN\" id-moneda-ar ...\n",
      "[14] <moneda id-moneda=\"13\" desc-moneda=\"CORONA SUECA\" sigla-moneda=\"CS\" id-m ...\n",
      "[15] <moneda id-moneda=\"14\" desc-moneda=\"FRANCO SUIZO\" sigla-moneda=\"FS\" id-m ...\n",
      "[16] <moneda id-moneda=\"15\" desc-moneda=\"EURO\" sigla-moneda=\"EUR\" id-moneda-a ...\n",
      "[17] <moneda id-moneda=\"16\" desc-moneda=\"BOLIVAR\" sigla-moneda=\"BOL\" id-moned ...\n",
      "[18] <moneda id-moneda=\"17\" desc-moneda=\"DERECHOS ESPECIALES DE GIRO\" sigla-m ...\n",
      "[19] <moneda id-moneda=\"18\" desc-moneda=\"UNIDAD REAJUSTABLE DE ALQUILERES\" si ...\n",
      "[20] <moneda id-moneda=\"19\" desc-moneda=\"UNIDAD DE AHORRO REAJUSTABLE\" sigla- ...\n",
      "...\n"
     ]
    }
   ],
   "source": [
    "archivo_xml = \"/Users/arual/Documents/Utec/6to. Semestre/Taller Ciencia de Datos/S1/ArchivosTarea/reporteMonedas.do.xml\"\n",
    "# Activate the `XML` library\n",
    "#library(XML)\n",
    "library(xml2)\n",
    "# Parse the XML file\n",
    "xmlfile <- read_xml(archivo_xml)\n",
    "print(xmlfile)"
   ]
  },
  {
   "cell_type": "code",
   "execution_count": 3,
   "metadata": {},
   "outputs": [
    {
     "name": "stdout",
     "output_type": "stream",
     "text": [
      "{xml_document}\n",
      "<objetos-gasto>\n",
      " [1] <objeto-gasto odg=\"111000\" descripcion=\"ALIMENTOS PARA PERSONAS\"/>\n",
      " [2] <objeto-gasto odg=\"112000\" descripcion=\"ALIMENTOS PARA ANIMALES\"/>\n",
      " [3] <objeto-gasto odg=\"113000\" descripcion=\"PRODUCTOS PECUARIOS\"/>\n",
      " [4] <objeto-gasto odg=\"114000\" descripcion=\"PRODUCTOS AGROFORESTALES Y SUS M ...\n",
      " [5] <objeto-gasto odg=\"115000\" descripcion=\"MATERIA PRIMA AGROPECUARIA Y FOR ...\n",
      " [6] <objeto-gasto odg=\"116000\" descripcion=\"MATERIAS PRIMAS DE ORIGEN ACUÁTI ...\n",
      " [7] <objeto-gasto odg=\"119000\" descripcion=\"OTROS PROD ALIMENTICIOS AGROPECU ...\n",
      " [8] <objeto-gasto odg=\"121000\" descripcion=\"HILADOS Y TELAS\"/>\n",
      " [9] <objeto-gasto odg=\"122000\" descripcion=\"PRENDAS DE VESTIR\"/>\n",
      "[10] <objeto-gasto odg=\"123000\" descripcion=\"CONFECCIONES TEXTILES\"/>\n",
      "[11] <objeto-gasto odg=\"124000\" descripcion=\"CUERO, PIELES Y SIMILARES\"/>\n",
      "[12] <objeto-gasto odg=\"129000\" descripcion=\"OTROS PROD TEXTILES, PRENDAS DE  ...\n",
      "[13] <objeto-gasto odg=\"131000\" descripcion=\"PAPELES DE OFICINA\"/>\n",
      "[14] <objeto-gasto odg=\"132000\" descripcion=\"PRODUCTOS DE PAPEL Y CARTON\"/>\n",
      "[15] <objeto-gasto odg=\"133000\" descripcion=\"FORMULARIOS, IMPRESOS Y SIMILARE ...\n",
      "[16] <objeto-gasto odg=\"134000\" descripcion=\"PRODUCTOS DE ARTES GRAFICAS\"/>\n",
      "[17] <objeto-gasto odg=\"135000\" descripcion=\"LIBROS, REVISTAS Y OTRAS PUBLICA ...\n",
      "[18] <objeto-gasto odg=\"136000\" descripcion=\"ESPECIES TIMBRADAS Y VALORADAS\"/>\n",
      "[19] <objeto-gasto odg=\"139000\" descripcion=\"OTROS PROD. DE PAPEL LIBROS E IM ...\n",
      "[20] <objeto-gasto odg=\"141000\" descripcion=\"COMBUSTIBLES DERIVADOS DEL PETRO ...\n",
      "...\n"
     ]
    }
   ],
   "source": [
    "archivo_xml = \"/Users/arual/Documents/Utec/6to. Semestre/Taller Ciencia de Datos/S1/ArchivosTarea/reporteObjetosGasto.do.xml\"\n",
    "# Activate the `XML` library\n",
    "#library(XML)\n",
    "library(xml2)\n",
    "# Parse the XML file\n",
    "xmlfile <- read_xml(archivo_xml)\n",
    "print(xmlfile)"
   ]
  },
  {
   "cell_type": "code",
   "execution_count": 4,
   "metadata": {},
   "outputs": [
    {
     "name": "stdout",
     "output_type": "stream",
     "text": [
      "{xml_document}\n",
      "<tipos-compra>\n",
      " [1] <tipo-compra id=\"CD\" descripcion=\"Compra Directa\" oferta-economica=\"S\" a ...\n",
      " [2] <tipo-compra id=\"CE\" descripcion=\"Compra por Excepción\" oferta-economica ...\n",
      " [3] <tipo-compra id=\"CM\" descripcion=\"Convenio Marco\" oferta-economica=\"S\" a ...\n",
      " [4] <tipo-compra id=\"CO\" descripcion=\"Concesión\" oferta-economica=\"S\" acto-a ...\n",
      " [5] <tipo-compra id=\"CP\" descripcion=\"PFI - Comparación de precios\" oferta-e ...\n",
      " [6] <tipo-compra id=\"DI\" descripcion=\"PFI - Contratación directa\" oferta-eco ...\n",
      " [7] <tipo-compra id=\"EI\" descripcion=\"Llamado a Expresiones de Interés\" ofer ...\n",
      " [8] <tipo-compra id=\"LA\" descripcion=\"Licitación Abreviada\" oferta-economica ...\n",
      " [9] <tipo-compra id=\"LI\" descripcion=\"PFI - Licitación pública internacional ...\n",
      "[10] <tipo-compra id=\"LL\" descripcion=\"PFI - Licitación internacional limitad ...\n",
      "[11] <tipo-compra id=\"LN\" descripcion=\"PFI - Licitación pública nacional\" ofe ...\n",
      "[12] <tipo-compra id=\"LP\" descripcion=\"Licitación Pública\" oferta-economica=\" ...\n",
      "[13] <tipo-compra id=\"PE\" descripcion=\"Procedimiento Especial\" oferta-economi ...\n",
      "[14] <tipo-compra id=\"PR\" descripcion=\"Pregón\" oferta-economica=\"S\" acto-aper ...\n",
      "[15] <tipo-compra id=\"SI\" descripcion=\"Solicitud de Información\" oferta-econo ...\n",
      "[16] <tipo-compra id=\"VA\" descripcion=\"Venta/Arrendamiento Licitación Abrevia ...\n",
      "[17] <tipo-compra id=\"VD\" descripcion=\"Venta/Arrendamiento Directa\" oferta-ec ...\n",
      "[18] <tipo-compra id=\"VE\" descripcion=\"Venta/Arrendamiento por Excepción\" ofe ...\n",
      "[19] <tipo-compra id=\"VL\" descripcion=\"Venta/Arrendamiento Licitación Pública ...\n",
      "[20] <tipo-compra id=\"VR\" descripcion=\"Venta/Arrendamiento por Remate\" oferta ...\n"
     ]
    }
   ],
   "source": [
    "archivo_xml = \"/Users/arual/Documents/Utec/6to. Semestre/Taller Ciencia de Datos/S1/ArchivosTarea/reporteTiposCompra.do.xml\"\n",
    "# Activate the `XML` library\n",
    "#library(XML)\n",
    "library(xml2)\n",
    "# Parse the XML file\n",
    "xmlfile <- read_xml(archivo_xml)\n",
    "print(xmlfile)"
   ]
  },
  {
   "cell_type": "code",
   "execution_count": 16,
   "metadata": {},
   "outputs": [
    {
     "name": "stderr",
     "output_type": "stream",
     "text": [
      "Installing package into 'C:/Users/arual/Documents/R/win-library/3.6'\n",
      "(as 'lib' is unspecified)\n",
      "Warning message:\n",
      "\"package 'DataExplorer' is in use and will not be installed\""
     ]
    },
    {
     "data": {
      "text/html": [
       "<table>\n",
       "<thead><tr><th scope=col>rows</th><th scope=col>columns</th><th scope=col>discrete_columns</th><th scope=col>continuous_columns</th><th scope=col>all_missing_columns</th><th scope=col>total_missing_values</th><th scope=col>complete_rows</th><th scope=col>total_observations</th><th scope=col>memory_usage</th></tr></thead>\n",
       "<tbody>\n",
       "\t<tr><td>27546 </td><td>5     </td><td>0     </td><td>5     </td><td>0     </td><td>0     </td><td>27546 </td><td>137730</td><td>663112</td></tr>\n",
       "</tbody>\n",
       "</table>\n"
      ],
      "text/latex": [
       "\\begin{tabular}{r|lllllllll}\n",
       " rows & columns & discrete\\_columns & continuous\\_columns & all\\_missing\\_columns & total\\_missing\\_values & complete\\_rows & total\\_observations & memory\\_usage\\\\\n",
       "\\hline\n",
       "\t 27546  & 5      & 0      & 5      & 0      & 0      & 27546  & 137730 & 663112\\\\\n",
       "\\end{tabular}\n"
      ],
      "text/markdown": [
       "\n",
       "| rows | columns | discrete_columns | continuous_columns | all_missing_columns | total_missing_values | complete_rows | total_observations | memory_usage |\n",
       "|---|---|---|---|---|---|---|---|---|\n",
       "| 27546  | 5      | 0      | 5      | 0      | 0      | 27546  | 137730 | 663112 |\n",
       "\n"
      ],
      "text/plain": [
       "  rows  columns discrete_columns continuous_columns all_missing_columns\n",
       "1 27546 5       0                5                  0                  \n",
       "  total_missing_values complete_rows total_observations memory_usage\n",
       "1 0                    27546         137730             663112      "
      ]
     },
     "metadata": {},
     "output_type": "display_data"
    }
   ],
   "source": [
    "install.packages('DataExplorer') \n",
    "library(DataExplorer); library(dplyr)  \n",
    "\n",
    "# Información básica sobre el dataSelect\n",
    "introduce(dataSelect)"
   ]
  },
  {
   "cell_type": "code",
   "execution_count": 17,
   "metadata": {},
   "outputs": [
    {
     "data": {
      "image/png": "[encoded data removed]",
      "text/plain": [
       "plot without title"
      ]
     },
     "metadata": {},
     "output_type": "display_data"
    }
   ],
   "source": [
    "#Columnas vacias del dataSelect\n",
    "plot_missing(dataSelect)"
   ]
  },
  {
   "cell_type": "code",
   "execution_count": 18,
   "metadata": {},
   "outputs": [
    {
     "data": {
      "text/html": [
       "<ol class=list-inline>\n",
       "\t<li>'anio_compra'</li>\n",
       "\t<li>'id_inciso'</li>\n",
       "\t<li>'id_moneda_monto_adj'</li>\n",
       "\t<li>'id_ue'</li>\n",
       "\t<li>'monto_adj'</li>\n",
       "</ol>\n"
      ],
      "text/latex": [
       "\\begin{enumerate*}\n",
       "\\item 'anio\\_compra'\n",
       "\\item 'id\\_inciso'\n",
       "\\item 'id\\_moneda\\_monto\\_adj'\n",
       "\\item 'id\\_ue'\n",
       "\\item 'monto\\_adj'\n",
       "\\end{enumerate*}\n"
      ],
      "text/markdown": [
       "1. 'anio_compra'\n",
       "2. 'id_inciso'\n",
       "3. 'id_moneda_monto_adj'\n",
       "4. 'id_ue'\n",
       "5. 'monto_adj'\n",
       "\n",
       "\n"
      ],
      "text/plain": [
       "[1] \"anio_compra\"         \"id_inciso\"           \"id_moneda_monto_adj\"\n",
       "[4] \"id_ue\"               \"monto_adj\"          "
      ]
     },
     "metadata": {},
     "output_type": "display_data"
    }
   ],
   "source": [
    "# Recordemos que columnas tiene el dataSelect\n",
    "colnames(dataSelect)"
   ]
  },
  {
   "cell_type": "code",
   "execution_count": 19,
   "metadata": {},
   "outputs": [
    {
     "name": "stdout",
     "output_type": "stream",
     "text": [
      "[1] \"Cantidad de Valores Vacios:\"\n",
      "[1] \"Monto Adjudicado:  1217\"\n"
     ]
    }
   ],
   "source": [
    "# Vamos a contar cantidad de valores \"\" en las siguientes columnas:\n",
    "\n",
    "# Imprimo cantidad\n",
    "print(\"Cantidad de Valores Vacios:\")\n",
    "\n",
    "cantMontoVacio <- dataSelect %>% select(monto_adj) %>% \n",
    "                            filter(monto_adj == 0) %>%  \n",
    "                            count()\n",
    "print(paste(\"Monto Adjudicado: \", cantMontoVacio))"
   ]
  },
  {
   "cell_type": "code",
   "execution_count": null,
   "metadata": {},
   "outputs": [],
   "source": []
  },
  {
   "cell_type": "markdown",
   "metadata": {},
   "source": [
    "<a id='Conclusiones'></a>\n",
    "### Conclusiones\n",
    "\n",
    "---\n",
    "\n",
    "Para el análisis de datos"
   ]
  },
  {
   "cell_type": "markdown",
   "metadata": {},
   "source": []
  }
 ],
 "metadata": {
  "kernelspec": {
   "display_name": "R",
   "language": "R",
   "name": "ir"
  },
  "language_info": {
   "codemirror_mode": "r",
   "file_extension": ".r",
   "mimetype": "text/x-r-source",
   "name": "R",
   "pygments_lexer": "r",
   "version": "3.6.1"
  }
 },
 "nbformat": 4,
 "nbformat_minor": 2
}
