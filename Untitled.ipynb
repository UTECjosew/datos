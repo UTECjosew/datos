{
 "cells": [
  {
   "cell_type": "code",
   "execution_count": 1,
   "metadata": {},
   "outputs": [],
   "source": [
    "# Importo archivo CSV Editado\n",
    "archivo <- \"/Users/Andy/Desktop/Win10/UTEC/2019/Semestre 6/AD:DS/Semana1/compras/compras2018_1ero.csv\""
   ]
  },
  {
   "cell_type": "code",
   "execution_count": 2,
   "metadata": {},
   "outputs": [],
   "source": [
    "# Cargo datos del archivo\n",
    "datos <- read.csv(archivo)"
   ]
  },
  {
   "cell_type": "code",
   "execution_count": 3,
   "metadata": {},
   "outputs": [
    {
     "data": {
      "text/html": [
       "<table>\n",
       "<caption>A data.frame: 6 × 22</caption>\n",
       "<thead>\n",
       "\t<tr><th scope=col>anio_compra</th><th scope=col>apel</th><th scope=col>arch_adj</th><th scope=col>arch_reiteracion</th><th scope=col>es_reiteracion</th><th scope=col>estado_compra</th><th scope=col>fecha_compra</th><th scope=col>fecha_pub_adj</th><th scope=col>fondos_rotatorios</th><th scope=col>id_compra</th><th scope=col>⋯</th><th scope=col>id_tipo_resol</th><th scope=col>id_tipocompra</th><th scope=col>id_ue</th><th scope=col>monto_adj</th><th scope=col>nro_ampliacion</th><th scope=col>num_compra</th><th scope=col>num_resol</th><th scope=col>objeto</th><th scope=col>subtipo_compra</th><th scope=col>open_contracting_link</th></tr>\n",
       "\t<tr><th scope=col>&lt;int&gt;</th><th scope=col>&lt;fct&gt;</th><th scope=col>&lt;fct&gt;</th><th scope=col>&lt;fct&gt;</th><th scope=col>&lt;fct&gt;</th><th scope=col>&lt;int&gt;</th><th scope=col>&lt;fct&gt;</th><th scope=col>&lt;fct&gt;</th><th scope=col>&lt;fct&gt;</th><th scope=col>&lt;int&gt;</th><th scope=col>⋯</th><th scope=col>&lt;int&gt;</th><th scope=col>&lt;fct&gt;</th><th scope=col>&lt;int&gt;</th><th scope=col>&lt;dbl&gt;</th><th scope=col>&lt;int&gt;</th><th scope=col>&lt;int&gt;</th><th scope=col>&lt;int&gt;</th><th scope=col>&lt;fct&gt;</th><th scope=col>&lt;fct&gt;</th><th scope=col>&lt;fct&gt;</th></tr>\n",
       "</thead>\n",
       "<tbody>\n",
       "\t<tr><td>2017</td><td>N</td><td>acta_620613.pdf </td><td></td><td>N</td><td>7</td><td>21/12/2017</td><td>03/01/2018 16:25</td><td>N</td><td>620613</td><td>⋯</td><td>1</td><td>LA</td><td> 31</td><td>  17910.00</td><td>0</td><td>   12</td><td>   1217</td><td>Adquisición de 1 camioneta para el Departamento de Ciencias Sociales del CENUR Litoral Norte - Sede Salto                                                                     </td><td>COM</td><td>https://comprasestatales.gub.uy/ocds/record/620613</td></tr>\n",
       "\t<tr><td>2017</td><td>S</td><td>acta_620880.doc </td><td></td><td>N</td><td>7</td><td>12/12/2017</td><td>03/01/2018 12:45</td><td>N</td><td>620880</td><td>⋯</td><td>1</td><td>CD</td><td>103</td><td>  12195.03</td><td>0</td><td>  295</td><td>2952017</td><td>ADQUISICIÓN DE ARTÍCULOS DE SANITARIA. Importante leer el pliego de a compra para cotizar de forma correcta. Solo se aceptan cotizaciones en línea.                           </td><td>COM</td><td>https://comprasestatales.gub.uy/ocds/record/620880</td></tr>\n",
       "\t<tr><td>2017</td><td>S</td><td>acta_620374.pdf </td><td></td><td>N</td><td>7</td><td>19/12/2017</td><td>02/01/2018 15:00</td><td>N</td><td>620374</td><td>⋯</td><td>1</td><td>CD</td><td> 16</td><td>  12468.40</td><td>0</td><td>   22</td><td>      1</td><td>Compra Directa de Cartuchos para Artes Gráficas, Cotizar en función del pliego ingresado. Las ofertas se reciben solo por la página de Compras Estatales.                     </td><td>COM</td><td>https://comprasestatales.gub.uy/ocds/record/620374</td></tr>\n",
       "\t<tr><td>2017</td><td>N</td><td>acta_621095.docx</td><td></td><td>N</td><td>7</td><td>26/12/2017</td><td>05/01/2018 10:30</td><td>N</td><td>621095</td><td>⋯</td><td>3</td><td>CP</td><td>  1</td><td>      0.00</td><td>0</td><td> 5066</td><td>     15</td><td>Contratación de empresa para colocación de relleno en wetland del Liceo de Empalme Olmos - Ver pliego y planos adjuntos - No se aceptan ofertas en línea                      </td><td>COM</td><td>https://comprasestatales.gub.uy/ocds/record/621095</td></tr>\n",
       "\t<tr><td>2017</td><td>S</td><td>                </td><td></td><td>N</td><td>7</td><td>28/12/2017</td><td>03/01/2018 14:15</td><td>N</td><td>621195</td><td>⋯</td><td>1</td><td>CD</td><td>103</td><td>  13908.00</td><td>0</td><td>33550</td><td>      0</td><td>1 Agitador lineal, con capacidad máxima de carga de 7kgs, temporizador y regulador de velocidad, 220volt\n",
       "Leer adjunto.-                                                      </td><td>COM</td><td>https://comprasestatales.gub.uy/ocds/record/621195</td></tr>\n",
       "\t<tr><td>2017</td><td>S</td><td>acta_621246.pdf </td><td></td><td>N</td><td>7</td><td>26/12/2017</td><td>03/01/2018 14:45</td><td>N</td><td>621246</td><td>⋯</td><td>1</td><td>LA</td><td> 16</td><td>1679118.94</td><td>0</td><td>   11</td><td>      1</td><td>Obra: \"SUMINISTRO Y COLOCACIÓN DE ASCENSOR MONTACARGAS SIN SALA DE MÁQUINA\". Cotizar según pliego.\n",
       "Visita a obra 07/12/2017, hora 14:30, Facultad de Artes (18 de Julio 1772)</td><td>COM</td><td>https://comprasestatales.gub.uy/ocds/record/621246</td></tr>\n",
       "</tbody>\n",
       "</table>\n"
      ],
      "text/latex": [
       "A data.frame: 6 × 22\n",
       "\\begin{tabular}{r|llllllllllllllllllllll}\n",
       " anio\\_compra & apel & arch\\_adj & arch\\_reiteracion & es\\_reiteracion & estado\\_compra & fecha\\_compra & fecha\\_pub\\_adj & fondos\\_rotatorios & id\\_compra & id\\_inciso & id\\_moneda\\_monto\\_adj & id\\_tipo\\_resol & id\\_tipocompra & id\\_ue & monto\\_adj & nro\\_ampliacion & num\\_compra & num\\_resol & objeto & subtipo\\_compra & open\\_contracting\\_link\\\\\n",
       " <int> & <fct> & <fct> & <fct> & <fct> & <int> & <fct> & <fct> & <fct> & <int> & <int> & <int> & <int> & <fct> & <int> & <dbl> & <int> & <int> & <int> & <fct> & <fct> & <fct>\\\\\n",
       "\\hline\n",
       "\t 2017 & N & acta\\_620613.pdf  &  & N & 7 & 21/12/2017 & 03/01/2018 16:25 & N & 620613 & 26 & 1 & 1 & LA &  31 &   17910.00 & 0 &    12 &    1217 & Adquisición de 1 camioneta para el Departamento de Ciencias Sociales del CENUR Litoral Norte - Sede Salto                                                                      & COM & https://comprasestatales.gub.uy/ocds/record/620613\\\\\n",
       "\t 2017 & S & acta\\_620880.doc  &  & N & 7 & 12/12/2017 & 03/01/2018 12:45 & N & 620880 & 29 & 0 & 1 & CD & 103 &   12195.03 & 0 &   295 & 2952017 & ADQUISICIÓN DE ARTÍCULOS DE SANITARIA. Importante leer el pliego de a compra para cotizar de forma correcta. Solo se aceptan cotizaciones en línea.                            & COM & https://comprasestatales.gub.uy/ocds/record/620880\\\\\n",
       "\t 2017 & S & acta\\_620374.pdf  &  & N & 7 & 19/12/2017 & 02/01/2018 15:00 & N & 620374 & 26 & 0 & 1 & CD &  16 &   12468.40 & 0 &    22 &       1 & Compra Directa de Cartuchos para Artes Gráficas, Cotizar en función del pliego ingresado. Las ofertas se reciben solo por la página de Compras Estatales.                      & COM & https://comprasestatales.gub.uy/ocds/record/620374\\\\\n",
       "\t 2017 & N & acta\\_621095.docx &  & N & 7 & 26/12/2017 & 05/01/2018 10:30 & N & 621095 & 25 & 0 & 3 & CP &   1 &       0.00 & 0 &  5066 &      15 & Contratación de empresa para colocación de relleno en wetland del Liceo de Empalme Olmos - Ver pliego y planos adjuntos - No se aceptan ofertas en línea                       & COM & https://comprasestatales.gub.uy/ocds/record/621095\\\\\n",
       "\t 2017 & S &                  &  & N & 7 & 28/12/2017 & 03/01/2018 14:15 & N & 621195 & 12 & 0 & 1 & CD & 103 &   13908.00 & 0 & 33550 &       0 & 1 Agitador lineal, con capacidad máxima de carga de 7kgs, temporizador y regulador de velocidad, 220volt\n",
       "Leer adjunto.-                                                       & COM & https://comprasestatales.gub.uy/ocds/record/621195\\\\\n",
       "\t 2017 & S & acta\\_621246.pdf  &  & N & 7 & 26/12/2017 & 03/01/2018 14:45 & N & 621246 & 26 & 0 & 1 & LA &  16 & 1679118.94 & 0 &    11 &       1 & Obra: \"SUMINISTRO Y COLOCACIÓN DE ASCENSOR MONTACARGAS SIN SALA DE MÁQUINA\". Cotizar según pliego.\n",
       "Visita a obra 07/12/2017, hora 14:30, Facultad de Artes (18 de Julio 1772) & COM & https://comprasestatales.gub.uy/ocds/record/621246\\\\\n",
       "\\end{tabular}\n"
      ],
      "text/markdown": [
       "\n",
       "A data.frame: 6 × 22\n",
       "\n",
       "| anio_compra &lt;int&gt; | apel &lt;fct&gt; | arch_adj &lt;fct&gt; | arch_reiteracion &lt;fct&gt; | es_reiteracion &lt;fct&gt; | estado_compra &lt;int&gt; | fecha_compra &lt;fct&gt; | fecha_pub_adj &lt;fct&gt; | fondos_rotatorios &lt;fct&gt; | id_compra &lt;int&gt; | ⋯ ⋯ | id_tipo_resol &lt;int&gt; | id_tipocompra &lt;fct&gt; | id_ue &lt;int&gt; | monto_adj &lt;dbl&gt; | nro_ampliacion &lt;int&gt; | num_compra &lt;int&gt; | num_resol &lt;int&gt; | objeto &lt;fct&gt; | subtipo_compra &lt;fct&gt; | open_contracting_link &lt;fct&gt; |\n",
       "|---|---|---|---|---|---|---|---|---|---|---|---|---|---|---|---|---|---|---|---|---|\n",
       "| 2017 | N | acta_620613.pdf  | <!----> | N | 7 | 21/12/2017 | 03/01/2018 16:25 | N | 620613 | ⋯ | 1 | LA |  31 |   17910.00 | 0 |    12 |    1217 | Adquisición de 1 camioneta para el Departamento de Ciencias Sociales del CENUR Litoral Norte - Sede Salto                                                                      | COM | https://comprasestatales.gub.uy/ocds/record/620613 |\n",
       "| 2017 | S | acta_620880.doc  | <!----> | N | 7 | 12/12/2017 | 03/01/2018 12:45 | N | 620880 | ⋯ | 1 | CD | 103 |   12195.03 | 0 |   295 | 2952017 | ADQUISICIÓN DE ARTÍCULOS DE SANITARIA. Importante leer el pliego de a compra para cotizar de forma correcta. Solo se aceptan cotizaciones en línea.                            | COM | https://comprasestatales.gub.uy/ocds/record/620880 |\n",
       "| 2017 | S | acta_620374.pdf  | <!----> | N | 7 | 19/12/2017 | 02/01/2018 15:00 | N | 620374 | ⋯ | 1 | CD |  16 |   12468.40 | 0 |    22 |       1 | Compra Directa de Cartuchos para Artes Gráficas, Cotizar en función del pliego ingresado. Las ofertas se reciben solo por la página de Compras Estatales.                      | COM | https://comprasestatales.gub.uy/ocds/record/620374 |\n",
       "| 2017 | N | acta_621095.docx | <!----> | N | 7 | 26/12/2017 | 05/01/2018 10:30 | N | 621095 | ⋯ | 3 | CP |   1 |       0.00 | 0 |  5066 |      15 | Contratación de empresa para colocación de relleno en wetland del Liceo de Empalme Olmos - Ver pliego y planos adjuntos - No se aceptan ofertas en línea                       | COM | https://comprasestatales.gub.uy/ocds/record/621095 |\n",
       "| 2017 | S | <!----> | <!----> | N | 7 | 28/12/2017 | 03/01/2018 14:15 | N | 621195 | ⋯ | 1 | CD | 103 |   13908.00 | 0 | 33550 |       0 | 1 Agitador lineal, con capacidad máxima de carga de 7kgs, temporizador y regulador de velocidad, 220volt\n",
       "Leer adjunto.-                                                       | COM | https://comprasestatales.gub.uy/ocds/record/621195 |\n",
       "| 2017 | S | acta_621246.pdf  | <!----> | N | 7 | 26/12/2017 | 03/01/2018 14:45 | N | 621246 | ⋯ | 1 | LA |  16 | 1679118.94 | 0 |    11 |       1 | Obra: \"SUMINISTRO Y COLOCACIÓN DE ASCENSOR MONTACARGAS SIN SALA DE MÁQUINA\". Cotizar según pliego.\n",
       "Visita a obra 07/12/2017, hora 14:30, Facultad de Artes (18 de Julio 1772) | COM | https://comprasestatales.gub.uy/ocds/record/621246 |\n",
       "\n"
      ],
      "text/plain": [
       "  anio_compra apel arch_adj         arch_reiteracion es_reiteracion\n",
       "1 2017        N    acta_620613.pdf                   N             \n",
       "2 2017        S    acta_620880.doc                   N             \n",
       "3 2017        S    acta_620374.pdf                   N             \n",
       "4 2017        N    acta_621095.docx                  N             \n",
       "5 2017        S                                      N             \n",
       "6 2017        S    acta_621246.pdf                   N             \n",
       "  estado_compra fecha_compra fecha_pub_adj    fondos_rotatorios id_compra ⋯\n",
       "1 7             21/12/2017   03/01/2018 16:25 N                 620613    ⋯\n",
       "2 7             12/12/2017   03/01/2018 12:45 N                 620880    ⋯\n",
       "3 7             19/12/2017   02/01/2018 15:00 N                 620374    ⋯\n",
       "4 7             26/12/2017   05/01/2018 10:30 N                 621095    ⋯\n",
       "5 7             28/12/2017   03/01/2018 14:15 N                 621195    ⋯\n",
       "6 7             26/12/2017   03/01/2018 14:45 N                 621246    ⋯\n",
       "  id_tipo_resol id_tipocompra id_ue monto_adj  nro_ampliacion num_compra\n",
       "1 1             LA             31     17910.00 0                 12     \n",
       "2 1             CD            103     12195.03 0                295     \n",
       "3 1             CD             16     12468.40 0                 22     \n",
       "4 3             CP              1         0.00 0               5066     \n",
       "5 1             CD            103     13908.00 0              33550     \n",
       "6 1             LA             16   1679118.94 0                 11     \n",
       "  num_resol\n",
       "1    1217  \n",
       "2 2952017  \n",
       "3       1  \n",
       "4      15  \n",
       "5       0  \n",
       "6       1  \n",
       "  objeto                                                                                                                                                                        \n",
       "1 Adquisición de 1 camioneta para el Departamento de Ciencias Sociales del CENUR Litoral Norte - Sede Salto                                                                     \n",
       "2 ADQUISICIÓN DE ARTÍCULOS DE SANITARIA. Importante leer el pliego de a compra para cotizar de forma correcta. Solo se aceptan cotizaciones en línea.                           \n",
       "3 Compra Directa de Cartuchos para Artes Gráficas, Cotizar en función del pliego ingresado. Las ofertas se reciben solo por la página de Compras Estatales.                     \n",
       "4 Contratación de empresa para colocación de relleno en wetland del Liceo de Empalme Olmos - Ver pliego y planos adjuntos - No se aceptan ofertas en línea                      \n",
       "5 1 Agitador lineal, con capacidad máxima de carga de 7kgs, temporizador y regulador de velocidad, 220volt\\nLeer adjunto.-                                                      \n",
       "6 Obra: \"SUMINISTRO Y COLOCACIÓN DE ASCENSOR MONTACARGAS SIN SALA DE MÁQUINA\". Cotizar según pliego.\\nVisita a obra 07/12/2017, hora 14:30, Facultad de Artes (18 de Julio 1772)\n",
       "  subtipo_compra open_contracting_link                             \n",
       "1 COM            https://comprasestatales.gub.uy/ocds/record/620613\n",
       "2 COM            https://comprasestatales.gub.uy/ocds/record/620880\n",
       "3 COM            https://comprasestatales.gub.uy/ocds/record/620374\n",
       "4 COM            https://comprasestatales.gub.uy/ocds/record/621095\n",
       "5 COM            https://comprasestatales.gub.uy/ocds/record/621195\n",
       "6 COM            https://comprasestatales.gub.uy/ocds/record/621246"
      ]
     },
     "metadata": {},
     "output_type": "display_data"
    }
   ],
   "source": [
    "# Imprimo primeras filas del CSV\n",
    "head(datos)"
   ]
  },
  {
   "cell_type": "code",
   "execution_count": 37,
   "metadata": {},
   "outputs": [
    {
     "name": "stdout",
     "output_type": "stream",
     "text": [
      "\n",
      "The downloaded binary packages are in\n",
      "\t/var/folders/ly/95h1nybs1bqbfq40d29xnmdc0000gn/T//Rtmpfy4vl3/downloaded_packages\n"
     ]
    }
   ],
   "source": [
    "# Importar libreria dplyr\n",
    "library(dplyr)\n",
    "install.packages(\"tidyverse\")"
   ]
  },
  {
   "cell_type": "code",
   "execution_count": 31,
   "metadata": {},
   "outputs": [],
   "source": [
    "# Selecciona solamente las columnas Anio_Compra, id_moneda_monto_adj, id_ue, monto_adj,  \n",
    "dataSelect <- select(datos, anio_compra, id_inciso,id_moneda_monto_adj, id_ue, monto_adj);"
   ]
  },
  {
   "cell_type": "code",
   "execution_count": 32,
   "metadata": {},
   "outputs": [
    {
     "data": {
      "text/html": [
       "<table>\n",
       "<caption>A data.frame: 6 × 5</caption>\n",
       "<thead>\n",
       "\t<tr><th scope=col>anio_compra</th><th scope=col>id_inciso</th><th scope=col>id_moneda_monto_adj</th><th scope=col>id_ue</th><th scope=col>monto_adj</th></tr>\n",
       "\t<tr><th scope=col>&lt;int&gt;</th><th scope=col>&lt;int&gt;</th><th scope=col>&lt;int&gt;</th><th scope=col>&lt;int&gt;</th><th scope=col>&lt;dbl&gt;</th></tr>\n",
       "</thead>\n",
       "<tbody>\n",
       "\t<tr><td>2017</td><td>26</td><td>1</td><td> 31</td><td>  17910.00</td></tr>\n",
       "\t<tr><td>2017</td><td>29</td><td>0</td><td>103</td><td>  12195.03</td></tr>\n",
       "\t<tr><td>2017</td><td>26</td><td>0</td><td> 16</td><td>  12468.40</td></tr>\n",
       "\t<tr><td>2017</td><td>25</td><td>0</td><td>  1</td><td>      0.00</td></tr>\n",
       "\t<tr><td>2017</td><td>12</td><td>0</td><td>103</td><td>  13908.00</td></tr>\n",
       "\t<tr><td>2017</td><td>26</td><td>0</td><td> 16</td><td>1679118.94</td></tr>\n",
       "</tbody>\n",
       "</table>\n"
      ],
      "text/latex": [
       "A data.frame: 6 × 5\n",
       "\\begin{tabular}{r|lllll}\n",
       " anio\\_compra & id\\_inciso & id\\_moneda\\_monto\\_adj & id\\_ue & monto\\_adj\\\\\n",
       " <int> & <int> & <int> & <int> & <dbl>\\\\\n",
       "\\hline\n",
       "\t 2017 & 26 & 1 &  31 &   17910.00\\\\\n",
       "\t 2017 & 29 & 0 & 103 &   12195.03\\\\\n",
       "\t 2017 & 26 & 0 &  16 &   12468.40\\\\\n",
       "\t 2017 & 25 & 0 &   1 &       0.00\\\\\n",
       "\t 2017 & 12 & 0 & 103 &   13908.00\\\\\n",
       "\t 2017 & 26 & 0 &  16 & 1679118.94\\\\\n",
       "\\end{tabular}\n"
      ],
      "text/markdown": [
       "\n",
       "A data.frame: 6 × 5\n",
       "\n",
       "| anio_compra &lt;int&gt; | id_inciso &lt;int&gt; | id_moneda_monto_adj &lt;int&gt; | id_ue &lt;int&gt; | monto_adj &lt;dbl&gt; |\n",
       "|---|---|---|---|---|\n",
       "| 2017 | 26 | 1 |  31 |   17910.00 |\n",
       "| 2017 | 29 | 0 | 103 |   12195.03 |\n",
       "| 2017 | 26 | 0 |  16 |   12468.40 |\n",
       "| 2017 | 25 | 0 |   1 |       0.00 |\n",
       "| 2017 | 12 | 0 | 103 |   13908.00 |\n",
       "| 2017 | 26 | 0 |  16 | 1679118.94 |\n",
       "\n"
      ],
      "text/plain": [
       "  anio_compra id_inciso id_moneda_monto_adj id_ue monto_adj \n",
       "1 2017        26        1                    31     17910.00\n",
       "2 2017        29        0                   103     12195.03\n",
       "3 2017        26        0                    16     12468.40\n",
       "4 2017        25        0                     1         0.00\n",
       "5 2017        12        0                   103     13908.00\n",
       "6 2017        26        0                    16   1679118.94"
      ]
     },
     "metadata": {},
     "output_type": "display_data"
    }
   ],
   "source": [
    "# Imprimo primeras filas del CSV\n",
    "head(dataSelect)"
   ]
  },
  {
   "cell_type": "code",
   "execution_count": 55,
   "metadata": {},
   "outputs": [
    {
     "data": {
      "text/html": [
       "<table>\n",
       "<caption>A grouped_df: 20 × 3</caption>\n",
       "<thead>\n",
       "\t<tr><th scope=col>id_inciso</th><th scope=col>id_ue</th><th scope=col>monto</th></tr>\n",
       "\t<tr><th scope=col>&lt;int&gt;</th><th scope=col>&lt;int&gt;</th><th scope=col>&lt;dbl&gt;</th></tr>\n",
       "</thead>\n",
       "<tbody>\n",
       "\t<tr><td>98</td><td> 1</td><td>6965584</td></tr>\n",
       "\t<tr><td>53</td><td> 1</td><td>6471876</td></tr>\n",
       "\t<tr><td>50</td><td> 1</td><td>6223397</td></tr>\n",
       "\t<tr><td>97</td><td> 1</td><td>4380698</td></tr>\n",
       "\t<tr><td>93</td><td> 1</td><td>2890499</td></tr>\n",
       "\t<tr><td>80</td><td> 1</td><td>2875297</td></tr>\n",
       "\t<tr><td>94</td><td> 1</td><td>2698522</td></tr>\n",
       "\t<tr><td>88</td><td> 1</td><td>2514000</td></tr>\n",
       "\t<tr><td>26</td><td> 9</td><td>2464962</td></tr>\n",
       "\t<tr><td>26</td><td>10</td><td>2247193</td></tr>\n",
       "\t<tr><td>29</td><td>26</td><td>2118769</td></tr>\n",
       "\t<tr><td>84</td><td> 1</td><td>1845486</td></tr>\n",
       "\t<tr><td>29</td><td>21</td><td>1843097</td></tr>\n",
       "\t<tr><td>85</td><td> 1</td><td>1774722</td></tr>\n",
       "\t<tr><td>26</td><td>19</td><td>1701505</td></tr>\n",
       "\t<tr><td>51</td><td> 1</td><td>1669591</td></tr>\n",
       "\t<tr><td>29</td><td> 4</td><td>1511441</td></tr>\n",
       "\t<tr><td>15</td><td> 2</td><td>1121870</td></tr>\n",
       "\t<tr><td> 1</td><td> 2</td><td>1100001</td></tr>\n",
       "\t<tr><td>83</td><td> 1</td><td>1054397</td></tr>\n",
       "</tbody>\n",
       "</table>\n"
      ],
      "text/latex": [
       "A grouped_df: 20 × 3\n",
       "\\begin{tabular}{r|lll}\n",
       " id\\_inciso & id\\_ue & monto\\\\\n",
       " <int> & <int> & <dbl>\\\\\n",
       "\\hline\n",
       "\t 98 &  1 & 6965584\\\\\n",
       "\t 53 &  1 & 6471876\\\\\n",
       "\t 50 &  1 & 6223397\\\\\n",
       "\t 97 &  1 & 4380698\\\\\n",
       "\t 93 &  1 & 2890499\\\\\n",
       "\t 80 &  1 & 2875297\\\\\n",
       "\t 94 &  1 & 2698522\\\\\n",
       "\t 88 &  1 & 2514000\\\\\n",
       "\t 26 &  9 & 2464962\\\\\n",
       "\t 26 & 10 & 2247193\\\\\n",
       "\t 29 & 26 & 2118769\\\\\n",
       "\t 84 &  1 & 1845486\\\\\n",
       "\t 29 & 21 & 1843097\\\\\n",
       "\t 85 &  1 & 1774722\\\\\n",
       "\t 26 & 19 & 1701505\\\\\n",
       "\t 51 &  1 & 1669591\\\\\n",
       "\t 29 &  4 & 1511441\\\\\n",
       "\t 15 &  2 & 1121870\\\\\n",
       "\t  1 &  2 & 1100001\\\\\n",
       "\t 83 &  1 & 1054397\\\\\n",
       "\\end{tabular}\n"
      ],
      "text/markdown": [
       "\n",
       "A grouped_df: 20 × 3\n",
       "\n",
       "| id_inciso &lt;int&gt; | id_ue &lt;int&gt; | monto &lt;dbl&gt; |\n",
       "|---|---|---|\n",
       "| 98 |  1 | 6965584 |\n",
       "| 53 |  1 | 6471876 |\n",
       "| 50 |  1 | 6223397 |\n",
       "| 97 |  1 | 4380698 |\n",
       "| 93 |  1 | 2890499 |\n",
       "| 80 |  1 | 2875297 |\n",
       "| 94 |  1 | 2698522 |\n",
       "| 88 |  1 | 2514000 |\n",
       "| 26 |  9 | 2464962 |\n",
       "| 26 | 10 | 2247193 |\n",
       "| 29 | 26 | 2118769 |\n",
       "| 84 |  1 | 1845486 |\n",
       "| 29 | 21 | 1843097 |\n",
       "| 85 |  1 | 1774722 |\n",
       "| 26 | 19 | 1701505 |\n",
       "| 51 |  1 | 1669591 |\n",
       "| 29 |  4 | 1511441 |\n",
       "| 15 |  2 | 1121870 |\n",
       "|  1 |  2 | 1100001 |\n",
       "| 83 |  1 | 1054397 |\n",
       "\n"
      ],
      "text/plain": [
       "   id_inciso id_ue monto  \n",
       "1  98         1    6965584\n",
       "2  53         1    6471876\n",
       "3  50         1    6223397\n",
       "4  97         1    4380698\n",
       "5  93         1    2890499\n",
       "6  80         1    2875297\n",
       "7  94         1    2698522\n",
       "8  88         1    2514000\n",
       "9  26         9    2464962\n",
       "10 26        10    2247193\n",
       "11 29        26    2118769\n",
       "12 84         1    1845486\n",
       "13 29        21    1843097\n",
       "14 85         1    1774722\n",
       "15 26        19    1701505\n",
       "16 51         1    1669591\n",
       "17 29         4    1511441\n",
       "18 15         2    1121870\n",
       "19  1         2    1100001\n",
       "20 83         1    1054397"
      ]
     },
     "metadata": {},
     "output_type": "display_data"
    }
   ],
   "source": [
    "#Agrupamos los datos \n",
    "\n",
    "# group_by(dataSelect, dataSelect$id_ue)\n",
    "datosOrdenados <-dataSelect %>% group_by(id_inciso,id_ue) %>% summarise(monto = mean(monto_adj))\n",
    "f<-arrange(datosOrdenados, desc(monto))\n",
    "head(f, 20)"
   ]
  },
  {
   "cell_type": "code",
   "execution_count": 27,
   "metadata": {},
   "outputs": [
    {
     "name": "stdout",
     "output_type": "stream",
     "text": [
      "{xml_document}\n",
      "<unidades-ejecutoras>\n",
      " [1] <unidad-ejecutora id-inciso=\"1\" id-ue=\"1\" nom-ue=\"Cámara de Senadores\"/>\n",
      " [2] <unidad-ejecutora id-inciso=\"1\" id-ue=\"2\" nom-ue=\"Cámara de Representant ...\n",
      " [3] <unidad-ejecutora id-inciso=\"1\" id-ue=\"3\" nom-ue=\"Comisión Administrativ ...\n",
      " [4] <unidad-ejecutora id-inciso=\"2\" id-ue=\"1\" nom-ue=\"Presidencia  de la Rep ...\n",
      " [5] <unidad-ejecutora id-inciso=\"2\" id-ue=\"3\" nom-ue=\"Casa Militar\"/>\n",
      " [6] <unidad-ejecutora id-inciso=\"2\" id-ue=\"4\" nom-ue=\"Oficina de Planeamient ...\n",
      " [7] <unidad-ejecutora id-inciso=\"2\" id-ue=\"5\" nom-ue=\"NO VIGENTE - Dirección ...\n",
      " [8] <unidad-ejecutora id-inciso=\"2\" id-ue=\"6\" nom-ue=\"Unidad Reguladora de S ...\n",
      " [9] <unidad-ejecutora id-inciso=\"2\" id-ue=\"7\" nom-ue=\"Instituto Nacional de  ...\n",
      "[10] <unidad-ejecutora id-inciso=\"2\" id-ue=\"8\" nom-ue=\"Oficina Nacional del S ...\n",
      "[11] <unidad-ejecutora id-inciso=\"2\" id-ue=\"9\" nom-ue=\"Unidad Reguladora de S ...\n",
      "[12] <unidad-ejecutora id-inciso=\"2\" id-ue=\"10\" nom-ue=\"AGESIC\"/>\n",
      "[13] <unidad-ejecutora id-inciso=\"2\" id-ue=\"11\" nom-ue=\"Secretaría  Nacional  ...\n",
      "[14] <unidad-ejecutora id-inciso=\"3\" id-ue=\"1\" nom-ue=\"Dirección General de S ...\n",
      "[15] <unidad-ejecutora id-inciso=\"3\" id-ue=\"3\" nom-ue=\"Estado Mayor de la Def ...\n",
      "[16] <unidad-ejecutora id-inciso=\"3\" id-ue=\"4\" nom-ue=\"Comando General del Ej ...\n",
      "[17] <unidad-ejecutora id-inciso=\"3\" id-ue=\"18\" nom-ue=\"Comando General de la ...\n",
      "[18] <unidad-ejecutora id-inciso=\"3\" id-ue=\"23\" nom-ue=\"Comando General de la ...\n",
      "[19] <unidad-ejecutora id-inciso=\"3\" id-ue=\"30\" nom-ue=\"Ex-Dirección Nacional ...\n",
      "[20] <unidad-ejecutora id-inciso=\"3\" id-ue=\"31\" nom-ue=\"Ex-Dirección General  ...\n",
      "...\n"
     ]
    }
   ],
   "source": [
    "archivo_xml = \"/Users/Andy/Desktop/Win10/UTEC/2019/Semestre 6/AD:DS/Semana1/compras/reporteUnidadesEjecutoras.do.xml\"\n",
    "# Activate the `XML` library\n",
    "#library(XML)\n",
    "library(xml2)\n",
    "# Parse the XML file\n",
    "xmlfile <- read_xml(archivo_xml)\n",
    "print(xmlfile)"
   ]
  },
  {
   "cell_type": "code",
   "execution_count": null,
   "metadata": {},
   "outputs": [],
   "source": []
  },
  {
   "cell_type": "code",
   "execution_count": null,
   "metadata": {},
   "outputs": [],
   "source": []
  }
 ],
 "metadata": {
  "kernelspec": {
   "display_name": "R",
   "language": "R",
   "name": "ir"
  },
  "language_info": {
   "codemirror_mode": "r",
   "file_extension": ".r",
   "mimetype": "text/x-r-source",
   "name": "R",
   "pygments_lexer": "r",
   "version": "3.6.1"
  }
 },
 "nbformat": 4,
 "nbformat_minor": 2
}
