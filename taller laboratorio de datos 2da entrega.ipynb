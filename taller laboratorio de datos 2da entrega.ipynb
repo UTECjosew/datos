{
 "cells": [
  {
   "cell_type": "markdown",
   "metadata": {},
   "source": [
    " # Taller Ciencia de Datos \n",
    "\n",
    "### ***Tarea Laboratorio 2019***\n",
    "\n",
    "---\n",
    "<div class=\"text-center\"> Andrea Correa </div>\n",
    "<div class=\"text-center\">Maria Laura Gayo </div>\n",
    "<div class=\"text-center\"> Mariano Koci </div>\n",
    "<div class=\"text-center\">Alejandro Wohlwend </div>\n",
    "<div class=\"text-center\">Renzo Daset </div>\n",
    "<div class=\"text-center\">Laura Rodriguez </div>\n",
    "\n",
    "---\n",
    "\n",
    "\n",
    "<a id='Indice'></a>\n",
    "### Índice\n",
    "\n",
    "1. [Adquisición de datos](#Adquisicion-Datos)\n",
    "    1. [Import de CSV](#Import-CSV)\n",
    "    1. [Unión de archivos](#Union)\n",
    "    \n",
    "2. [Transformación de los datos](#Transformacion)\n",
    "    2. [Transformación de Adjudicaciones](#Transformación-Adjudicaciones)\n",
    "    2. [Transformación de Monedas](#Transformación-Moneda)\n",
    "    2. [Transformación de valor 0 ](#Transformación-Invalidos)\n",
    "    \n",
    "3. [Análisis de los objetivos del Negocio y como se mapeo a los datos disponibles](#Analisis)\n",
    "\n",
    "4. [Análisis y visualización para los requerimientos de negocio](#Visualización)\n",
    "\n",
    "5. [Conclusiones](#Conclusiones)\n",
    "\n",
    "---"
   ]
  },
  {
   "cell_type": "code",
   "execution_count": 1,
   "metadata": {},
   "outputs": [
    {
     "name": "stderr",
     "output_type": "stream",
     "text": [
      "\n",
      "Attaching package: ‘dplyr’\n",
      "\n",
      "\n",
      "The following objects are masked from ‘package:stats’:\n",
      "\n",
      "    filter, lag\n",
      "\n",
      "\n",
      "The following objects are masked from ‘package:base’:\n",
      "\n",
      "    intersect, setdiff, setequal, union\n",
      "\n",
      "\n"
     ]
    },
    {
     "name": "stdout",
     "output_type": "stream",
     "text": [
      "\n",
      "The downloaded binary packages are in\n",
      "\t/var/folders/ly/95h1nybs1bqbfq40d29xnmdc0000gn/T//RtmpYI3BUa/downloaded_packages\n"
     ]
    }
   ],
   "source": [
    "# Importamos la libreria dplyr\n",
    "library(dplyr)\n",
    "install.packages(\"tidyverse\")"
   ]
  },
  {
   "cell_type": "markdown",
   "metadata": {},
   "source": [
    "<a id='Adquisicion-Datos'></a>\n",
    "### Adquisición de los Datos\n",
    "[Inicio ▲](#Indice)\n",
    "\n",
    "---\n",
    "\n",
    " La ingesta de datos se realizó  mediante los pasos que se muestran a continuación:\n",
    "\n",
    "\n"
   ]
  },
  {
   "cell_type": "code",
   "execution_count": 2,
   "metadata": {},
   "outputs": [],
   "source": [
    "# Importamos los archivos CSV\n",
    "archivo <- \"compras2018_1ero.csv\"\n",
    "archivo2 <- \"compras2018_2do.csv\""
   ]
  },
  {
   "cell_type": "code",
   "execution_count": 3,
   "metadata": {},
   "outputs": [],
   "source": [
    "# Cargamos datos del archivo\n",
    "datos <- read.csv(archivo)"
   ]
  },
  {
   "cell_type": "code",
   "execution_count": 4,
   "metadata": {},
   "outputs": [],
   "source": [
    "# Cargamos datos del archivo\n",
    "datos2 <- read.csv(archivo2)"
   ]
  },
  {
   "cell_type": "code",
   "execution_count": 5,
   "metadata": {},
   "outputs": [],
   "source": [
    "# Unimos los datos de ambos archivos\n",
    "datosAll<-rbind(datos,datos2)"
   ]
  },
  {
   "cell_type": "code",
   "execution_count": 6,
   "metadata": {
    "scrolled": true
   },
   "outputs": [
    {
     "data": {
      "text/html": [
       "<table>\n",
       "<caption>A tibble: 1 × 1</caption>\n",
       "<thead>\n",
       "\t<tr><th scope=col>n</th></tr>\n",
       "\t<tr><th scope=col>&lt;int&gt;</th></tr>\n",
       "</thead>\n",
       "<tbody>\n",
       "\t<tr><td>55373</td></tr>\n",
       "</tbody>\n",
       "</table>\n"
      ],
      "text/latex": [
       "A tibble: 1 × 1\n",
       "\\begin{tabular}{r|l}\n",
       " n\\\\\n",
       " <int>\\\\\n",
       "\\hline\n",
       "\t 55373\\\\\n",
       "\\end{tabular}\n"
      ],
      "text/markdown": [
       "\n",
       "A tibble: 1 × 1\n",
       "\n",
       "| n &lt;int&gt; |\n",
       "|---|\n",
       "| 55373 |\n",
       "\n"
      ],
      "text/plain": [
       "  n    \n",
       "1 55373"
      ]
     },
     "metadata": {},
     "output_type": "display_data"
    },
    {
     "data": {
      "text/html": [
       "<ol class=list-inline>\n",
       "\t<li>'anio_compra'</li>\n",
       "\t<li>'apel'</li>\n",
       "\t<li>'arch_adj'</li>\n",
       "\t<li>'arch_reiteracion'</li>\n",
       "\t<li>'es_reiteracion'</li>\n",
       "\t<li>'estado_compra'</li>\n",
       "\t<li>'fecha_compra'</li>\n",
       "\t<li>'fecha_pub_adj'</li>\n",
       "\t<li>'fondos_rotatorios'</li>\n",
       "\t<li>'id_compra'</li>\n",
       "\t<li>'id_inciso'</li>\n",
       "\t<li>'id_moneda_monto_adj'</li>\n",
       "\t<li>'id_tipo_resol'</li>\n",
       "\t<li>'id_tipocompra'</li>\n",
       "\t<li>'id_ue'</li>\n",
       "\t<li>'monto_adj'</li>\n",
       "\t<li>'nro_ampliacion'</li>\n",
       "\t<li>'num_compra'</li>\n",
       "\t<li>'num_resol'</li>\n",
       "\t<li>'objeto'</li>\n",
       "\t<li>'subtipo_compra'</li>\n",
       "\t<li>'open_contracting_link'</li>\n",
       "</ol>\n"
      ],
      "text/latex": [
       "\\begin{enumerate*}\n",
       "\\item 'anio\\_compra'\n",
       "\\item 'apel'\n",
       "\\item 'arch\\_adj'\n",
       "\\item 'arch\\_reiteracion'\n",
       "\\item 'es\\_reiteracion'\n",
       "\\item 'estado\\_compra'\n",
       "\\item 'fecha\\_compra'\n",
       "\\item 'fecha\\_pub\\_adj'\n",
       "\\item 'fondos\\_rotatorios'\n",
       "\\item 'id\\_compra'\n",
       "\\item 'id\\_inciso'\n",
       "\\item 'id\\_moneda\\_monto\\_adj'\n",
       "\\item 'id\\_tipo\\_resol'\n",
       "\\item 'id\\_tipocompra'\n",
       "\\item 'id\\_ue'\n",
       "\\item 'monto\\_adj'\n",
       "\\item 'nro\\_ampliacion'\n",
       "\\item 'num\\_compra'\n",
       "\\item 'num\\_resol'\n",
       "\\item 'objeto'\n",
       "\\item 'subtipo\\_compra'\n",
       "\\item 'open\\_contracting\\_link'\n",
       "\\end{enumerate*}\n"
      ],
      "text/markdown": [
       "1. 'anio_compra'\n",
       "2. 'apel'\n",
       "3. 'arch_adj'\n",
       "4. 'arch_reiteracion'\n",
       "5. 'es_reiteracion'\n",
       "6. 'estado_compra'\n",
       "7. 'fecha_compra'\n",
       "8. 'fecha_pub_adj'\n",
       "9. 'fondos_rotatorios'\n",
       "10. 'id_compra'\n",
       "11. 'id_inciso'\n",
       "12. 'id_moneda_monto_adj'\n",
       "13. 'id_tipo_resol'\n",
       "14. 'id_tipocompra'\n",
       "15. 'id_ue'\n",
       "16. 'monto_adj'\n",
       "17. 'nro_ampliacion'\n",
       "18. 'num_compra'\n",
       "19. 'num_resol'\n",
       "20. 'objeto'\n",
       "21. 'subtipo_compra'\n",
       "22. 'open_contracting_link'\n",
       "\n",
       "\n"
      ],
      "text/plain": [
       " [1] \"anio_compra\"           \"apel\"                  \"arch_adj\"             \n",
       " [4] \"arch_reiteracion\"      \"es_reiteracion\"        \"estado_compra\"        \n",
       " [7] \"fecha_compra\"          \"fecha_pub_adj\"         \"fondos_rotatorios\"    \n",
       "[10] \"id_compra\"             \"id_inciso\"             \"id_moneda_monto_adj\"  \n",
       "[13] \"id_tipo_resol\"         \"id_tipocompra\"         \"id_ue\"                \n",
       "[16] \"monto_adj\"             \"nro_ampliacion\"        \"num_compra\"           \n",
       "[19] \"num_resol\"             \"objeto\"                \"subtipo_compra\"       \n",
       "[22] \"open_contracting_link\""
      ]
     },
     "metadata": {},
     "output_type": "display_data"
    },
    {
     "data": {
      "text/html": [
       "<table>\n",
       "<caption>A data.frame: 6 × 22</caption>\n",
       "<thead>\n",
       "\t<tr><th scope=col>anio_compra</th><th scope=col>apel</th><th scope=col>arch_adj</th><th scope=col>arch_reiteracion</th><th scope=col>es_reiteracion</th><th scope=col>estado_compra</th><th scope=col>fecha_compra</th><th scope=col>fecha_pub_adj</th><th scope=col>fondos_rotatorios</th><th scope=col>id_compra</th><th scope=col>⋯</th><th scope=col>id_tipo_resol</th><th scope=col>id_tipocompra</th><th scope=col>id_ue</th><th scope=col>monto_adj</th><th scope=col>nro_ampliacion</th><th scope=col>num_compra</th><th scope=col>num_resol</th><th scope=col>objeto</th><th scope=col>subtipo_compra</th><th scope=col>open_contracting_link</th></tr>\n",
       "\t<tr><th scope=col>&lt;int&gt;</th><th scope=col>&lt;fct&gt;</th><th scope=col>&lt;fct&gt;</th><th scope=col>&lt;fct&gt;</th><th scope=col>&lt;fct&gt;</th><th scope=col>&lt;int&gt;</th><th scope=col>&lt;fct&gt;</th><th scope=col>&lt;fct&gt;</th><th scope=col>&lt;fct&gt;</th><th scope=col>&lt;int&gt;</th><th scope=col>⋯</th><th scope=col>&lt;int&gt;</th><th scope=col>&lt;fct&gt;</th><th scope=col>&lt;int&gt;</th><th scope=col>&lt;dbl&gt;</th><th scope=col>&lt;int&gt;</th><th scope=col>&lt;int&gt;</th><th scope=col>&lt;int&gt;</th><th scope=col>&lt;fct&gt;</th><th scope=col>&lt;fct&gt;</th><th scope=col>&lt;fct&gt;</th></tr>\n",
       "</thead>\n",
       "<tbody>\n",
       "\t<tr><td>2017</td><td>N</td><td>acta_620613.pdf </td><td></td><td>N</td><td>7</td><td>21/12/2017</td><td>03/01/2018 16:25</td><td>N</td><td>620613</td><td>⋯</td><td>1</td><td>LA</td><td> 31</td><td>  17910.00</td><td>0</td><td>   12</td><td>   1217</td><td>Adquisición de 1 camioneta para el Departamento de Ciencias Sociales del CENUR Litoral Norte - Sede Salto                                                                     </td><td>COM</td><td>https://comprasestatales.gub.uy/ocds/record/620613</td></tr>\n",
       "\t<tr><td>2017</td><td>S</td><td>acta_620880.doc </td><td></td><td>N</td><td>7</td><td>12/12/2017</td><td>03/01/2018 12:45</td><td>N</td><td>620880</td><td>⋯</td><td>1</td><td>CD</td><td>103</td><td>  12195.03</td><td>0</td><td>  295</td><td>2952017</td><td>ADQUISICIÓN DE ARTÍCULOS DE SANITARIA. Importante leer el pliego de a compra para cotizar de forma correcta. Solo se aceptan cotizaciones en línea.                           </td><td>COM</td><td>https://comprasestatales.gub.uy/ocds/record/620880</td></tr>\n",
       "\t<tr><td>2017</td><td>S</td><td>acta_620374.pdf </td><td></td><td>N</td><td>7</td><td>19/12/2017</td><td>02/01/2018 15:00</td><td>N</td><td>620374</td><td>⋯</td><td>1</td><td>CD</td><td> 16</td><td>  12468.40</td><td>0</td><td>   22</td><td>      1</td><td>Compra Directa de Cartuchos para Artes Gráficas, Cotizar en función del pliego ingresado. Las ofertas se reciben solo por la página de Compras Estatales.                     </td><td>COM</td><td>https://comprasestatales.gub.uy/ocds/record/620374</td></tr>\n",
       "\t<tr><td>2017</td><td>N</td><td>acta_621095.docx</td><td></td><td>N</td><td>7</td><td>26/12/2017</td><td>05/01/2018 10:30</td><td>N</td><td>621095</td><td>⋯</td><td>3</td><td>CP</td><td>  1</td><td>      0.00</td><td>0</td><td> 5066</td><td>     15</td><td>Contratación de empresa para colocación de relleno en wetland del Liceo de Empalme Olmos - Ver pliego y planos adjuntos - No se aceptan ofertas en línea                      </td><td>COM</td><td>https://comprasestatales.gub.uy/ocds/record/621095</td></tr>\n",
       "\t<tr><td>2017</td><td>S</td><td>                </td><td></td><td>N</td><td>7</td><td>28/12/2017</td><td>03/01/2018 14:15</td><td>N</td><td>621195</td><td>⋯</td><td>1</td><td>CD</td><td>103</td><td>  13908.00</td><td>0</td><td>33550</td><td>      0</td><td>1 Agitador lineal, con capacidad máxima de carga de 7kgs, temporizador y regulador de velocidad, 220volt\n",
       "Leer adjunto.-                                                      </td><td>COM</td><td>https://comprasestatales.gub.uy/ocds/record/621195</td></tr>\n",
       "\t<tr><td>2017</td><td>S</td><td>acta_621246.pdf </td><td></td><td>N</td><td>7</td><td>26/12/2017</td><td>03/01/2018 14:45</td><td>N</td><td>621246</td><td>⋯</td><td>1</td><td>LA</td><td> 16</td><td>1679118.94</td><td>0</td><td>   11</td><td>      1</td><td>Obra: \"SUMINISTRO Y COLOCACIÓN DE ASCENSOR MONTACARGAS SIN SALA DE MÁQUINA\". Cotizar según pliego.\n",
       "Visita a obra 07/12/2017, hora 14:30, Facultad de Artes (18 de Julio 1772)</td><td>COM</td><td>https://comprasestatales.gub.uy/ocds/record/621246</td></tr>\n",
       "</tbody>\n",
       "</table>\n"
      ],
      "text/latex": [
       "A data.frame: 6 × 22\n",
       "\\begin{tabular}{r|llllllllllllllllllllll}\n",
       " anio\\_compra & apel & arch\\_adj & arch\\_reiteracion & es\\_reiteracion & estado\\_compra & fecha\\_compra & fecha\\_pub\\_adj & fondos\\_rotatorios & id\\_compra & id\\_inciso & id\\_moneda\\_monto\\_adj & id\\_tipo\\_resol & id\\_tipocompra & id\\_ue & monto\\_adj & nro\\_ampliacion & num\\_compra & num\\_resol & objeto & subtipo\\_compra & open\\_contracting\\_link\\\\\n",
       " <int> & <fct> & <fct> & <fct> & <fct> & <int> & <fct> & <fct> & <fct> & <int> & <int> & <int> & <int> & <fct> & <int> & <dbl> & <int> & <int> & <int> & <fct> & <fct> & <fct>\\\\\n",
       "\\hline\n",
       "\t 2017 & N & acta\\_620613.pdf  &  & N & 7 & 21/12/2017 & 03/01/2018 16:25 & N & 620613 & 26 & 1 & 1 & LA &  31 &   17910.00 & 0 &    12 &    1217 & Adquisición de 1 camioneta para el Departamento de Ciencias Sociales del CENUR Litoral Norte - Sede Salto                                                                      & COM & https://comprasestatales.gub.uy/ocds/record/620613\\\\\n",
       "\t 2017 & S & acta\\_620880.doc  &  & N & 7 & 12/12/2017 & 03/01/2018 12:45 & N & 620880 & 29 & 0 & 1 & CD & 103 &   12195.03 & 0 &   295 & 2952017 & ADQUISICIÓN DE ARTÍCULOS DE SANITARIA. Importante leer el pliego de a compra para cotizar de forma correcta. Solo se aceptan cotizaciones en línea.                            & COM & https://comprasestatales.gub.uy/ocds/record/620880\\\\\n",
       "\t 2017 & S & acta\\_620374.pdf  &  & N & 7 & 19/12/2017 & 02/01/2018 15:00 & N & 620374 & 26 & 0 & 1 & CD &  16 &   12468.40 & 0 &    22 &       1 & Compra Directa de Cartuchos para Artes Gráficas, Cotizar en función del pliego ingresado. Las ofertas se reciben solo por la página de Compras Estatales.                      & COM & https://comprasestatales.gub.uy/ocds/record/620374\\\\\n",
       "\t 2017 & N & acta\\_621095.docx &  & N & 7 & 26/12/2017 & 05/01/2018 10:30 & N & 621095 & 25 & 0 & 3 & CP &   1 &       0.00 & 0 &  5066 &      15 & Contratación de empresa para colocación de relleno en wetland del Liceo de Empalme Olmos - Ver pliego y planos adjuntos - No se aceptan ofertas en línea                       & COM & https://comprasestatales.gub.uy/ocds/record/621095\\\\\n",
       "\t 2017 & S &                  &  & N & 7 & 28/12/2017 & 03/01/2018 14:15 & N & 621195 & 12 & 0 & 1 & CD & 103 &   13908.00 & 0 & 33550 &       0 & 1 Agitador lineal, con capacidad máxima de carga de 7kgs, temporizador y regulador de velocidad, 220volt\n",
       "Leer adjunto.-                                                       & COM & https://comprasestatales.gub.uy/ocds/record/621195\\\\\n",
       "\t 2017 & S & acta\\_621246.pdf  &  & N & 7 & 26/12/2017 & 03/01/2018 14:45 & N & 621246 & 26 & 0 & 1 & LA &  16 & 1679118.94 & 0 &    11 &       1 & Obra: \"SUMINISTRO Y COLOCACIÓN DE ASCENSOR MONTACARGAS SIN SALA DE MÁQUINA\". Cotizar según pliego.\n",
       "Visita a obra 07/12/2017, hora 14:30, Facultad de Artes (18 de Julio 1772) & COM & https://comprasestatales.gub.uy/ocds/record/621246\\\\\n",
       "\\end{tabular}\n"
      ],
      "text/markdown": [
       "\n",
       "A data.frame: 6 × 22\n",
       "\n",
       "| anio_compra &lt;int&gt; | apel &lt;fct&gt; | arch_adj &lt;fct&gt; | arch_reiteracion &lt;fct&gt; | es_reiteracion &lt;fct&gt; | estado_compra &lt;int&gt; | fecha_compra &lt;fct&gt; | fecha_pub_adj &lt;fct&gt; | fondos_rotatorios &lt;fct&gt; | id_compra &lt;int&gt; | ⋯ ⋯ | id_tipo_resol &lt;int&gt; | id_tipocompra &lt;fct&gt; | id_ue &lt;int&gt; | monto_adj &lt;dbl&gt; | nro_ampliacion &lt;int&gt; | num_compra &lt;int&gt; | num_resol &lt;int&gt; | objeto &lt;fct&gt; | subtipo_compra &lt;fct&gt; | open_contracting_link &lt;fct&gt; |\n",
       "|---|---|---|---|---|---|---|---|---|---|---|---|---|---|---|---|---|---|---|---|---|\n",
       "| 2017 | N | acta_620613.pdf  | <!----> | N | 7 | 21/12/2017 | 03/01/2018 16:25 | N | 620613 | ⋯ | 1 | LA |  31 |   17910.00 | 0 |    12 |    1217 | Adquisición de 1 camioneta para el Departamento de Ciencias Sociales del CENUR Litoral Norte - Sede Salto                                                                      | COM | https://comprasestatales.gub.uy/ocds/record/620613 |\n",
       "| 2017 | S | acta_620880.doc  | <!----> | N | 7 | 12/12/2017 | 03/01/2018 12:45 | N | 620880 | ⋯ | 1 | CD | 103 |   12195.03 | 0 |   295 | 2952017 | ADQUISICIÓN DE ARTÍCULOS DE SANITARIA. Importante leer el pliego de a compra para cotizar de forma correcta. Solo se aceptan cotizaciones en línea.                            | COM | https://comprasestatales.gub.uy/ocds/record/620880 |\n",
       "| 2017 | S | acta_620374.pdf  | <!----> | N | 7 | 19/12/2017 | 02/01/2018 15:00 | N | 620374 | ⋯ | 1 | CD |  16 |   12468.40 | 0 |    22 |       1 | Compra Directa de Cartuchos para Artes Gráficas, Cotizar en función del pliego ingresado. Las ofertas se reciben solo por la página de Compras Estatales.                      | COM | https://comprasestatales.gub.uy/ocds/record/620374 |\n",
       "| 2017 | N | acta_621095.docx | <!----> | N | 7 | 26/12/2017 | 05/01/2018 10:30 | N | 621095 | ⋯ | 3 | CP |   1 |       0.00 | 0 |  5066 |      15 | Contratación de empresa para colocación de relleno en wetland del Liceo de Empalme Olmos - Ver pliego y planos adjuntos - No se aceptan ofertas en línea                       | COM | https://comprasestatales.gub.uy/ocds/record/621095 |\n",
       "| 2017 | S | <!----> | <!----> | N | 7 | 28/12/2017 | 03/01/2018 14:15 | N | 621195 | ⋯ | 1 | CD | 103 |   13908.00 | 0 | 33550 |       0 | 1 Agitador lineal, con capacidad máxima de carga de 7kgs, temporizador y regulador de velocidad, 220volt\n",
       "Leer adjunto.-                                                       | COM | https://comprasestatales.gub.uy/ocds/record/621195 |\n",
       "| 2017 | S | acta_621246.pdf  | <!----> | N | 7 | 26/12/2017 | 03/01/2018 14:45 | N | 621246 | ⋯ | 1 | LA |  16 | 1679118.94 | 0 |    11 |       1 | Obra: \"SUMINISTRO Y COLOCACIÓN DE ASCENSOR MONTACARGAS SIN SALA DE MÁQUINA\". Cotizar según pliego.\n",
       "Visita a obra 07/12/2017, hora 14:30, Facultad de Artes (18 de Julio 1772) | COM | https://comprasestatales.gub.uy/ocds/record/621246 |\n",
       "\n"
      ],
      "text/plain": [
       "  anio_compra apel arch_adj         arch_reiteracion es_reiteracion\n",
       "1 2017        N    acta_620613.pdf                   N             \n",
       "2 2017        S    acta_620880.doc                   N             \n",
       "3 2017        S    acta_620374.pdf                   N             \n",
       "4 2017        N    acta_621095.docx                  N             \n",
       "5 2017        S                                      N             \n",
       "6 2017        S    acta_621246.pdf                   N             \n",
       "  estado_compra fecha_compra fecha_pub_adj    fondos_rotatorios id_compra ⋯\n",
       "1 7             21/12/2017   03/01/2018 16:25 N                 620613    ⋯\n",
       "2 7             12/12/2017   03/01/2018 12:45 N                 620880    ⋯\n",
       "3 7             19/12/2017   02/01/2018 15:00 N                 620374    ⋯\n",
       "4 7             26/12/2017   05/01/2018 10:30 N                 621095    ⋯\n",
       "5 7             28/12/2017   03/01/2018 14:15 N                 621195    ⋯\n",
       "6 7             26/12/2017   03/01/2018 14:45 N                 621246    ⋯\n",
       "  id_tipo_resol id_tipocompra id_ue monto_adj  nro_ampliacion num_compra\n",
       "1 1             LA             31     17910.00 0                 12     \n",
       "2 1             CD            103     12195.03 0                295     \n",
       "3 1             CD             16     12468.40 0                 22     \n",
       "4 3             CP              1         0.00 0               5066     \n",
       "5 1             CD            103     13908.00 0              33550     \n",
       "6 1             LA             16   1679118.94 0                 11     \n",
       "  num_resol\n",
       "1    1217  \n",
       "2 2952017  \n",
       "3       1  \n",
       "4      15  \n",
       "5       0  \n",
       "6       1  \n",
       "  objeto                                                                                                                                                                        \n",
       "1 Adquisición de 1 camioneta para el Departamento de Ciencias Sociales del CENUR Litoral Norte - Sede Salto                                                                     \n",
       "2 ADQUISICIÓN DE ARTÍCULOS DE SANITARIA. Importante leer el pliego de a compra para cotizar de forma correcta. Solo se aceptan cotizaciones en línea.                           \n",
       "3 Compra Directa de Cartuchos para Artes Gráficas, Cotizar en función del pliego ingresado. Las ofertas se reciben solo por la página de Compras Estatales.                     \n",
       "4 Contratación de empresa para colocación de relleno en wetland del Liceo de Empalme Olmos - Ver pliego y planos adjuntos - No se aceptan ofertas en línea                      \n",
       "5 1 Agitador lineal, con capacidad máxima de carga de 7kgs, temporizador y regulador de velocidad, 220volt\\nLeer adjunto.-                                                      \n",
       "6 Obra: \"SUMINISTRO Y COLOCACIÓN DE ASCENSOR MONTACARGAS SIN SALA DE MÁQUINA\". Cotizar según pliego.\\nVisita a obra 07/12/2017, hora 14:30, Facultad de Artes (18 de Julio 1772)\n",
       "  subtipo_compra open_contracting_link                             \n",
       "1 COM            https://comprasestatales.gub.uy/ocds/record/620613\n",
       "2 COM            https://comprasestatales.gub.uy/ocds/record/620880\n",
       "3 COM            https://comprasestatales.gub.uy/ocds/record/620374\n",
       "4 COM            https://comprasestatales.gub.uy/ocds/record/621095\n",
       "5 COM            https://comprasestatales.gub.uy/ocds/record/621195\n",
       "6 COM            https://comprasestatales.gub.uy/ocds/record/621246"
      ]
     },
     "metadata": {},
     "output_type": "display_data"
    }
   ],
   "source": [
    "# Imprimmimos las primeras filas del CSV\n",
    "count(datosAll) # contamos la cantidad de registros\n",
    "names(datos) # Con 'names' obtenemos todos los nombres de los variables\n",
    "head(datos)\n"
   ]
  },
  {
   "cell_type": "markdown",
   "metadata": {},
   "source": [
    "<a id='Analisis'></a>\n",
    "### Análisis de los requerimientos planteados\n",
    "\n",
    "[Inicio ▲](#Indice)\n",
    "\n",
    "---\n",
    "*Se quiere obtener la siguiente información a partir de los datos*\n",
    "&nbsp;\n",
    "\n",
    "1. TOP 20 de las organizaciones que gastaron más dinero (ordenados de forma descendente).\n",
    "2. TOP 50 de las compras más caras.\n",
    "3. Agregación de monto total por tipo de producto\n",
    "4. TOP 10 de las unidades ejecutoras que más compraron en el periodo\n",
    "5. Compras directas mayores $436.000.\n"
   ]
  },
  {
   "cell_type": "markdown",
   "metadata": {},
   "source": [
    "**Descripción de los puntos solicitados:**\n"
   ]
  },
  {
   "cell_type": "markdown",
   "metadata": {},
   "source": [
    "1. Con cuántos datos cuentan para el análisis?\n",
    "<br>\n",
    "Para el análisis se cuenta con 55373 registros.\n",
    "2. Cuáles columnas cree que serán de utilidad para resolver los requerimientos planteados ?\n",
    "<br>\n",
    "Según los requerimientos planteados y los datos disponibles para el análisis consideramos que son necesarias las columnas que se seleccionan en la siguiente línea.\n",
    "Por otro lado para cumplir con el requerimiento \"Agregación de monto total por tipo de producto\", se nos presenta la siguiente dificultad:\n",
    "        Consideramos que la columna a utilizar es la llamada \"objeto\", al observar los datos que se incluyen en ella encontramos que no poseen la estructura necesaria para una óptima agrupación (corresponden a diferentes tipos de datos y no cumplen con ningún patrón). Debido a esto consideramos utilizar la columna \"subtipo_compra\" la cual contiene un patrón ordenable de datos, pero en este caso la mayoría de los registros son clasificados con \"COM\",  que corresponde al tipo de compra \"COMÚN\". \n",
    "3. Qué problema identifica con los datos cargados si es que los hay.\n",
    "<br>\n",
    "Uno de los problemas, se plantea en el punto 2, en el caso de que sea necesaria la utilización de la columna OBJETO.\n",
    "El otro problema que se presenta es referido a la identificación de aquellos registros con codigeras asociadas a sus descripciones.\n"
   ]
  },
  {
   "cell_type": "code",
   "execution_count": 73,
   "metadata": {},
   "outputs": [],
   "source": [
    "# Selecciona solamente las columnas Anio_Compra, id_moneda_monto_adj, id_ue, monto_adj,  \n",
    "dataSelect <- select(datosAll, anio_compra, id_inciso,id_moneda_monto_adj, id_ue, monto_adj,id_tipocompra);"
   ]
  },
  {
   "cell_type": "markdown",
   "metadata": {},
   "source": []
  },
  {
   "cell_type": "code",
   "execution_count": 74,
   "metadata": {},
   "outputs": [
    {
     "data": {
      "text/html": [
       "<table>\n",
       "<caption>A data.frame: 6 × 6</caption>\n",
       "<thead>\n",
       "\t<tr><th scope=col>anio_compra</th><th scope=col>id_inciso</th><th scope=col>id_moneda_monto_adj</th><th scope=col>id_ue</th><th scope=col>monto_adj</th><th scope=col>id_tipocompra</th></tr>\n",
       "\t<tr><th scope=col>&lt;int&gt;</th><th scope=col>&lt;int&gt;</th><th scope=col>&lt;int&gt;</th><th scope=col>&lt;int&gt;</th><th scope=col>&lt;dbl&gt;</th><th scope=col>&lt;fct&gt;</th></tr>\n",
       "</thead>\n",
       "<tbody>\n",
       "\t<tr><td>2017</td><td>26</td><td>1</td><td> 31</td><td>  17910.00</td><td>LA</td></tr>\n",
       "\t<tr><td>2017</td><td>29</td><td>0</td><td>103</td><td>  12195.03</td><td>CD</td></tr>\n",
       "\t<tr><td>2017</td><td>26</td><td>0</td><td> 16</td><td>  12468.40</td><td>CD</td></tr>\n",
       "\t<tr><td>2017</td><td>25</td><td>0</td><td>  1</td><td>      0.00</td><td>CP</td></tr>\n",
       "\t<tr><td>2017</td><td>12</td><td>0</td><td>103</td><td>  13908.00</td><td>CD</td></tr>\n",
       "\t<tr><td>2017</td><td>26</td><td>0</td><td> 16</td><td>1679118.94</td><td>LA</td></tr>\n",
       "</tbody>\n",
       "</table>\n"
      ],
      "text/latex": [
       "A data.frame: 6 × 6\n",
       "\\begin{tabular}{r|llllll}\n",
       " anio\\_compra & id\\_inciso & id\\_moneda\\_monto\\_adj & id\\_ue & monto\\_adj & id\\_tipocompra\\\\\n",
       " <int> & <int> & <int> & <int> & <dbl> & <fct>\\\\\n",
       "\\hline\n",
       "\t 2017 & 26 & 1 &  31 &   17910.00 & LA\\\\\n",
       "\t 2017 & 29 & 0 & 103 &   12195.03 & CD\\\\\n",
       "\t 2017 & 26 & 0 &  16 &   12468.40 & CD\\\\\n",
       "\t 2017 & 25 & 0 &   1 &       0.00 & CP\\\\\n",
       "\t 2017 & 12 & 0 & 103 &   13908.00 & CD\\\\\n",
       "\t 2017 & 26 & 0 &  16 & 1679118.94 & LA\\\\\n",
       "\\end{tabular}\n"
      ],
      "text/markdown": [
       "\n",
       "A data.frame: 6 × 6\n",
       "\n",
       "| anio_compra &lt;int&gt; | id_inciso &lt;int&gt; | id_moneda_monto_adj &lt;int&gt; | id_ue &lt;int&gt; | monto_adj &lt;dbl&gt; | id_tipocompra &lt;fct&gt; |\n",
       "|---|---|---|---|---|---|\n",
       "| 2017 | 26 | 1 |  31 |   17910.00 | LA |\n",
       "| 2017 | 29 | 0 | 103 |   12195.03 | CD |\n",
       "| 2017 | 26 | 0 |  16 |   12468.40 | CD |\n",
       "| 2017 | 25 | 0 |   1 |       0.00 | CP |\n",
       "| 2017 | 12 | 0 | 103 |   13908.00 | CD |\n",
       "| 2017 | 26 | 0 |  16 | 1679118.94 | LA |\n",
       "\n"
      ],
      "text/plain": [
       "  anio_compra id_inciso id_moneda_monto_adj id_ue monto_adj  id_tipocompra\n",
       "1 2017        26        1                    31     17910.00 LA           \n",
       "2 2017        29        0                   103     12195.03 CD           \n",
       "3 2017        26        0                    16     12468.40 CD           \n",
       "4 2017        25        0                     1         0.00 CP           \n",
       "5 2017        12        0                   103     13908.00 CD           \n",
       "6 2017        26        0                    16   1679118.94 LA           "
      ]
     },
     "metadata": {},
     "output_type": "display_data"
    }
   ],
   "source": [
    "# Imprimo primeras filas del CSV\n",
    "head(dataSelect)"
   ]
  },
  {
   "cell_type": "code",
   "execution_count": 95,
   "metadata": {},
   "outputs": [
    {
     "ename": "ERROR",
     "evalue": "Error in UseMethod(\"tbl_vars\"): no applicable method for 'tbl_vars' applied to an object of class \"c('matrix', 'character')\"\n",
     "output_type": "error",
     "traceback": [
      "Error in UseMethod(\"tbl_vars\"): no applicable method for 'tbl_vars' applied to an object of class \"c('matrix', 'character')\"\nTraceback:\n",
      "1. MonedasFilas %>% mutate_at(c(\"id-moneda\"), as.character)",
      "2. withVisible(eval(quote(`_fseq`(`_lhs`)), env, env))",
      "3. eval(quote(`_fseq`(`_lhs`)), env, env)",
      "4. eval(quote(`_fseq`(`_lhs`)), env, env)",
      "5. `_fseq`(`_lhs`)",
      "6. freduce(value, `_function_list`)",
      "7. withVisible(function_list[[k]](value))",
      "8. function_list[[k]](value)",
      "9. mutate_at(., c(\"id-moneda\"), as.character)",
      "10. manip_at(.tbl, .vars, .funs, enquo(.funs), caller_env(), .include_group_vars = TRUE, \n  .     ...)",
      "11. tbl_at_syms(.tbl, .vars, .include_group_vars = .include_group_vars)",
      "12. tbl_at_vars(tbl, vars, .include_group_vars = .include_group_vars)",
      "13. tbl_vars(tbl)",
      "14. new_sel_vars(tbl_vars_dispatch(x), group_vars(x))",
      "15. structure(vars, groups = group_vars, class = c(\"dplyr_sel_vars\", \n  .     \"character\"))",
      "16. tbl_vars_dispatch(x)"
     ]
    }
   ],
   "source": [
    "#Agrupamos los datos \n",
    "\n",
    "MonedasFilasMutate <- MonedasFilas %>% mutate_at(c(\"id-moneda\"), as.character)\n",
    "#datosOrdenados <- left_join(dataSelect, MonedasFilas, by = c(id_moneda_monto_adj = \"id-moneda\"))\n",
    "#datosOrdenados <-dataSelect %>% group_by(anio_compra, id_inciso, id_ue) \n",
    "#%>% summarise(monto = sum(monto_adj))\n",
    "#f<-arrange(datosOrdenados, desc(monto))\n",
    "#tail(datosOrdenados, 30)"
   ]
  },
  {
   "cell_type": "code",
   "execution_count": null,
   "metadata": {},
   "outputs": [],
   "source": []
  },
  {
   "cell_type": "code",
   "execution_count": 11,
   "metadata": {},
   "outputs": [
    {
     "name": "stdout",
     "output_type": "stream",
     "text": [
      "{xml_document}\n",
      "<unidades-ejecutoras>\n",
      " [1] <unidad-ejecutora id-inciso=\"1\" id-ue=\"1\" nom-ue=\"Cámara de Senadores\"/>\n",
      " [2] <unidad-ejecutora id-inciso=\"1\" id-ue=\"2\" nom-ue=\"Cámara de Representant ...\n",
      " [3] <unidad-ejecutora id-inciso=\"1\" id-ue=\"3\" nom-ue=\"Comisión Administrativ ...\n",
      " [4] <unidad-ejecutora id-inciso=\"2\" id-ue=\"1\" nom-ue=\"Presidencia  de la Rep ...\n",
      " [5] <unidad-ejecutora id-inciso=\"2\" id-ue=\"3\" nom-ue=\"Casa Militar\"/>\n",
      " [6] <unidad-ejecutora id-inciso=\"2\" id-ue=\"4\" nom-ue=\"Oficina de Planeamient ...\n",
      " [7] <unidad-ejecutora id-inciso=\"2\" id-ue=\"5\" nom-ue=\"NO VIGENTE - Dirección ...\n",
      " [8] <unidad-ejecutora id-inciso=\"2\" id-ue=\"6\" nom-ue=\"Unidad Reguladora de S ...\n",
      " [9] <unidad-ejecutora id-inciso=\"2\" id-ue=\"7\" nom-ue=\"Instituto Nacional de  ...\n",
      "[10] <unidad-ejecutora id-inciso=\"2\" id-ue=\"8\" nom-ue=\"Oficina Nacional del S ...\n",
      "[11] <unidad-ejecutora id-inciso=\"2\" id-ue=\"9\" nom-ue=\"Unidad Reguladora de S ...\n",
      "[12] <unidad-ejecutora id-inciso=\"2\" id-ue=\"10\" nom-ue=\"AGESIC\"/>\n",
      "[13] <unidad-ejecutora id-inciso=\"2\" id-ue=\"11\" nom-ue=\"Secretaría  Nacional  ...\n",
      "[14] <unidad-ejecutora id-inciso=\"3\" id-ue=\"1\" nom-ue=\"Dirección General de S ...\n",
      "[15] <unidad-ejecutora id-inciso=\"3\" id-ue=\"3\" nom-ue=\"Estado Mayor de la Def ...\n",
      "[16] <unidad-ejecutora id-inciso=\"3\" id-ue=\"4\" nom-ue=\"Comando General del Ej ...\n",
      "[17] <unidad-ejecutora id-inciso=\"3\" id-ue=\"18\" nom-ue=\"Comando General de la ...\n",
      "[18] <unidad-ejecutora id-inciso=\"3\" id-ue=\"23\" nom-ue=\"Comando General de la ...\n",
      "[19] <unidad-ejecutora id-inciso=\"3\" id-ue=\"30\" nom-ue=\"Ex-Dirección Nacional ...\n",
      "[20] <unidad-ejecutora id-inciso=\"3\" id-ue=\"31\" nom-ue=\"Ex-Dirección General  ...\n",
      "...\n"
     ]
    }
   ],
   "source": [
    "archivo_xml = \"reporteUnidadesEjecutoras.do.xml\"\n",
    "# Activate the `XML` library\n",
    "#library(XML)\n",
    "library(xml2)\n",
    "# Parse the XML file\n",
    "xmlUnidadesEjecutoras <- read_xml(archivo_xml)\n",
    "print(xmlUnidadesEjecutoras)"
   ]
  },
  {
   "cell_type": "code",
   "execution_count": 12,
   "metadata": {},
   "outputs": [
    {
     "name": "stdout",
     "output_type": "stream",
     "text": [
      "{xml_document}\n",
      "<incisos>\n",
      " [1] <inciso id-inciso=\"1\" nom-inciso=\"Poder Legislativo\"/>\n",
      " [2] <inciso id-inciso=\"2\" nom-inciso=\"Presidencia de la República\"/>\n",
      " [3] <inciso id-inciso=\"3\" nom-inciso=\"Ministerio de Defensa Nacional\"/>\n",
      " [4] <inciso id-inciso=\"4\" nom-inciso=\"Ministerio del Interior\"/>\n",
      " [5] <inciso id-inciso=\"5\" nom-inciso=\"Ministerio de Economía y Finanzas\"/>\n",
      " [6] <inciso id-inciso=\"6\" nom-inciso=\"Ministerio de Relaciones Exteriores\"/>\n",
      " [7] <inciso id-inciso=\"7\" nom-inciso=\"Ministerio de Ganadería, Agricultura y ...\n",
      " [8] <inciso id-inciso=\"8\" nom-inciso=\"Ministerio de Industria, Energía y Min ...\n",
      " [9] <inciso id-inciso=\"9\" nom-inciso=\"Ministerio de Turismo\"/>\n",
      "[10] <inciso id-inciso=\"10\" nom-inciso=\"Ministerio de Transporte y Obras Públ ...\n",
      "[11] <inciso id-inciso=\"11\" nom-inciso=\"Ministerio de Educación y Cultura\"/>\n",
      "[12] <inciso id-inciso=\"12\" nom-inciso=\"Ministerio de Salud Pública\"/>\n",
      "[13] <inciso id-inciso=\"13\" nom-inciso=\"Ministerio de Trabajo y Seguridad Soc ...\n",
      "[14] <inciso id-inciso=\"14\" nom-inciso=\"Ministerio de Vivienda, Ordenamiento  ...\n",
      "[15] <inciso id-inciso=\"15\" nom-inciso=\"Ministerio de Desarrollo Social\"/>\n",
      "[16] <inciso id-inciso=\"16\" nom-inciso=\"Poder Judicial\"/>\n",
      "[17] <inciso id-inciso=\"17\" nom-inciso=\"Tribunal de Cuentas\"/>\n",
      "[18] <inciso id-inciso=\"18\" nom-inciso=\"Corte Electoral\"/>\n",
      "[19] <inciso id-inciso=\"19\" nom-inciso=\"Tribunal de lo Contencioso Administra ...\n",
      "[20] <inciso id-inciso=\"24\" nom-inciso=\"Diversos Créditos\"/>\n",
      "...\n"
     ]
    }
   ],
   "source": [
    "archivo_xml = \"reporteIncisos.do.xml\"\n",
    "# Activate the `XML` library\n",
    "#library(XML)\n",
    "library(xml2)\n",
    "# Parse the XML file\n",
    "xmlIncisos <- read_xml(archivo_xml)\n",
    "print(xmlIncisos)"
   ]
  },
  {
   "cell_type": "code",
   "execution_count": 13,
   "metadata": {},
   "outputs": [
    {
     "name": "stdout",
     "output_type": "stream",
     "text": [
      "{xml_document}\n",
      "<monedas>\n",
      " [1] <moneda id-moneda=\"0\" desc-moneda=\"PESOS URUGUAYOS\" sigla-moneda=\"$\" id- ...\n",
      " [2] <moneda id-moneda=\"1\" desc-moneda=\"DOLAR PIZARRA VENDEDOR\" sigla-moneda= ...\n",
      " [3] <moneda id-moneda=\"2\" desc-moneda=\"DOLAR INTERBANCARIO VENDEDOR\" sigla-m ...\n",
      " [4] <moneda id-moneda=\"3\" desc-moneda=\"FRANCO FRANCES\" sigla-moneda=\"FF\" id- ...\n",
      " [5] <moneda id-moneda=\"4\" desc-moneda=\"UNIDAD INDEXADA\" sigla-moneda=\"UNIDAD ...\n",
      " [6] <moneda id-moneda=\"5\" desc-moneda=\"UNIDAD REAJUSTABLE\" sigla-moneda=\"UR\" ...\n",
      " [7] <moneda id-moneda=\"6\" desc-moneda=\"MARCO ALEMAN\" sigla-moneda=\"DM\" id-mo ...\n",
      " [8] <moneda id-moneda=\"7\" desc-moneda=\"FRANCO BELGA\" sigla-moneda=\"FB\" id-mo ...\n",
      " [9] <moneda id-moneda=\"8\" desc-moneda=\"DOLAR CANADIENSE\" sigla-moneda=\"DC\" i ...\n",
      "[10] <moneda id-moneda=\"9\" desc-moneda=\"PESETAS\" sigla-moneda=\"PTS\" id-moneda ...\n",
      "[11] <moneda id-moneda=\"10\" desc-moneda=\"FLORINES HOLANDESES\" sigla-moneda=\"F ...\n",
      "[12] <moneda id-moneda=\"11\" desc-moneda=\"LIBRA ESTERLINA\" sigla-moneda=\"£\" id ...\n",
      "[13] <moneda id-moneda=\"12\" desc-moneda=\"YEN\" sigla-moneda=\"YEN\" id-moneda-ar ...\n",
      "[14] <moneda id-moneda=\"13\" desc-moneda=\"CORONA SUECA\" sigla-moneda=\"CS\" id-m ...\n",
      "[15] <moneda id-moneda=\"14\" desc-moneda=\"FRANCO SUIZO\" sigla-moneda=\"FS\" id-m ...\n",
      "[16] <moneda id-moneda=\"15\" desc-moneda=\"EURO\" sigla-moneda=\"EUR\" id-moneda-a ...\n",
      "[17] <moneda id-moneda=\"16\" desc-moneda=\"BOLIVAR\" sigla-moneda=\"BOL\" id-moned ...\n",
      "[18] <moneda id-moneda=\"17\" desc-moneda=\"DERECHOS ESPECIALES DE GIRO\" sigla-m ...\n",
      "[19] <moneda id-moneda=\"18\" desc-moneda=\"UNIDAD REAJUSTABLE DE ALQUILERES\" si ...\n",
      "[20] <moneda id-moneda=\"19\" desc-moneda=\"UNIDAD DE AHORRO REAJUSTABLE\" sigla- ...\n",
      "...\n"
     ]
    }
   ],
   "source": [
    "archivo_xml = \"reporteMonedas.do.xml\"\n",
    "# Activate the `XML` library\n",
    "#library(XML)\n",
    "library(xml2)\n",
    "# Parse the XML file\n",
    "xmlMonedas <- read_xml(archivo_xml)\n",
    "print(xmlMonedas)"
   ]
  },
  {
   "cell_type": "code",
   "execution_count": 14,
   "metadata": {},
   "outputs": [
    {
     "name": "stdout",
     "output_type": "stream",
     "text": [
      "{xml_document}\n",
      "<objetos-gasto>\n",
      " [1] <objeto-gasto odg=\"111000\" descripcion=\"ALIMENTOS PARA PERSONAS\"/>\n",
      " [2] <objeto-gasto odg=\"112000\" descripcion=\"ALIMENTOS PARA ANIMALES\"/>\n",
      " [3] <objeto-gasto odg=\"113000\" descripcion=\"PRODUCTOS PECUARIOS\"/>\n",
      " [4] <objeto-gasto odg=\"114000\" descripcion=\"PRODUCTOS AGROFORESTALES Y SUS M ...\n",
      " [5] <objeto-gasto odg=\"115000\" descripcion=\"MATERIA PRIMA AGROPECUARIA Y FOR ...\n",
      " [6] <objeto-gasto odg=\"116000\" descripcion=\"MATERIAS PRIMAS DE ORIGEN ACUÁTI ...\n",
      " [7] <objeto-gasto odg=\"119000\" descripcion=\"OTROS PROD ALIMENTICIOS AGROPECU ...\n",
      " [8] <objeto-gasto odg=\"121000\" descripcion=\"HILADOS Y TELAS\"/>\n",
      " [9] <objeto-gasto odg=\"122000\" descripcion=\"PRENDAS DE VESTIR\"/>\n",
      "[10] <objeto-gasto odg=\"123000\" descripcion=\"CONFECCIONES TEXTILES\"/>\n",
      "[11] <objeto-gasto odg=\"124000\" descripcion=\"CUERO, PIELES Y SIMILARES\"/>\n",
      "[12] <objeto-gasto odg=\"129000\" descripcion=\"OTROS PROD TEXTILES, PRENDAS DE  ...\n",
      "[13] <objeto-gasto odg=\"131000\" descripcion=\"PAPELES DE OFICINA\"/>\n",
      "[14] <objeto-gasto odg=\"132000\" descripcion=\"PRODUCTOS DE PAPEL Y CARTON\"/>\n",
      "[15] <objeto-gasto odg=\"133000\" descripcion=\"FORMULARIOS, IMPRESOS Y SIMILARE ...\n",
      "[16] <objeto-gasto odg=\"134000\" descripcion=\"PRODUCTOS DE ARTES GRAFICAS\"/>\n",
      "[17] <objeto-gasto odg=\"135000\" descripcion=\"LIBROS, REVISTAS Y OTRAS PUBLICA ...\n",
      "[18] <objeto-gasto odg=\"136000\" descripcion=\"ESPECIES TIMBRADAS Y VALORADAS\"/>\n",
      "[19] <objeto-gasto odg=\"139000\" descripcion=\"OTROS PROD. DE PAPEL LIBROS E IM ...\n",
      "[20] <objeto-gasto odg=\"141000\" descripcion=\"COMBUSTIBLES DERIVADOS DEL PETRO ...\n",
      "...\n"
     ]
    }
   ],
   "source": [
    "archivo_xml = \"reporteObjetosGasto.do.xml\"\n",
    "# Activate the `XML` library\n",
    "#library(XML)\n",
    "library(xml2)\n",
    "# Parse the XML file\n",
    "xmlObjetosGasto <- read_xml(archivo_xml)\n",
    "print(xmlObjetosGasto)"
   ]
  },
  {
   "cell_type": "code",
   "execution_count": 15,
   "metadata": {},
   "outputs": [
    {
     "name": "stdout",
     "output_type": "stream",
     "text": [
      "{xml_document}\n",
      "<tipos-compra>\n",
      " [1] <tipo-compra id=\"CD\" descripcion=\"Compra Directa\" oferta-economica=\"S\" a ...\n",
      " [2] <tipo-compra id=\"CE\" descripcion=\"Compra por Excepción\" oferta-economica ...\n",
      " [3] <tipo-compra id=\"CM\" descripcion=\"Convenio Marco\" oferta-economica=\"S\" a ...\n",
      " [4] <tipo-compra id=\"CO\" descripcion=\"Concesión\" oferta-economica=\"S\" acto-a ...\n",
      " [5] <tipo-compra id=\"CP\" descripcion=\"PFI - Comparación de precios\" oferta-e ...\n",
      " [6] <tipo-compra id=\"DI\" descripcion=\"PFI - Contratación directa\" oferta-eco ...\n",
      " [7] <tipo-compra id=\"EI\" descripcion=\"Llamado a Expresiones de Interés\" ofer ...\n",
      " [8] <tipo-compra id=\"LA\" descripcion=\"Licitación Abreviada\" oferta-economica ...\n",
      " [9] <tipo-compra id=\"LI\" descripcion=\"PFI - Licitación pública internacional ...\n",
      "[10] <tipo-compra id=\"LL\" descripcion=\"PFI - Licitación internacional limitad ...\n",
      "[11] <tipo-compra id=\"LN\" descripcion=\"PFI - Licitación pública nacional\" ofe ...\n",
      "[12] <tipo-compra id=\"LP\" descripcion=\"Licitación Pública\" oferta-economica=\" ...\n",
      "[13] <tipo-compra id=\"PE\" descripcion=\"Procedimiento Especial\" oferta-economi ...\n",
      "[14] <tipo-compra id=\"PR\" descripcion=\"Pregón\" oferta-economica=\"S\" acto-aper ...\n",
      "[15] <tipo-compra id=\"SI\" descripcion=\"Solicitud de Información\" oferta-econo ...\n",
      "[16] <tipo-compra id=\"VA\" descripcion=\"Venta/Arrendamiento Licitación Abrevia ...\n",
      "[17] <tipo-compra id=\"VD\" descripcion=\"Venta/Arrendamiento Directa\" oferta-ec ...\n",
      "[18] <tipo-compra id=\"VE\" descripcion=\"Venta/Arrendamiento por Excepción\" ofe ...\n",
      "[19] <tipo-compra id=\"VL\" descripcion=\"Venta/Arrendamiento Licitación Pública ...\n",
      "[20] <tipo-compra id=\"VR\" descripcion=\"Venta/Arrendamiento por Remate\" oferta ...\n"
     ]
    }
   ],
   "source": [
    "archivo_xml = \"reporteTiposCompra.do.xml\"\n",
    "# Activate the `XML` library\n",
    "#library(XML)\n",
    "library(xml2)\n",
    "# Parse the XML file\n",
    "xmlTiposCompras <- read_xml(archivo_xml)\n",
    "print(xmlTiposCompras)"
   ]
  },
  {
   "cell_type": "code",
   "execution_count": 16,
   "metadata": {},
   "outputs": [
    {
     "name": "stdout",
     "output_type": "stream",
     "text": [
      "\n",
      "The downloaded binary packages are in\n",
      "\t/var/folders/ly/95h1nybs1bqbfq40d29xnmdc0000gn/T//RtmpYI3BUa/downloaded_packages\n"
     ]
    }
   ],
   "source": [
    "install.packages(\"XML\")"
   ]
  },
  {
   "cell_type": "code",
   "execution_count": 17,
   "metadata": {},
   "outputs": [
    {
     "data": {
      "text/html": [
       "'monedas'"
      ],
      "text/latex": [
       "'monedas'"
      ],
      "text/markdown": [
       "'monedas'"
      ],
      "text/plain": [
       "[1] \"monedas\""
      ]
     },
     "metadata": {},
     "output_type": "display_data"
    },
    {
     "data": {
      "text/html": [
       "53"
      ],
      "text/latex": [
       "53"
      ],
      "text/markdown": [
       "53"
      ],
      "text/plain": [
       "[1] 53"
      ]
     },
     "metadata": {},
     "output_type": "display_data"
    },
    {
     "data": {
      "text/html": [
       "'moneda'"
      ],
      "text/latex": [
       "'moneda'"
      ],
      "text/markdown": [
       "'moneda'"
      ],
      "text/plain": [
       "[1] \"moneda\""
      ]
     },
     "metadata": {},
     "output_type": "display_data"
    },
    {
     "data": {
      "text/plain": [
       "$moneda\n",
       "<moneda id-moneda=\"0\" desc-moneda=\"PESOS URUGUAYOS\" sigla-moneda=\"$\" id-moneda-arbitraje=\"0\"/> \n",
       "\n",
       "attr(,\"class\")\n",
       "[1] \"XMLInternalNodeList\" \"XMLNodeList\"        "
      ]
     },
     "metadata": {},
     "output_type": "display_data"
    }
   ],
   "source": [
    "# Exploramos los datos XML\n",
    "library(XML)\n",
    "monedas <-xmlParse( \"reporteMonedas.do.xml\")\n",
    "xmltop = xmlRoot(monedas) #nos da el nombre de la raiz\n",
    "#class(xmltop)#\"XMLInternalElementNode\" \"XMLInternalNode\" \"XMLAbstractNode\"\n",
    "xmlName(xmltop) #nos da el nombre del nodo\n",
    "xmlSize(xmltop) #nos muestra la cantidad de hijos del nodo principal\n",
    "xmlName(xmltop[[1]]) #nos da el nombre del primer hijo\n",
    "rootNode <- xmlRoot(monedas)\n",
    "rootNode[1]\n"
   ]
  },
  {
   "cell_type": "code",
   "execution_count": 18,
   "metadata": {},
   "outputs": [
    {
     "data": {
      "text/html": [
       "<table>\n",
       "<caption>A matrix: 6 × 4 of type chr</caption>\n",
       "<thead>\n",
       "\t<tr><th></th><th scope=col>id-moneda</th><th scope=col>desc-moneda</th><th scope=col>sigla-moneda</th><th scope=col>id-moneda-arbitraje</th></tr>\n",
       "</thead>\n",
       "<tbody>\n",
       "\t<tr><th scope=row>X1</th><td>0</td><td>PESOS URUGUAYOS             </td><td>$              </td><td>0</td></tr>\n",
       "\t<tr><th scope=row>X2</th><td>1</td><td>DOLAR PIZARRA VENDEDOR      </td><td>U$S            </td><td>1</td></tr>\n",
       "\t<tr><th scope=row>X3</th><td>2</td><td>DOLAR INTERBANCARIO VENDEDOR</td><td>U$S            </td><td>1</td></tr>\n",
       "\t<tr><th scope=row>X4</th><td>3</td><td>FRANCO FRANCES              </td><td>FF             </td><td>2</td></tr>\n",
       "\t<tr><th scope=row>X5</th><td>4</td><td>UNIDAD INDEXADA             </td><td>UNIDAD INDEXADA</td><td>0</td></tr>\n",
       "\t<tr><th scope=row>X6</th><td>5</td><td>UNIDAD REAJUSTABLE          </td><td>UR             </td><td>0</td></tr>\n",
       "</tbody>\n",
       "</table>\n"
      ],
      "text/latex": [
       "A matrix: 6 × 4 of type chr\n",
       "\\begin{tabular}{r|llll}\n",
       "  & id-moneda & desc-moneda & sigla-moneda & id-moneda-arbitraje\\\\\n",
       "\\hline\n",
       "\tX1 & 0 & PESOS URUGUAYOS              & \\$               & 0\\\\\n",
       "\tX2 & 1 & DOLAR PIZARRA VENDEDOR       & U\\$S             & 1\\\\\n",
       "\tX3 & 2 & DOLAR INTERBANCARIO VENDEDOR & U\\$S             & 1\\\\\n",
       "\tX4 & 3 & FRANCO FRANCES               & FF              & 2\\\\\n",
       "\tX5 & 4 & UNIDAD INDEXADA              & UNIDAD INDEXADA & 0\\\\\n",
       "\tX6 & 5 & UNIDAD REAJUSTABLE           & UR              & 0\\\\\n",
       "\\end{tabular}\n"
      ],
      "text/markdown": [
       "\n",
       "A matrix: 6 × 4 of type chr\n",
       "\n",
       "| <!--/--> | id-moneda | desc-moneda | sigla-moneda | id-moneda-arbitraje |\n",
       "|---|---|---|---|---|\n",
       "| X1 | 0 | PESOS URUGUAYOS              | $               | 0 |\n",
       "| X2 | 1 | DOLAR PIZARRA VENDEDOR       | U$S             | 1 |\n",
       "| X3 | 2 | DOLAR INTERBANCARIO VENDEDOR | U$S             | 1 |\n",
       "| X4 | 3 | FRANCO FRANCES               | FF              | 2 |\n",
       "| X5 | 4 | UNIDAD INDEXADA              | UNIDAD INDEXADA | 0 |\n",
       "| X6 | 5 | UNIDAD REAJUSTABLE           | UR              | 0 |\n",
       "\n"
      ],
      "text/plain": [
       "   id-moneda desc-moneda                  sigla-moneda    id-moneda-arbitraje\n",
       "X1 0         PESOS URUGUAYOS              $               0                  \n",
       "X2 1         DOLAR PIZARRA VENDEDOR       U$S             1                  \n",
       "X3 2         DOLAR INTERBANCARIO VENDEDOR U$S             1                  \n",
       "X4 3         FRANCO FRANCES               FF              2                  \n",
       "X5 4         UNIDAD INDEXADA              UNIDAD INDEXADA 0                  \n",
       "X6 5         UNIDAD REAJUSTABLE           UR              0                  "
      ]
     },
     "metadata": {},
     "output_type": "display_data"
    }
   ],
   "source": [
    "library(XML)\n",
    "arch = \"reporteMonedas.do.xml\" \n",
    "input <- xmlParse(arch)\n",
    "nodes <- getNodeSet(input,\"//moneda\")\n",
    "all_parameters <- sapply(nodes, xmlAttrs)\n",
    "Monedas <- data.frame (all_parameters)\n",
    "MonedasFilas<-t(Monedas)\n",
    "head(MonedasFilas)"
   ]
  },
  {
   "cell_type": "code",
   "execution_count": 24,
   "metadata": {},
   "outputs": [
    {
     "data": {
      "text/html": [
       "<table>\n",
       "<caption>A matrix: 6 × 2 of type chr</caption>\n",
       "<thead>\n",
       "\t<tr><th></th><th scope=col>id-inciso</th><th scope=col>nom-inciso</th></tr>\n",
       "</thead>\n",
       "<tbody>\n",
       "\t<tr><th scope=row>X1</th><td>1</td><td>Poder Legislativo                  </td></tr>\n",
       "\t<tr><th scope=row>X2</th><td>2</td><td>Presidencia de la República        </td></tr>\n",
       "\t<tr><th scope=row>X3</th><td>3</td><td>Ministerio de Defensa Nacional     </td></tr>\n",
       "\t<tr><th scope=row>X4</th><td>4</td><td>Ministerio del Interior            </td></tr>\n",
       "\t<tr><th scope=row>X5</th><td>5</td><td>Ministerio de Economía y Finanzas  </td></tr>\n",
       "\t<tr><th scope=row>X6</th><td>6</td><td>Ministerio de Relaciones Exteriores</td></tr>\n",
       "</tbody>\n",
       "</table>\n"
      ],
      "text/latex": [
       "A matrix: 6 × 2 of type chr\n",
       "\\begin{tabular}{r|ll}\n",
       "  & id-inciso & nom-inciso\\\\\n",
       "\\hline\n",
       "\tX1 & 1 & Poder Legislativo                  \\\\\n",
       "\tX2 & 2 & Presidencia de la República        \\\\\n",
       "\tX3 & 3 & Ministerio de Defensa Nacional     \\\\\n",
       "\tX4 & 4 & Ministerio del Interior            \\\\\n",
       "\tX5 & 5 & Ministerio de Economía y Finanzas  \\\\\n",
       "\tX6 & 6 & Ministerio de Relaciones Exteriores\\\\\n",
       "\\end{tabular}\n"
      ],
      "text/markdown": [
       "\n",
       "A matrix: 6 × 2 of type chr\n",
       "\n",
       "| <!--/--> | id-inciso | nom-inciso |\n",
       "|---|---|---|\n",
       "| X1 | 1 | Poder Legislativo                   |\n",
       "| X2 | 2 | Presidencia de la República         |\n",
       "| X3 | 3 | Ministerio de Defensa Nacional      |\n",
       "| X4 | 4 | Ministerio del Interior             |\n",
       "| X5 | 5 | Ministerio de Economía y Finanzas   |\n",
       "| X6 | 6 | Ministerio de Relaciones Exteriores |\n",
       "\n"
      ],
      "text/plain": [
       "   id-inciso nom-inciso                         \n",
       "X1 1         Poder Legislativo                  \n",
       "X2 2         Presidencia de la República        \n",
       "X3 3         Ministerio de Defensa Nacional     \n",
       "X4 4         Ministerio del Interior            \n",
       "X5 5         Ministerio de Economía y Finanzas  \n",
       "X6 6         Ministerio de Relaciones Exteriores"
      ]
     },
     "metadata": {},
     "output_type": "display_data"
    }
   ],
   "source": [
    "arch_incisos = \"reporteIncisos.do.xml\" \n",
    "input <- xmlParse(arch_incisos)\n",
    "nodes <- getNodeSet(input,\"//inciso\")\n",
    "all_parameters <- sapply(nodes, xmlAttrs)\n",
    "Incisos <- data.frame (all_parameters)\n",
    "IncisosFilas<-t(Incisos)\n",
    "head(IncisosFilas)"
   ]
  },
  {
   "cell_type": "code",
   "execution_count": 25,
   "metadata": {},
   "outputs": [
    {
     "data": {
      "text/html": [
       "<table>\n",
       "<caption>A matrix: 6 × 2 of type chr</caption>\n",
       "<thead>\n",
       "\t<tr><th></th><th scope=col>odg</th><th scope=col>descripcion</th></tr>\n",
       "</thead>\n",
       "<tbody>\n",
       "\t<tr><th scope=row>X1</th><td>111000</td><td>ALIMENTOS PARA PERSONAS                    </td></tr>\n",
       "\t<tr><th scope=row>X2</th><td>112000</td><td>ALIMENTOS PARA ANIMALES                    </td></tr>\n",
       "\t<tr><th scope=row>X3</th><td>113000</td><td>PRODUCTOS PECUARIOS                        </td></tr>\n",
       "\t<tr><th scope=row>X4</th><td>114000</td><td>PRODUCTOS AGROFORESTALES Y SUS MANUFACTURAS</td></tr>\n",
       "\t<tr><th scope=row>X5</th><td>115000</td><td>MATERIA PRIMA AGROPECUARIA Y FORESTAL      </td></tr>\n",
       "\t<tr><th scope=row>X6</th><td>116000</td><td>MATERIAS PRIMAS DE ORIGEN ACUÁTICO         </td></tr>\n",
       "</tbody>\n",
       "</table>\n"
      ],
      "text/latex": [
       "A matrix: 6 × 2 of type chr\n",
       "\\begin{tabular}{r|ll}\n",
       "  & odg & descripcion\\\\\n",
       "\\hline\n",
       "\tX1 & 111000 & ALIMENTOS PARA PERSONAS                    \\\\\n",
       "\tX2 & 112000 & ALIMENTOS PARA ANIMALES                    \\\\\n",
       "\tX3 & 113000 & PRODUCTOS PECUARIOS                        \\\\\n",
       "\tX4 & 114000 & PRODUCTOS AGROFORESTALES Y SUS MANUFACTURAS\\\\\n",
       "\tX5 & 115000 & MATERIA PRIMA AGROPECUARIA Y FORESTAL      \\\\\n",
       "\tX6 & 116000 & MATERIAS PRIMAS DE ORIGEN ACUÁTICO         \\\\\n",
       "\\end{tabular}\n"
      ],
      "text/markdown": [
       "\n",
       "A matrix: 6 × 2 of type chr\n",
       "\n",
       "| <!--/--> | odg | descripcion |\n",
       "|---|---|---|\n",
       "| X1 | 111000 | ALIMENTOS PARA PERSONAS                     |\n",
       "| X2 | 112000 | ALIMENTOS PARA ANIMALES                     |\n",
       "| X3 | 113000 | PRODUCTOS PECUARIOS                         |\n",
       "| X4 | 114000 | PRODUCTOS AGROFORESTALES Y SUS MANUFACTURAS |\n",
       "| X5 | 115000 | MATERIA PRIMA AGROPECUARIA Y FORESTAL       |\n",
       "| X6 | 116000 | MATERIAS PRIMAS DE ORIGEN ACUÁTICO          |\n",
       "\n"
      ],
      "text/plain": [
       "   odg    descripcion                                \n",
       "X1 111000 ALIMENTOS PARA PERSONAS                    \n",
       "X2 112000 ALIMENTOS PARA ANIMALES                    \n",
       "X3 113000 PRODUCTOS PECUARIOS                        \n",
       "X4 114000 PRODUCTOS AGROFORESTALES Y SUS MANUFACTURAS\n",
       "X5 115000 MATERIA PRIMA AGROPECUARIA Y FORESTAL      \n",
       "X6 116000 MATERIAS PRIMAS DE ORIGEN ACUÁTICO         "
      ]
     },
     "metadata": {},
     "output_type": "display_data"
    }
   ],
   "source": [
    "arch_ObjGastos = \"reporteObjetosGasto.do.xml\" \n",
    "input <- xmlParse(arch_ObjGastos)\n",
    "nodes <- getNodeSet(input,\"//objeto-gasto\")\n",
    "all_parameters <- sapply(nodes, xmlAttrs)\n",
    "objetoGasto <- data.frame (all_parameters)\n",
    "objetoGastoFilas<-t(objetoGasto)\n",
    "head(objetoGastoFilas)"
   ]
  },
  {
   "cell_type": "code",
   "execution_count": 60,
   "metadata": {},
   "outputs": [
    {
     "data": {
      "text/html": [
       "<ol class=list-inline>\n",
       "\t<li>'XMLInternalDocument'</li>\n",
       "\t<li>'XMLAbstractDocument'</li>\n",
       "</ol>\n"
      ],
      "text/latex": [
       "\\begin{enumerate*}\n",
       "\\item 'XMLInternalDocument'\n",
       "\\item 'XMLAbstractDocument'\n",
       "\\end{enumerate*}\n"
      ],
      "text/markdown": [
       "1. 'XMLInternalDocument'\n",
       "2. 'XMLAbstractDocument'\n",
       "\n",
       "\n"
      ],
      "text/plain": [
       "[1] \"XMLInternalDocument\" \"XMLAbstractDocument\""
      ]
     },
     "metadata": {},
     "output_type": "display_data"
    },
    {
     "ename": "ERROR",
     "evalue": "Error in UseMethod(\"xmlName\", node): no applicable method for 'xmlName' applied to an object of class \"c('XMLInternalDocument', 'XMLAbstractDocument')\"\n",
     "output_type": "error",
     "traceback": [
      "Error in UseMethod(\"xmlName\", node): no applicable method for 'xmlName' applied to an object of class \"c('XMLInternalDocument', 'XMLAbstractDocument')\"\nTraceback:\n",
      "1. xmlName(input)"
     ]
    }
   ],
   "source": [
    "arch_TiposCompra = \"reporteTiposCompra.do.xml\" \n",
    "input <- xmlParse(arch_TiposCompra)\n",
    "class(input)\n",
    "xmlName(input)\n",
    "nodes <- getNodeSet(input,\"//tipo-compra\")\n",
    "all_parameters <- sapply(nodes, xmlAttrs)\n",
    "tipoCompra <- as.data.frame(unlist(all_parameters))\n",
    "tipoCompraFilas<-t(tipoCompra)\n",
    "head(tipoCompraFilas)"
   ]
  },
  {
   "cell_type": "code",
   "execution_count": 19,
   "metadata": {},
   "outputs": [
    {
     "name": "stdout",
     "output_type": "stream",
     "text": [
      "\n",
      "The downloaded binary packages are in\n",
      "\t/var/folders/ly/95h1nybs1bqbfq40d29xnmdc0000gn/T//RtmpYI3BUa/downloaded_packages\n"
     ]
    },
    {
     "data": {
      "text/html": [
       "<table>\n",
       "<caption>A data.frame: 1 × 9</caption>\n",
       "<thead>\n",
       "\t<tr><th scope=col>rows</th><th scope=col>columns</th><th scope=col>discrete_columns</th><th scope=col>continuous_columns</th><th scope=col>all_missing_columns</th><th scope=col>total_missing_values</th><th scope=col>complete_rows</th><th scope=col>total_observations</th><th scope=col>memory_usage</th></tr>\n",
       "\t<tr><th scope=col>&lt;int&gt;</th><th scope=col>&lt;int&gt;</th><th scope=col>&lt;int&gt;</th><th scope=col>&lt;int&gt;</th><th scope=col>&lt;int&gt;</th><th scope=col>&lt;int&gt;</th><th scope=col>&lt;int&gt;</th><th scope=col>&lt;int&gt;</th><th scope=col>&lt;dbl&gt;</th></tr>\n",
       "</thead>\n",
       "<tbody>\n",
       "\t<tr><td>55373</td><td>6</td><td>1</td><td>5</td><td>0</td><td>0</td><td>55373</td><td>332238</td><td>1554000</td></tr>\n",
       "</tbody>\n",
       "</table>\n"
      ],
      "text/latex": [
       "A data.frame: 1 × 9\n",
       "\\begin{tabular}{r|lllllllll}\n",
       " rows & columns & discrete\\_columns & continuous\\_columns & all\\_missing\\_columns & total\\_missing\\_values & complete\\_rows & total\\_observations & memory\\_usage\\\\\n",
       " <int> & <int> & <int> & <int> & <int> & <int> & <int> & <int> & <dbl>\\\\\n",
       "\\hline\n",
       "\t 55373 & 6 & 1 & 5 & 0 & 0 & 55373 & 332238 & 1554000\\\\\n",
       "\\end{tabular}\n"
      ],
      "text/markdown": [
       "\n",
       "A data.frame: 1 × 9\n",
       "\n",
       "| rows &lt;int&gt; | columns &lt;int&gt; | discrete_columns &lt;int&gt; | continuous_columns &lt;int&gt; | all_missing_columns &lt;int&gt; | total_missing_values &lt;int&gt; | complete_rows &lt;int&gt; | total_observations &lt;int&gt; | memory_usage &lt;dbl&gt; |\n",
       "|---|---|---|---|---|---|---|---|---|\n",
       "| 55373 | 6 | 1 | 5 | 0 | 0 | 55373 | 332238 | 1554000 |\n",
       "\n"
      ],
      "text/plain": [
       "  rows  columns discrete_columns continuous_columns all_missing_columns\n",
       "1 55373 6       1                5                  0                  \n",
       "  total_missing_values complete_rows total_observations memory_usage\n",
       "1 0                    55373         332238             1554000     "
      ]
     },
     "metadata": {},
     "output_type": "display_data"
    }
   ],
   "source": [
    "install.packages('DataExplorer') \n",
    "library(DataExplorer); library(dplyr)  \n",
    "\n",
    "# Información básica sobre el dataSelect\n",
    "introduce(dataSelect)"
   ]
  },
  {
   "cell_type": "code",
   "execution_count": 20,
   "metadata": {},
   "outputs": [
    {
     "data": {
      "image/png": "[encoded data removed]",
      "text/plain": [
       "plot without title"
      ]
     },
     "metadata": {
      "image/png": {
       "height": 420,
       "width": 420
      },
      "text/plain": {
       "height": 420,
       "width": 420
      }
     },
     "output_type": "display_data"
    }
   ],
   "source": [
    "#Columnas vacias del dataSelect\n",
    "plot_missing(dataSelect)"
   ]
  },
  {
   "cell_type": "code",
   "execution_count": 21,
   "metadata": {},
   "outputs": [
    {
     "data": {
      "text/html": [
       "<ol class=list-inline>\n",
       "\t<li>'anio_compra'</li>\n",
       "\t<li>'id_inciso'</li>\n",
       "\t<li>'id_moneda_monto_adj'</li>\n",
       "\t<li>'id_ue'</li>\n",
       "\t<li>'monto_adj'</li>\n",
       "\t<li>'id_tipocompra'</li>\n",
       "</ol>\n"
      ],
      "text/latex": [
       "\\begin{enumerate*}\n",
       "\\item 'anio\\_compra'\n",
       "\\item 'id\\_inciso'\n",
       "\\item 'id\\_moneda\\_monto\\_adj'\n",
       "\\item 'id\\_ue'\n",
       "\\item 'monto\\_adj'\n",
       "\\item 'id\\_tipocompra'\n",
       "\\end{enumerate*}\n"
      ],
      "text/markdown": [
       "1. 'anio_compra'\n",
       "2. 'id_inciso'\n",
       "3. 'id_moneda_monto_adj'\n",
       "4. 'id_ue'\n",
       "5. 'monto_adj'\n",
       "6. 'id_tipocompra'\n",
       "\n",
       "\n"
      ],
      "text/plain": [
       "[1] \"anio_compra\"         \"id_inciso\"           \"id_moneda_monto_adj\"\n",
       "[4] \"id_ue\"               \"monto_adj\"           \"id_tipocompra\"      "
      ]
     },
     "metadata": {},
     "output_type": "display_data"
    }
   ],
   "source": [
    "# Recordemos que columnas tiene el dataSelect\n",
    "colnames(dataSelect)"
   ]
  },
  {
   "cell_type": "markdown",
   "metadata": {},
   "source": [
    "## 2. Transformación de valores inválidos"
   ]
  },
  {
   "cell_type": "markdown",
   "metadata": {},
   "source": [
    "<a id= Transformación-Invalidos></a>\n",
    "### Montos valor 0\n",
    "\n",
    "---\n"
   ]
  },
  {
   "cell_type": "code",
   "execution_count": 22,
   "metadata": {},
   "outputs": [
    {
     "name": "stdout",
     "output_type": "stream",
     "text": [
      "[1] \"Cantidad de Valores Vacios:\"\n",
      "[1] \"Monto Adjudicado:  2108\"\n"
     ]
    }
   ],
   "source": [
    "# Vamos a contar cantidad de valores \"\" en las siguientes columnas:\n",
    "\n",
    "# Imprimo cantidad\n",
    "print(\"Cantidad de Valores Vacios:\")\n",
    "\n",
    "cantMontoVacio <- dataSelect %>% select(monto_adj) %>% \n",
    "                            filter(monto_adj == 0) %>%  \n",
    "                            count()\n",
    "print(paste(\"Monto Adjudicado: \", cantMontoVacio))"
   ]
  },
  {
   "cell_type": "code",
   "execution_count": 23,
   "metadata": {},
   "outputs": [
    {
     "data": {
      "text/html": [
       "0"
      ],
      "text/latex": [
       "0"
      ],
      "text/markdown": [
       "0"
      ],
      "text/plain": [
       "[1] 0"
      ]
     },
     "metadata": {},
     "output_type": "display_data"
    }
   ],
   "source": [
    "# Se detectaron 2108 adjudicaciones con valor 0\n",
    "\n",
    "# Limpiamos los valores mencionados\n",
    "na_rows <- which(is.na(dataSelect$monto_adj))\n",
    "dataSelect <- dataSelect[-c(na_rows), ]\n",
    "length(dataSelect$monto_adj)"
   ]
  },
  {
   "cell_type": "markdown",
   "metadata": {},
   "source": [
    "### Transformación de Monedas\n",
    "---"
   ]
  },
  {
   "cell_type": "code",
   "execution_count": null,
   "metadata": {},
   "outputs": [],
   "source": []
  }
 ],
 "metadata": {
  "kernelspec": {
   "display_name": "R",
   "language": "R",
   "name": "ir"
  },
  "language_info": {
   "codemirror_mode": "r",
   "file_extension": ".r",
   "mimetype": "text/x-r-source",
   "name": "R",
   "pygments_lexer": "r",
   "version": "3.5.3"
  }
 },
 "nbformat": 4,
 "nbformat_minor": 2
}
