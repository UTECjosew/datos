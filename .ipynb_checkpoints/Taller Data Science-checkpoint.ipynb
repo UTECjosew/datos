{
 "cells": [
  {
   "cell_type": "code",
   "execution_count": 4,
   "metadata": {},
   "outputs": [],
   "source": [
    "# Importo archivo CSV\n",
    "archivo <- \"/Users/Andy/Desktop/Win10/UTEC/2019/Semestre 6/AD:DS/Semana1/compras/compras2018_1ero.csv\""
   ]
  },
  {
   "cell_type": "code",
   "execution_count": 5,
   "metadata": {},
   "outputs": [],
   "source": [
    "# Importo archivo CSV\n",
    "archivo2 <- \"/Users/Andy/Desktop/Win10/UTEC/2019/Semestre 6/AD:DS/Semana1/compras/compras2018_2do.csv\""
   ]
  },
  {
   "cell_type": "code",
   "execution_count": 6,
   "metadata": {},
   "outputs": [],
   "source": [
    "# Cargo datos del archivo\n",
    "datos <- read.csv(archivo)"
   ]
  },
  {
   "cell_type": "code",
   "execution_count": 7,
   "metadata": {},
   "outputs": [],
   "source": [
    "# Cargo datos del archivo\n",
    "datos2 <- read.csv(archivo2)"
   ]
  },
  {
   "cell_type": "code",
   "execution_count": 11,
   "metadata": {},
   "outputs": [],
   "source": [
    "datosAll<-rbind(datos,datos2)"
   ]
  },
  {
   "cell_type": "code",
   "execution_count": 12,
   "metadata": {},
   "outputs": [
    {
     "data": {
      "text/html": [
       "<table>\n",
       "<caption>A data.frame: 6 × 22</caption>\n",
       "<thead>\n",
       "\t<tr><th scope=col>anio_compra</th><th scope=col>apel</th><th scope=col>arch_adj</th><th scope=col>arch_reiteracion</th><th scope=col>es_reiteracion</th><th scope=col>estado_compra</th><th scope=col>fecha_compra</th><th scope=col>fecha_pub_adj</th><th scope=col>fondos_rotatorios</th><th scope=col>id_compra</th><th scope=col>⋯</th><th scope=col>id_tipo_resol</th><th scope=col>id_tipocompra</th><th scope=col>id_ue</th><th scope=col>monto_adj</th><th scope=col>nro_ampliacion</th><th scope=col>num_compra</th><th scope=col>num_resol</th><th scope=col>objeto</th><th scope=col>subtipo_compra</th><th scope=col>open_contracting_link</th></tr>\n",
       "\t<tr><th scope=col>&lt;int&gt;</th><th scope=col>&lt;fct&gt;</th><th scope=col>&lt;fct&gt;</th><th scope=col>&lt;fct&gt;</th><th scope=col>&lt;fct&gt;</th><th scope=col>&lt;int&gt;</th><th scope=col>&lt;fct&gt;</th><th scope=col>&lt;fct&gt;</th><th scope=col>&lt;fct&gt;</th><th scope=col>&lt;int&gt;</th><th scope=col>⋯</th><th scope=col>&lt;int&gt;</th><th scope=col>&lt;fct&gt;</th><th scope=col>&lt;int&gt;</th><th scope=col>&lt;dbl&gt;</th><th scope=col>&lt;int&gt;</th><th scope=col>&lt;int&gt;</th><th scope=col>&lt;int&gt;</th><th scope=col>&lt;fct&gt;</th><th scope=col>&lt;fct&gt;</th><th scope=col>&lt;fct&gt;</th></tr>\n",
       "</thead>\n",
       "<tbody>\n",
       "\t<tr><td>2017</td><td>N</td><td>acta_620613.pdf </td><td></td><td>N</td><td>7</td><td>21/12/2017</td><td>03/01/2018 16:25</td><td>N</td><td>620613</td><td>⋯</td><td>1</td><td>LA</td><td> 31</td><td>  17910.00</td><td>0</td><td>   12</td><td>   1217</td><td>Adquisición de 1 camioneta para el Departamento de Ciencias Sociales del CENUR Litoral Norte - Sede Salto                                                                     </td><td>COM</td><td>https://comprasestatales.gub.uy/ocds/record/620613</td></tr>\n",
       "\t<tr><td>2017</td><td>S</td><td>acta_620880.doc </td><td></td><td>N</td><td>7</td><td>12/12/2017</td><td>03/01/2018 12:45</td><td>N</td><td>620880</td><td>⋯</td><td>1</td><td>CD</td><td>103</td><td>  12195.03</td><td>0</td><td>  295</td><td>2952017</td><td>ADQUISICIÓN DE ARTÍCULOS DE SANITARIA. Importante leer el pliego de a compra para cotizar de forma correcta. Solo se aceptan cotizaciones en línea.                           </td><td>COM</td><td>https://comprasestatales.gub.uy/ocds/record/620880</td></tr>\n",
       "\t<tr><td>2017</td><td>S</td><td>acta_620374.pdf </td><td></td><td>N</td><td>7</td><td>19/12/2017</td><td>02/01/2018 15:00</td><td>N</td><td>620374</td><td>⋯</td><td>1</td><td>CD</td><td> 16</td><td>  12468.40</td><td>0</td><td>   22</td><td>      1</td><td>Compra Directa de Cartuchos para Artes Gráficas, Cotizar en función del pliego ingresado. Las ofertas se reciben solo por la página de Compras Estatales.                     </td><td>COM</td><td>https://comprasestatales.gub.uy/ocds/record/620374</td></tr>\n",
       "\t<tr><td>2017</td><td>N</td><td>acta_621095.docx</td><td></td><td>N</td><td>7</td><td>26/12/2017</td><td>05/01/2018 10:30</td><td>N</td><td>621095</td><td>⋯</td><td>3</td><td>CP</td><td>  1</td><td>      0.00</td><td>0</td><td> 5066</td><td>     15</td><td>Contratación de empresa para colocación de relleno en wetland del Liceo de Empalme Olmos - Ver pliego y planos adjuntos - No se aceptan ofertas en línea                      </td><td>COM</td><td>https://comprasestatales.gub.uy/ocds/record/621095</td></tr>\n",
       "\t<tr><td>2017</td><td>S</td><td>                </td><td></td><td>N</td><td>7</td><td>28/12/2017</td><td>03/01/2018 14:15</td><td>N</td><td>621195</td><td>⋯</td><td>1</td><td>CD</td><td>103</td><td>  13908.00</td><td>0</td><td>33550</td><td>      0</td><td>1 Agitador lineal, con capacidad máxima de carga de 7kgs, temporizador y regulador de velocidad, 220volt\n",
       "Leer adjunto.-                                                      </td><td>COM</td><td>https://comprasestatales.gub.uy/ocds/record/621195</td></tr>\n",
       "\t<tr><td>2017</td><td>S</td><td>acta_621246.pdf </td><td></td><td>N</td><td>7</td><td>26/12/2017</td><td>03/01/2018 14:45</td><td>N</td><td>621246</td><td>⋯</td><td>1</td><td>LA</td><td> 16</td><td>1679118.94</td><td>0</td><td>   11</td><td>      1</td><td>Obra: \"SUMINISTRO Y COLOCACIÓN DE ASCENSOR MONTACARGAS SIN SALA DE MÁQUINA\". Cotizar según pliego.\n",
       "Visita a obra 07/12/2017, hora 14:30, Facultad de Artes (18 de Julio 1772)</td><td>COM</td><td>https://comprasestatales.gub.uy/ocds/record/621246</td></tr>\n",
       "</tbody>\n",
       "</table>\n"
      ],
      "text/latex": [
       "A data.frame: 6 × 22\n",
       "\\begin{tabular}{r|llllllllllllllllllllll}\n",
       " anio\\_compra & apel & arch\\_adj & arch\\_reiteracion & es\\_reiteracion & estado\\_compra & fecha\\_compra & fecha\\_pub\\_adj & fondos\\_rotatorios & id\\_compra & id\\_inciso & id\\_moneda\\_monto\\_adj & id\\_tipo\\_resol & id\\_tipocompra & id\\_ue & monto\\_adj & nro\\_ampliacion & num\\_compra & num\\_resol & objeto & subtipo\\_compra & open\\_contracting\\_link\\\\\n",
       " <int> & <fct> & <fct> & <fct> & <fct> & <int> & <fct> & <fct> & <fct> & <int> & <int> & <int> & <int> & <fct> & <int> & <dbl> & <int> & <int> & <int> & <fct> & <fct> & <fct>\\\\\n",
       "\\hline\n",
       "\t 2017 & N & acta\\_620613.pdf  &  & N & 7 & 21/12/2017 & 03/01/2018 16:25 & N & 620613 & 26 & 1 & 1 & LA &  31 &   17910.00 & 0 &    12 &    1217 & Adquisición de 1 camioneta para el Departamento de Ciencias Sociales del CENUR Litoral Norte - Sede Salto                                                                      & COM & https://comprasestatales.gub.uy/ocds/record/620613\\\\\n",
       "\t 2017 & S & acta\\_620880.doc  &  & N & 7 & 12/12/2017 & 03/01/2018 12:45 & N & 620880 & 29 & 0 & 1 & CD & 103 &   12195.03 & 0 &   295 & 2952017 & ADQUISICIÓN DE ARTÍCULOS DE SANITARIA. Importante leer el pliego de a compra para cotizar de forma correcta. Solo se aceptan cotizaciones en línea.                            & COM & https://comprasestatales.gub.uy/ocds/record/620880\\\\\n",
       "\t 2017 & S & acta\\_620374.pdf  &  & N & 7 & 19/12/2017 & 02/01/2018 15:00 & N & 620374 & 26 & 0 & 1 & CD &  16 &   12468.40 & 0 &    22 &       1 & Compra Directa de Cartuchos para Artes Gráficas, Cotizar en función del pliego ingresado. Las ofertas se reciben solo por la página de Compras Estatales.                      & COM & https://comprasestatales.gub.uy/ocds/record/620374\\\\\n",
       "\t 2017 & N & acta\\_621095.docx &  & N & 7 & 26/12/2017 & 05/01/2018 10:30 & N & 621095 & 25 & 0 & 3 & CP &   1 &       0.00 & 0 &  5066 &      15 & Contratación de empresa para colocación de relleno en wetland del Liceo de Empalme Olmos - Ver pliego y planos adjuntos - No se aceptan ofertas en línea                       & COM & https://comprasestatales.gub.uy/ocds/record/621095\\\\\n",
       "\t 2017 & S &                  &  & N & 7 & 28/12/2017 & 03/01/2018 14:15 & N & 621195 & 12 & 0 & 1 & CD & 103 &   13908.00 & 0 & 33550 &       0 & 1 Agitador lineal, con capacidad máxima de carga de 7kgs, temporizador y regulador de velocidad, 220volt\n",
       "Leer adjunto.-                                                       & COM & https://comprasestatales.gub.uy/ocds/record/621195\\\\\n",
       "\t 2017 & S & acta\\_621246.pdf  &  & N & 7 & 26/12/2017 & 03/01/2018 14:45 & N & 621246 & 26 & 0 & 1 & LA &  16 & 1679118.94 & 0 &    11 &       1 & Obra: \"SUMINISTRO Y COLOCACIÓN DE ASCENSOR MONTACARGAS SIN SALA DE MÁQUINA\". Cotizar según pliego.\n",
       "Visita a obra 07/12/2017, hora 14:30, Facultad de Artes (18 de Julio 1772) & COM & https://comprasestatales.gub.uy/ocds/record/621246\\\\\n",
       "\\end{tabular}\n"
      ],
      "text/markdown": [
       "\n",
       "A data.frame: 6 × 22\n",
       "\n",
       "| anio_compra &lt;int&gt; | apel &lt;fct&gt; | arch_adj &lt;fct&gt; | arch_reiteracion &lt;fct&gt; | es_reiteracion &lt;fct&gt; | estado_compra &lt;int&gt; | fecha_compra &lt;fct&gt; | fecha_pub_adj &lt;fct&gt; | fondos_rotatorios &lt;fct&gt; | id_compra &lt;int&gt; | ⋯ ⋯ | id_tipo_resol &lt;int&gt; | id_tipocompra &lt;fct&gt; | id_ue &lt;int&gt; | monto_adj &lt;dbl&gt; | nro_ampliacion &lt;int&gt; | num_compra &lt;int&gt; | num_resol &lt;int&gt; | objeto &lt;fct&gt; | subtipo_compra &lt;fct&gt; | open_contracting_link &lt;fct&gt; |\n",
       "|---|---|---|---|---|---|---|---|---|---|---|---|---|---|---|---|---|---|---|---|---|\n",
       "| 2017 | N | acta_620613.pdf  | <!----> | N | 7 | 21/12/2017 | 03/01/2018 16:25 | N | 620613 | ⋯ | 1 | LA |  31 |   17910.00 | 0 |    12 |    1217 | Adquisición de 1 camioneta para el Departamento de Ciencias Sociales del CENUR Litoral Norte - Sede Salto                                                                      | COM | https://comprasestatales.gub.uy/ocds/record/620613 |\n",
       "| 2017 | S | acta_620880.doc  | <!----> | N | 7 | 12/12/2017 | 03/01/2018 12:45 | N | 620880 | ⋯ | 1 | CD | 103 |   12195.03 | 0 |   295 | 2952017 | ADQUISICIÓN DE ARTÍCULOS DE SANITARIA. Importante leer el pliego de a compra para cotizar de forma correcta. Solo se aceptan cotizaciones en línea.                            | COM | https://comprasestatales.gub.uy/ocds/record/620880 |\n",
       "| 2017 | S | acta_620374.pdf  | <!----> | N | 7 | 19/12/2017 | 02/01/2018 15:00 | N | 620374 | ⋯ | 1 | CD |  16 |   12468.40 | 0 |    22 |       1 | Compra Directa de Cartuchos para Artes Gráficas, Cotizar en función del pliego ingresado. Las ofertas se reciben solo por la página de Compras Estatales.                      | COM | https://comprasestatales.gub.uy/ocds/record/620374 |\n",
       "| 2017 | N | acta_621095.docx | <!----> | N | 7 | 26/12/2017 | 05/01/2018 10:30 | N | 621095 | ⋯ | 3 | CP |   1 |       0.00 | 0 |  5066 |      15 | Contratación de empresa para colocación de relleno en wetland del Liceo de Empalme Olmos - Ver pliego y planos adjuntos - No se aceptan ofertas en línea                       | COM | https://comprasestatales.gub.uy/ocds/record/621095 |\n",
       "| 2017 | S | <!----> | <!----> | N | 7 | 28/12/2017 | 03/01/2018 14:15 | N | 621195 | ⋯ | 1 | CD | 103 |   13908.00 | 0 | 33550 |       0 | 1 Agitador lineal, con capacidad máxima de carga de 7kgs, temporizador y regulador de velocidad, 220volt\n",
       "Leer adjunto.-                                                       | COM | https://comprasestatales.gub.uy/ocds/record/621195 |\n",
       "| 2017 | S | acta_621246.pdf  | <!----> | N | 7 | 26/12/2017 | 03/01/2018 14:45 | N | 621246 | ⋯ | 1 | LA |  16 | 1679118.94 | 0 |    11 |       1 | Obra: \"SUMINISTRO Y COLOCACIÓN DE ASCENSOR MONTACARGAS SIN SALA DE MÁQUINA\". Cotizar según pliego.\n",
       "Visita a obra 07/12/2017, hora 14:30, Facultad de Artes (18 de Julio 1772) | COM | https://comprasestatales.gub.uy/ocds/record/621246 |\n",
       "\n"
      ],
      "text/plain": [
       "  anio_compra apel arch_adj         arch_reiteracion es_reiteracion\n",
       "1 2017        N    acta_620613.pdf                   N             \n",
       "2 2017        S    acta_620880.doc                   N             \n",
       "3 2017        S    acta_620374.pdf                   N             \n",
       "4 2017        N    acta_621095.docx                  N             \n",
       "5 2017        S                                      N             \n",
       "6 2017        S    acta_621246.pdf                   N             \n",
       "  estado_compra fecha_compra fecha_pub_adj    fondos_rotatorios id_compra ⋯\n",
       "1 7             21/12/2017   03/01/2018 16:25 N                 620613    ⋯\n",
       "2 7             12/12/2017   03/01/2018 12:45 N                 620880    ⋯\n",
       "3 7             19/12/2017   02/01/2018 15:00 N                 620374    ⋯\n",
       "4 7             26/12/2017   05/01/2018 10:30 N                 621095    ⋯\n",
       "5 7             28/12/2017   03/01/2018 14:15 N                 621195    ⋯\n",
       "6 7             26/12/2017   03/01/2018 14:45 N                 621246    ⋯\n",
       "  id_tipo_resol id_tipocompra id_ue monto_adj  nro_ampliacion num_compra\n",
       "1 1             LA             31     17910.00 0                 12     \n",
       "2 1             CD            103     12195.03 0                295     \n",
       "3 1             CD             16     12468.40 0                 22     \n",
       "4 3             CP              1         0.00 0               5066     \n",
       "5 1             CD            103     13908.00 0              33550     \n",
       "6 1             LA             16   1679118.94 0                 11     \n",
       "  num_resol\n",
       "1    1217  \n",
       "2 2952017  \n",
       "3       1  \n",
       "4      15  \n",
       "5       0  \n",
       "6       1  \n",
       "  objeto                                                                                                                                                                        \n",
       "1 Adquisición de 1 camioneta para el Departamento de Ciencias Sociales del CENUR Litoral Norte - Sede Salto                                                                     \n",
       "2 ADQUISICIÓN DE ARTÍCULOS DE SANITARIA. Importante leer el pliego de a compra para cotizar de forma correcta. Solo se aceptan cotizaciones en línea.                           \n",
       "3 Compra Directa de Cartuchos para Artes Gráficas, Cotizar en función del pliego ingresado. Las ofertas se reciben solo por la página de Compras Estatales.                     \n",
       "4 Contratación de empresa para colocación de relleno en wetland del Liceo de Empalme Olmos - Ver pliego y planos adjuntos - No se aceptan ofertas en línea                      \n",
       "5 1 Agitador lineal, con capacidad máxima de carga de 7kgs, temporizador y regulador de velocidad, 220volt\\nLeer adjunto.-                                                      \n",
       "6 Obra: \"SUMINISTRO Y COLOCACIÓN DE ASCENSOR MONTACARGAS SIN SALA DE MÁQUINA\". Cotizar según pliego.\\nVisita a obra 07/12/2017, hora 14:30, Facultad de Artes (18 de Julio 1772)\n",
       "  subtipo_compra open_contracting_link                             \n",
       "1 COM            https://comprasestatales.gub.uy/ocds/record/620613\n",
       "2 COM            https://comprasestatales.gub.uy/ocds/record/620880\n",
       "3 COM            https://comprasestatales.gub.uy/ocds/record/620374\n",
       "4 COM            https://comprasestatales.gub.uy/ocds/record/621095\n",
       "5 COM            https://comprasestatales.gub.uy/ocds/record/621195\n",
       "6 COM            https://comprasestatales.gub.uy/ocds/record/621246"
      ]
     },
     "metadata": {},
     "output_type": "display_data"
    }
   ],
   "source": [
    "# Imprimo primeras filas del CSV\n",
    "head(datosAll)"
   ]
  },
  {
   "cell_type": "code",
   "execution_count": 13,
   "metadata": {},
   "outputs": [
    {
     "name": "stderr",
     "output_type": "stream",
     "text": [
      "\n",
      "Attaching package: ‘dplyr’\n",
      "\n",
      "\n",
      "The following objects are masked from ‘package:stats’:\n",
      "\n",
      "    filter, lag\n",
      "\n",
      "\n",
      "The following objects are masked from ‘package:base’:\n",
      "\n",
      "    intersect, setdiff, setequal, union\n",
      "\n",
      "\n"
     ]
    },
    {
     "name": "stdout",
     "output_type": "stream",
     "text": [
      "\n",
      "The downloaded binary packages are in\n",
      "\t/var/folders/ly/95h1nybs1bqbfq40d29xnmdc0000gn/T//RtmpAS0Xe4/downloaded_packages\n"
     ]
    }
   ],
   "source": [
    "# Importar libreria dplyr\n",
    "library(dplyr)\n",
    "install.packages(\"tidyverse\")"
   ]
  },
  {
   "cell_type": "code",
   "execution_count": 14,
   "metadata": {},
   "outputs": [],
   "source": [
    "# Selecciona solamente las columnas Anio_Compra, id_moneda_monto_adj, id_ue, monto_adj,  \n",
    "dataSelect <- select(datosAll, anio_compra, id_inciso,id_moneda_monto_adj, id_ue, monto_adj);"
   ]
  },
  {
   "cell_type": "code",
   "execution_count": 15,
   "metadata": {},
   "outputs": [
    {
     "data": {
      "text/html": [
       "<table>\n",
       "<caption>A data.frame: 6 × 5</caption>\n",
       "<thead>\n",
       "\t<tr><th scope=col>anio_compra</th><th scope=col>id_inciso</th><th scope=col>id_moneda_monto_adj</th><th scope=col>id_ue</th><th scope=col>monto_adj</th></tr>\n",
       "\t<tr><th scope=col>&lt;int&gt;</th><th scope=col>&lt;int&gt;</th><th scope=col>&lt;int&gt;</th><th scope=col>&lt;int&gt;</th><th scope=col>&lt;dbl&gt;</th></tr>\n",
       "</thead>\n",
       "<tbody>\n",
       "\t<tr><td>2017</td><td>26</td><td>1</td><td> 31</td><td>  17910.00</td></tr>\n",
       "\t<tr><td>2017</td><td>29</td><td>0</td><td>103</td><td>  12195.03</td></tr>\n",
       "\t<tr><td>2017</td><td>26</td><td>0</td><td> 16</td><td>  12468.40</td></tr>\n",
       "\t<tr><td>2017</td><td>25</td><td>0</td><td>  1</td><td>      0.00</td></tr>\n",
       "\t<tr><td>2017</td><td>12</td><td>0</td><td>103</td><td>  13908.00</td></tr>\n",
       "\t<tr><td>2017</td><td>26</td><td>0</td><td> 16</td><td>1679118.94</td></tr>\n",
       "</tbody>\n",
       "</table>\n"
      ],
      "text/latex": [
       "A data.frame: 6 × 5\n",
       "\\begin{tabular}{r|lllll}\n",
       " anio\\_compra & id\\_inciso & id\\_moneda\\_monto\\_adj & id\\_ue & monto\\_adj\\\\\n",
       " <int> & <int> & <int> & <int> & <dbl>\\\\\n",
       "\\hline\n",
       "\t 2017 & 26 & 1 &  31 &   17910.00\\\\\n",
       "\t 2017 & 29 & 0 & 103 &   12195.03\\\\\n",
       "\t 2017 & 26 & 0 &  16 &   12468.40\\\\\n",
       "\t 2017 & 25 & 0 &   1 &       0.00\\\\\n",
       "\t 2017 & 12 & 0 & 103 &   13908.00\\\\\n",
       "\t 2017 & 26 & 0 &  16 & 1679118.94\\\\\n",
       "\\end{tabular}\n"
      ],
      "text/markdown": [
       "\n",
       "A data.frame: 6 × 5\n",
       "\n",
       "| anio_compra &lt;int&gt; | id_inciso &lt;int&gt; | id_moneda_monto_adj &lt;int&gt; | id_ue &lt;int&gt; | monto_adj &lt;dbl&gt; |\n",
       "|---|---|---|---|---|\n",
       "| 2017 | 26 | 1 |  31 |   17910.00 |\n",
       "| 2017 | 29 | 0 | 103 |   12195.03 |\n",
       "| 2017 | 26 | 0 |  16 |   12468.40 |\n",
       "| 2017 | 25 | 0 |   1 |       0.00 |\n",
       "| 2017 | 12 | 0 | 103 |   13908.00 |\n",
       "| 2017 | 26 | 0 |  16 | 1679118.94 |\n",
       "\n"
      ],
      "text/plain": [
       "  anio_compra id_inciso id_moneda_monto_adj id_ue monto_adj \n",
       "1 2017        26        1                    31     17910.00\n",
       "2 2017        29        0                   103     12195.03\n",
       "3 2017        26        0                    16     12468.40\n",
       "4 2017        25        0                     1         0.00\n",
       "5 2017        12        0                   103     13908.00\n",
       "6 2017        26        0                    16   1679118.94"
      ]
     },
     "metadata": {},
     "output_type": "display_data"
    }
   ],
   "source": [
    "# Imprimo primeras filas del CSV\n",
    "head(dataSelect)"
   ]
  },
  {
   "cell_type": "code",
   "execution_count": 22,
   "metadata": {},
   "outputs": [
    {
     "data": {
      "text/html": [
       "<table>\n",
       "<caption>A grouped_df: 30 × 3</caption>\n",
       "<thead>\n",
       "\t<tr><th scope=col>id_inciso</th><th scope=col>id_ue</th><th scope=col>monto</th></tr>\n",
       "\t<tr><th scope=col>&lt;int&gt;</th><th scope=col>&lt;int&gt;</th><th scope=col>&lt;dbl&gt;</th></tr>\n",
       "</thead>\n",
       "<tbody>\n",
       "\t<tr><td>25</td><td>  4</td><td>368831598926</td></tr>\n",
       "\t<tr><td>25</td><td>  1</td><td>   845498930</td></tr>\n",
       "\t<tr><td>12</td><td>103</td><td>   746301558</td></tr>\n",
       "\t<tr><td> 4</td><td>  1</td><td>   527512145</td></tr>\n",
       "\t<tr><td>51</td><td>  1</td><td>   479356347</td></tr>\n",
       "\t<tr><td>24</td><td>  2</td><td>   367162829</td></tr>\n",
       "\t<tr><td>25</td><td>  2</td><td>   358916674</td></tr>\n",
       "\t<tr><td> 3</td><td>  4</td><td>   307515719</td></tr>\n",
       "\t<tr><td>88</td><td>  1</td><td>   296280587</td></tr>\n",
       "\t<tr><td>28</td><td>  1</td><td>   276779962</td></tr>\n",
       "\t<tr><td> 4</td><td> 34</td><td>   219938029</td></tr>\n",
       "\t<tr><td>16</td><td>101</td><td>   219615041</td></tr>\n",
       "\t<tr><td>27</td><td>  1</td><td>   198514518</td></tr>\n",
       "\t<tr><td> 3</td><td> 33</td><td>   190000163</td></tr>\n",
       "\t<tr><td>89</td><td>  1</td><td>   188615200</td></tr>\n",
       "\t<tr><td>29</td><td>  5</td><td>   186376935</td></tr>\n",
       "\t<tr><td>15</td><td>  1</td><td>   178246851</td></tr>\n",
       "\t<tr><td> 3</td><td> 18</td><td>   176782398</td></tr>\n",
       "\t<tr><td>67</td><td>  1</td><td>   156766929</td></tr>\n",
       "\t<tr><td>15</td><td>  2</td><td>   150350555</td></tr>\n",
       "\t<tr><td>53</td><td>  1</td><td>   133587468</td></tr>\n",
       "\t<tr><td>94</td><td>  1</td><td>   132991226</td></tr>\n",
       "\t<tr><td> 2</td><td> 11</td><td>   119824361</td></tr>\n",
       "\t<tr><td>12</td><td>  1</td><td>   112917574</td></tr>\n",
       "\t<tr><td>26</td><td> 15</td><td>   111003526</td></tr>\n",
       "\t<tr><td>83</td><td>  1</td><td>   109853634</td></tr>\n",
       "\t<tr><td> 5</td><td> 13</td><td>   109809023</td></tr>\n",
       "\t<tr><td>10</td><td>  3</td><td>   108931747</td></tr>\n",
       "\t<tr><td>29</td><td> 68</td><td>   101939780</td></tr>\n",
       "\t<tr><td> 5</td><td>  5</td><td>    99214227</td></tr>\n",
       "</tbody>\n",
       "</table>\n"
      ],
      "text/latex": [
       "A grouped_df: 30 × 3\n",
       "\\begin{tabular}{r|lll}\n",
       " id\\_inciso & id\\_ue & monto\\\\\n",
       " <int> & <int> & <dbl>\\\\\n",
       "\\hline\n",
       "\t 25 &   4 & 368831598926\\\\\n",
       "\t 25 &   1 &    845498930\\\\\n",
       "\t 12 & 103 &    746301558\\\\\n",
       "\t  4 &   1 &    527512145\\\\\n",
       "\t 51 &   1 &    479356347\\\\\n",
       "\t 24 &   2 &    367162829\\\\\n",
       "\t 25 &   2 &    358916674\\\\\n",
       "\t  3 &   4 &    307515719\\\\\n",
       "\t 88 &   1 &    296280587\\\\\n",
       "\t 28 &   1 &    276779962\\\\\n",
       "\t  4 &  34 &    219938029\\\\\n",
       "\t 16 & 101 &    219615041\\\\\n",
       "\t 27 &   1 &    198514518\\\\\n",
       "\t  3 &  33 &    190000163\\\\\n",
       "\t 89 &   1 &    188615200\\\\\n",
       "\t 29 &   5 &    186376935\\\\\n",
       "\t 15 &   1 &    178246851\\\\\n",
       "\t  3 &  18 &    176782398\\\\\n",
       "\t 67 &   1 &    156766929\\\\\n",
       "\t 15 &   2 &    150350555\\\\\n",
       "\t 53 &   1 &    133587468\\\\\n",
       "\t 94 &   1 &    132991226\\\\\n",
       "\t  2 &  11 &    119824361\\\\\n",
       "\t 12 &   1 &    112917574\\\\\n",
       "\t 26 &  15 &    111003526\\\\\n",
       "\t 83 &   1 &    109853634\\\\\n",
       "\t  5 &  13 &    109809023\\\\\n",
       "\t 10 &   3 &    108931747\\\\\n",
       "\t 29 &  68 &    101939780\\\\\n",
       "\t  5 &   5 &     99214227\\\\\n",
       "\\end{tabular}\n"
      ],
      "text/markdown": [
       "\n",
       "A grouped_df: 30 × 3\n",
       "\n",
       "| id_inciso &lt;int&gt; | id_ue &lt;int&gt; | monto &lt;dbl&gt; |\n",
       "|---|---|---|\n",
       "| 25 |   4 | 368831598926 |\n",
       "| 25 |   1 |    845498930 |\n",
       "| 12 | 103 |    746301558 |\n",
       "|  4 |   1 |    527512145 |\n",
       "| 51 |   1 |    479356347 |\n",
       "| 24 |   2 |    367162829 |\n",
       "| 25 |   2 |    358916674 |\n",
       "|  3 |   4 |    307515719 |\n",
       "| 88 |   1 |    296280587 |\n",
       "| 28 |   1 |    276779962 |\n",
       "|  4 |  34 |    219938029 |\n",
       "| 16 | 101 |    219615041 |\n",
       "| 27 |   1 |    198514518 |\n",
       "|  3 |  33 |    190000163 |\n",
       "| 89 |   1 |    188615200 |\n",
       "| 29 |   5 |    186376935 |\n",
       "| 15 |   1 |    178246851 |\n",
       "|  3 |  18 |    176782398 |\n",
       "| 67 |   1 |    156766929 |\n",
       "| 15 |   2 |    150350555 |\n",
       "| 53 |   1 |    133587468 |\n",
       "| 94 |   1 |    132991226 |\n",
       "|  2 |  11 |    119824361 |\n",
       "| 12 |   1 |    112917574 |\n",
       "| 26 |  15 |    111003526 |\n",
       "| 83 |   1 |    109853634 |\n",
       "|  5 |  13 |    109809023 |\n",
       "| 10 |   3 |    108931747 |\n",
       "| 29 |  68 |    101939780 |\n",
       "|  5 |   5 |     99214227 |\n",
       "\n"
      ],
      "text/plain": [
       "   id_inciso id_ue monto       \n",
       "1  25          4   368831598926\n",
       "2  25          1      845498930\n",
       "3  12        103      746301558\n",
       "4   4          1      527512145\n",
       "5  51          1      479356347\n",
       "6  24          2      367162829\n",
       "7  25          2      358916674\n",
       "8   3          4      307515719\n",
       "9  88          1      296280587\n",
       "10 28          1      276779962\n",
       "11  4         34      219938029\n",
       "12 16        101      219615041\n",
       "13 27          1      198514518\n",
       "14  3         33      190000163\n",
       "15 89          1      188615200\n",
       "16 29          5      186376935\n",
       "17 15          1      178246851\n",
       "18  3         18      176782398\n",
       "19 67          1      156766929\n",
       "20 15          2      150350555\n",
       "21 53          1      133587468\n",
       "22 94          1      132991226\n",
       "23  2         11      119824361\n",
       "24 12          1      112917574\n",
       "25 26         15      111003526\n",
       "26 83          1      109853634\n",
       "27  5         13      109809023\n",
       "28 10          3      108931747\n",
       "29 29         68      101939780\n",
       "30  5          5       99214227"
      ]
     },
     "metadata": {},
     "output_type": "display_data"
    }
   ],
   "source": [
    "#Agrupamos los datos \n",
    "\n",
    "# group_by(dataSelect, dataSelect$id_ue)\n",
    "datosOrdenados <-dataSelect %>% group_by(id_inciso,id_ue) %>% summarise(monto = sum(monto_adj))\n",
    "f<-arrange(datosOrdenados, desc(monto))\n",
    "head(f, 30)"
   ]
  },
  {
   "cell_type": "code",
   "execution_count": 19,
   "metadata": {},
   "outputs": [
    {
     "name": "stdout",
     "output_type": "stream",
     "text": [
      "{xml_document}\n",
      "<unidades-ejecutoras>\n",
      " [1] <unidad-ejecutora id-inciso=\"1\" id-ue=\"1\" nom-ue=\"Cámara de Senadores\"/>\n",
      " [2] <unidad-ejecutora id-inciso=\"1\" id-ue=\"2\" nom-ue=\"Cámara de Representant ...\n",
      " [3] <unidad-ejecutora id-inciso=\"1\" id-ue=\"3\" nom-ue=\"Comisión Administrativ ...\n",
      " [4] <unidad-ejecutora id-inciso=\"2\" id-ue=\"1\" nom-ue=\"Presidencia  de la Rep ...\n",
      " [5] <unidad-ejecutora id-inciso=\"2\" id-ue=\"3\" nom-ue=\"Casa Militar\"/>\n",
      " [6] <unidad-ejecutora id-inciso=\"2\" id-ue=\"4\" nom-ue=\"Oficina de Planeamient ...\n",
      " [7] <unidad-ejecutora id-inciso=\"2\" id-ue=\"5\" nom-ue=\"NO VIGENTE - Dirección ...\n",
      " [8] <unidad-ejecutora id-inciso=\"2\" id-ue=\"6\" nom-ue=\"Unidad Reguladora de S ...\n",
      " [9] <unidad-ejecutora id-inciso=\"2\" id-ue=\"7\" nom-ue=\"Instituto Nacional de  ...\n",
      "[10] <unidad-ejecutora id-inciso=\"2\" id-ue=\"8\" nom-ue=\"Oficina Nacional del S ...\n",
      "[11] <unidad-ejecutora id-inciso=\"2\" id-ue=\"9\" nom-ue=\"Unidad Reguladora de S ...\n",
      "[12] <unidad-ejecutora id-inciso=\"2\" id-ue=\"10\" nom-ue=\"AGESIC\"/>\n",
      "[13] <unidad-ejecutora id-inciso=\"2\" id-ue=\"11\" nom-ue=\"Secretaría  Nacional  ...\n",
      "[14] <unidad-ejecutora id-inciso=\"3\" id-ue=\"1\" nom-ue=\"Dirección General de S ...\n",
      "[15] <unidad-ejecutora id-inciso=\"3\" id-ue=\"3\" nom-ue=\"Estado Mayor de la Def ...\n",
      "[16] <unidad-ejecutora id-inciso=\"3\" id-ue=\"4\" nom-ue=\"Comando General del Ej ...\n",
      "[17] <unidad-ejecutora id-inciso=\"3\" id-ue=\"18\" nom-ue=\"Comando General de la ...\n",
      "[18] <unidad-ejecutora id-inciso=\"3\" id-ue=\"23\" nom-ue=\"Comando General de la ...\n",
      "[19] <unidad-ejecutora id-inciso=\"3\" id-ue=\"30\" nom-ue=\"Ex-Dirección Nacional ...\n",
      "[20] <unidad-ejecutora id-inciso=\"3\" id-ue=\"31\" nom-ue=\"Ex-Dirección General  ...\n",
      "...\n"
     ]
    }
   ],
   "source": [
    "archivo_xml = \"/Users/Andy/Desktop/Win10/UTEC/2019/Semestre 6/AD:DS/Semana1/compras/reporteUnidadesEjecutoras.do.xml\"\n",
    "# Activate the `XML` library\n",
    "#library(XML)\n",
    "library(xml2)\n",
    "# Parse the XML file\n",
    "xmlfile <- read_xml(archivo_xml)\n",
    "print(xmlfile)"
   ]
  },
  {
   "cell_type": "code",
   "execution_count": 1,
   "metadata": {},
   "outputs": [
    {
     "name": "stdout",
     "output_type": "stream",
     "text": [
      "{xml_document}\n",
      "<incisos>\n",
      " [1] <inciso id-inciso=\"1\" nom-inciso=\"Poder Legislativo\"/>\n",
      " [2] <inciso id-inciso=\"2\" nom-inciso=\"Presidencia de la República\"/>\n",
      " [3] <inciso id-inciso=\"3\" nom-inciso=\"Ministerio de Defensa Nacional\"/>\n",
      " [4] <inciso id-inciso=\"4\" nom-inciso=\"Ministerio del Interior\"/>\n",
      " [5] <inciso id-inciso=\"5\" nom-inciso=\"Ministerio de Economía y Finanzas\"/>\n",
      " [6] <inciso id-inciso=\"6\" nom-inciso=\"Ministerio de Relaciones Exteriores\"/>\n",
      " [7] <inciso id-inciso=\"7\" nom-inciso=\"Ministerio de Ganadería, Agricultura y ...\n",
      " [8] <inciso id-inciso=\"8\" nom-inciso=\"Ministerio de Industria, Energía y Min ...\n",
      " [9] <inciso id-inciso=\"9\" nom-inciso=\"Ministerio de Turismo\"/>\n",
      "[10] <inciso id-inciso=\"10\" nom-inciso=\"Ministerio de Transporte y Obras Públ ...\n",
      "[11] <inciso id-inciso=\"11\" nom-inciso=\"Ministerio de Educación y Cultura\"/>\n",
      "[12] <inciso id-inciso=\"12\" nom-inciso=\"Ministerio de Salud Pública\"/>\n",
      "[13] <inciso id-inciso=\"13\" nom-inciso=\"Ministerio de Trabajo y Seguridad Soc ...\n",
      "[14] <inciso id-inciso=\"14\" nom-inciso=\"Ministerio de Vivienda, Ordenamiento  ...\n",
      "[15] <inciso id-inciso=\"15\" nom-inciso=\"Ministerio de Desarrollo Social\"/>\n",
      "[16] <inciso id-inciso=\"16\" nom-inciso=\"Poder Judicial\"/>\n",
      "[17] <inciso id-inciso=\"17\" nom-inciso=\"Tribunal de Cuentas\"/>\n",
      "[18] <inciso id-inciso=\"18\" nom-inciso=\"Corte Electoral\"/>\n",
      "[19] <inciso id-inciso=\"19\" nom-inciso=\"Tribunal de lo Contencioso Administra ...\n",
      "[20] <inciso id-inciso=\"24\" nom-inciso=\"Diversos Créditos\"/>\n",
      "...\n"
     ]
    }
   ],
   "source": [
    "archivo_xml = \"/Users/arual/Documents/Utec/6to. Semestre/Taller Ciencia de Datos/S1/ArchivosTarea/reporteIncisos.do.xml\"\n",
    "# Activate the `XML` library\n",
    "#library(XML)\n",
    "library(xml2)\n",
    "# Parse the XML file\n",
    "xmlfile <- read_xml(archivo_xml)\n",
    "print(xmlfile)"
   ]
  },
  {
   "cell_type": "code",
   "execution_count": 2,
   "metadata": {},
   "outputs": [
    {
     "name": "stdout",
     "output_type": "stream",
     "text": [
      "{xml_document}\n",
      "<monedas>\n",
      " [1] <moneda id-moneda=\"0\" desc-moneda=\"PESOS URUGUAYOS\" sigla-moneda=\"$\" id- ...\n",
      " [2] <moneda id-moneda=\"1\" desc-moneda=\"DOLAR PIZARRA VENDEDOR\" sigla-moneda= ...\n",
      " [3] <moneda id-moneda=\"2\" desc-moneda=\"DOLAR INTERBANCARIO VENDEDOR\" sigla-m ...\n",
      " [4] <moneda id-moneda=\"3\" desc-moneda=\"FRANCO FRANCES\" sigla-moneda=\"FF\" id- ...\n",
      " [5] <moneda id-moneda=\"4\" desc-moneda=\"UNIDAD INDEXADA\" sigla-moneda=\"UNIDAD ...\n",
      " [6] <moneda id-moneda=\"5\" desc-moneda=\"UNIDAD REAJUSTABLE\" sigla-moneda=\"UR\" ...\n",
      " [7] <moneda id-moneda=\"6\" desc-moneda=\"MARCO ALEMAN\" sigla-moneda=\"DM\" id-mo ...\n",
      " [8] <moneda id-moneda=\"7\" desc-moneda=\"FRANCO BELGA\" sigla-moneda=\"FB\" id-mo ...\n",
      " [9] <moneda id-moneda=\"8\" desc-moneda=\"DOLAR CANADIENSE\" sigla-moneda=\"DC\" i ...\n",
      "[10] <moneda id-moneda=\"9\" desc-moneda=\"PESETAS\" sigla-moneda=\"PTS\" id-moneda ...\n",
      "[11] <moneda id-moneda=\"10\" desc-moneda=\"FLORINES HOLANDESES\" sigla-moneda=\"F ...\n",
      "[12] <moneda id-moneda=\"11\" desc-moneda=\"LIBRA ESTERLINA\" sigla-moneda=\"£\" id ...\n",
      "[13] <moneda id-moneda=\"12\" desc-moneda=\"YEN\" sigla-moneda=\"YEN\" id-moneda-ar ...\n",
      "[14] <moneda id-moneda=\"13\" desc-moneda=\"CORONA SUECA\" sigla-moneda=\"CS\" id-m ...\n",
      "[15] <moneda id-moneda=\"14\" desc-moneda=\"FRANCO SUIZO\" sigla-moneda=\"FS\" id-m ...\n",
      "[16] <moneda id-moneda=\"15\" desc-moneda=\"EURO\" sigla-moneda=\"EUR\" id-moneda-a ...\n",
      "[17] <moneda id-moneda=\"16\" desc-moneda=\"BOLIVAR\" sigla-moneda=\"BOL\" id-moned ...\n",
      "[18] <moneda id-moneda=\"17\" desc-moneda=\"DERECHOS ESPECIALES DE GIRO\" sigla-m ...\n",
      "[19] <moneda id-moneda=\"18\" desc-moneda=\"UNIDAD REAJUSTABLE DE ALQUILERES\" si ...\n",
      "[20] <moneda id-moneda=\"19\" desc-moneda=\"UNIDAD DE AHORRO REAJUSTABLE\" sigla- ...\n",
      "...\n"
     ]
    }
   ],
   "source": [
    "archivo_xml = \"/Users/arual/Documents/Utec/6to. Semestre/Taller Ciencia de Datos/S1/ArchivosTarea/reporteMonedas.do.xml\"\n",
    "# Activate the `XML` library\n",
    "#library(XML)\n",
    "library(xml2)\n",
    "# Parse the XML file\n",
    "xmlfile <- read_xml(archivo_xml)\n",
    "print(xmlfile)"
   ]
  },
  {
   "cell_type": "code",
   "execution_count": 3,
   "metadata": {},
   "outputs": [
    {
     "name": "stdout",
     "output_type": "stream",
     "text": [
      "{xml_document}\n",
      "<objetos-gasto>\n",
      " [1] <objeto-gasto odg=\"111000\" descripcion=\"ALIMENTOS PARA PERSONAS\"/>\n",
      " [2] <objeto-gasto odg=\"112000\" descripcion=\"ALIMENTOS PARA ANIMALES\"/>\n",
      " [3] <objeto-gasto odg=\"113000\" descripcion=\"PRODUCTOS PECUARIOS\"/>\n",
      " [4] <objeto-gasto odg=\"114000\" descripcion=\"PRODUCTOS AGROFORESTALES Y SUS M ...\n",
      " [5] <objeto-gasto odg=\"115000\" descripcion=\"MATERIA PRIMA AGROPECUARIA Y FOR ...\n",
      " [6] <objeto-gasto odg=\"116000\" descripcion=\"MATERIAS PRIMAS DE ORIGEN ACUÁTI ...\n",
      " [7] <objeto-gasto odg=\"119000\" descripcion=\"OTROS PROD ALIMENTICIOS AGROPECU ...\n",
      " [8] <objeto-gasto odg=\"121000\" descripcion=\"HILADOS Y TELAS\"/>\n",
      " [9] <objeto-gasto odg=\"122000\" descripcion=\"PRENDAS DE VESTIR\"/>\n",
      "[10] <objeto-gasto odg=\"123000\" descripcion=\"CONFECCIONES TEXTILES\"/>\n",
      "[11] <objeto-gasto odg=\"124000\" descripcion=\"CUERO, PIELES Y SIMILARES\"/>\n",
      "[12] <objeto-gasto odg=\"129000\" descripcion=\"OTROS PROD TEXTILES, PRENDAS DE  ...\n",
      "[13] <objeto-gasto odg=\"131000\" descripcion=\"PAPELES DE OFICINA\"/>\n",
      "[14] <objeto-gasto odg=\"132000\" descripcion=\"PRODUCTOS DE PAPEL Y CARTON\"/>\n",
      "[15] <objeto-gasto odg=\"133000\" descripcion=\"FORMULARIOS, IMPRESOS Y SIMILARE ...\n",
      "[16] <objeto-gasto odg=\"134000\" descripcion=\"PRODUCTOS DE ARTES GRAFICAS\"/>\n",
      "[17] <objeto-gasto odg=\"135000\" descripcion=\"LIBROS, REVISTAS Y OTRAS PUBLICA ...\n",
      "[18] <objeto-gasto odg=\"136000\" descripcion=\"ESPECIES TIMBRADAS Y VALORADAS\"/>\n",
      "[19] <objeto-gasto odg=\"139000\" descripcion=\"OTROS PROD. DE PAPEL LIBROS E IM ...\n",
      "[20] <objeto-gasto odg=\"141000\" descripcion=\"COMBUSTIBLES DERIVADOS DEL PETRO ...\n",
      "...\n"
     ]
    }
   ],
   "source": [
    "archivo_xml = \"/Users/arual/Documents/Utec/6to. Semestre/Taller Ciencia de Datos/S1/ArchivosTarea/reporteObjetosGasto.do.xml\"\n",
    "# Activate the `XML` library\n",
    "#library(XML)\n",
    "library(xml2)\n",
    "# Parse the XML file\n",
    "xmlfile <- read_xml(archivo_xml)\n",
    "print(xmlfile)"
   ]
  },
  {
   "cell_type": "code",
   "execution_count": 4,
   "metadata": {},
   "outputs": [
    {
     "name": "stdout",
     "output_type": "stream",
     "text": [
      "{xml_document}\n",
      "<tipos-compra>\n",
      " [1] <tipo-compra id=\"CD\" descripcion=\"Compra Directa\" oferta-economica=\"S\" a ...\n",
      " [2] <tipo-compra id=\"CE\" descripcion=\"Compra por Excepción\" oferta-economica ...\n",
      " [3] <tipo-compra id=\"CM\" descripcion=\"Convenio Marco\" oferta-economica=\"S\" a ...\n",
      " [4] <tipo-compra id=\"CO\" descripcion=\"Concesión\" oferta-economica=\"S\" acto-a ...\n",
      " [5] <tipo-compra id=\"CP\" descripcion=\"PFI - Comparación de precios\" oferta-e ...\n",
      " [6] <tipo-compra id=\"DI\" descripcion=\"PFI - Contratación directa\" oferta-eco ...\n",
      " [7] <tipo-compra id=\"EI\" descripcion=\"Llamado a Expresiones de Interés\" ofer ...\n",
      " [8] <tipo-compra id=\"LA\" descripcion=\"Licitación Abreviada\" oferta-economica ...\n",
      " [9] <tipo-compra id=\"LI\" descripcion=\"PFI - Licitación pública internacional ...\n",
      "[10] <tipo-compra id=\"LL\" descripcion=\"PFI - Licitación internacional limitad ...\n",
      "[11] <tipo-compra id=\"LN\" descripcion=\"PFI - Licitación pública nacional\" ofe ...\n",
      "[12] <tipo-compra id=\"LP\" descripcion=\"Licitación Pública\" oferta-economica=\" ...\n",
      "[13] <tipo-compra id=\"PE\" descripcion=\"Procedimiento Especial\" oferta-economi ...\n",
      "[14] <tipo-compra id=\"PR\" descripcion=\"Pregón\" oferta-economica=\"S\" acto-aper ...\n",
      "[15] <tipo-compra id=\"SI\" descripcion=\"Solicitud de Información\" oferta-econo ...\n",
      "[16] <tipo-compra id=\"VA\" descripcion=\"Venta/Arrendamiento Licitación Abrevia ...\n",
      "[17] <tipo-compra id=\"VD\" descripcion=\"Venta/Arrendamiento Directa\" oferta-ec ...\n",
      "[18] <tipo-compra id=\"VE\" descripcion=\"Venta/Arrendamiento por Excepción\" ofe ...\n",
      "[19] <tipo-compra id=\"VL\" descripcion=\"Venta/Arrendamiento Licitación Pública ...\n",
      "[20] <tipo-compra id=\"VR\" descripcion=\"Venta/Arrendamiento por Remate\" oferta ...\n"
     ]
    }
   ],
   "source": [
    "archivo_xml = \"/Users/arual/Documents/Utec/6to. Semestre/Taller Ciencia de Datos/S1/ArchivosTarea/reporteTiposCompra.do.xml\"\n",
    "# Activate the `XML` library\n",
    "#library(XML)\n",
    "library(xml2)\n",
    "# Parse the XML file\n",
    "xmlfile <- read_xml(archivo_xml)\n",
    "print(xmlfile)"
   ]
  },
  {
   "cell_type": "code",
   "execution_count": 25,
   "metadata": {},
   "outputs": [
    {
     "name": "stdout",
     "output_type": "stream",
     "text": [
      "\n",
      "The downloaded binary packages are in\n",
      "\t/var/folders/ly/95h1nybs1bqbfq40d29xnmdc0000gn/T//RtmpAS0Xe4/downloaded_packages\n"
     ]
    },
    {
     "data": {
      "text/html": [
       "<table>\n",
       "<caption>A data.frame: 1 × 9</caption>\n",
       "<thead>\n",
       "\t<tr><th scope=col>rows</th><th scope=col>columns</th><th scope=col>discrete_columns</th><th scope=col>continuous_columns</th><th scope=col>all_missing_columns</th><th scope=col>total_missing_values</th><th scope=col>complete_rows</th><th scope=col>total_observations</th><th scope=col>memory_usage</th></tr>\n",
       "\t<tr><th scope=col>&lt;int&gt;</th><th scope=col>&lt;int&gt;</th><th scope=col>&lt;int&gt;</th><th scope=col>&lt;int&gt;</th><th scope=col>&lt;int&gt;</th><th scope=col>&lt;int&gt;</th><th scope=col>&lt;int&gt;</th><th scope=col>&lt;int&gt;</th><th scope=col>&lt;dbl&gt;</th></tr>\n",
       "</thead>\n",
       "<tbody>\n",
       "\t<tr><td>55373</td><td>5</td><td>0</td><td>5</td><td>0</td><td>0</td><td>55373</td><td>276865</td><td>1330976</td></tr>\n",
       "</tbody>\n",
       "</table>\n"
      ],
      "text/latex": [
       "A data.frame: 1 × 9\n",
       "\\begin{tabular}{r|lllllllll}\n",
       " rows & columns & discrete\\_columns & continuous\\_columns & all\\_missing\\_columns & total\\_missing\\_values & complete\\_rows & total\\_observations & memory\\_usage\\\\\n",
       " <int> & <int> & <int> & <int> & <int> & <int> & <int> & <int> & <dbl>\\\\\n",
       "\\hline\n",
       "\t 55373 & 5 & 0 & 5 & 0 & 0 & 55373 & 276865 & 1330976\\\\\n",
       "\\end{tabular}\n"
      ],
      "text/markdown": [
       "\n",
       "A data.frame: 1 × 9\n",
       "\n",
       "| rows &lt;int&gt; | columns &lt;int&gt; | discrete_columns &lt;int&gt; | continuous_columns &lt;int&gt; | all_missing_columns &lt;int&gt; | total_missing_values &lt;int&gt; | complete_rows &lt;int&gt; | total_observations &lt;int&gt; | memory_usage &lt;dbl&gt; |\n",
       "|---|---|---|---|---|---|---|---|---|\n",
       "| 55373 | 5 | 0 | 5 | 0 | 0 | 55373 | 276865 | 1330976 |\n",
       "\n"
      ],
      "text/plain": [
       "  rows  columns discrete_columns continuous_columns all_missing_columns\n",
       "1 55373 5       0                5                  0                  \n",
       "  total_missing_values complete_rows total_observations memory_usage\n",
       "1 0                    55373         276865             1330976     "
      ]
     },
     "metadata": {},
     "output_type": "display_data"
    }
   ],
   "source": [
    "install.packages('DataExplorer') \n",
    "library(DataExplorer); library(dplyr)  \n",
    "\n",
    "# Información básica sobre el dataSelect\n",
    "introduce(dataSelect)"
   ]
  },
  {
   "cell_type": "code",
   "execution_count": 26,
   "metadata": {},
   "outputs": [
    {
     "data": {
      "image/png": "[encoded data removed]",
      "text/plain": [
       "plot without title"
      ]
     },
     "metadata": {
      "image/png": {
       "height": 420,
       "width": 420
      },
      "text/plain": {
       "height": 420,
       "width": 420
      }
     },
     "output_type": "display_data"
    }
   ],
   "source": [
    "#Columnas vacias del dataSelect\n",
    "plot_missing(dataSelect)"
   ]
  },
  {
   "cell_type": "code",
   "execution_count": 27,
   "metadata": {},
   "outputs": [
    {
     "data": {
      "text/html": [
       "<ol class=list-inline>\n",
       "\t<li>'anio_compra'</li>\n",
       "\t<li>'id_inciso'</li>\n",
       "\t<li>'id_moneda_monto_adj'</li>\n",
       "\t<li>'id_ue'</li>\n",
       "\t<li>'monto_adj'</li>\n",
       "</ol>\n"
      ],
      "text/latex": [
       "\\begin{enumerate*}\n",
       "\\item 'anio\\_compra'\n",
       "\\item 'id\\_inciso'\n",
       "\\item 'id\\_moneda\\_monto\\_adj'\n",
       "\\item 'id\\_ue'\n",
       "\\item 'monto\\_adj'\n",
       "\\end{enumerate*}\n"
      ],
      "text/markdown": [
       "1. 'anio_compra'\n",
       "2. 'id_inciso'\n",
       "3. 'id_moneda_monto_adj'\n",
       "4. 'id_ue'\n",
       "5. 'monto_adj'\n",
       "\n",
       "\n"
      ],
      "text/plain": [
       "[1] \"anio_compra\"         \"id_inciso\"           \"id_moneda_monto_adj\"\n",
       "[4] \"id_ue\"               \"monto_adj\"          "
      ]
     },
     "metadata": {},
     "output_type": "display_data"
    }
   ],
   "source": [
    "# Recordemos que columnas tiene el dataSelect\n",
    "colnames(dataSelect)"
   ]
  },
  {
   "cell_type": "code",
   "execution_count": 29,
   "metadata": {},
   "outputs": [
    {
     "name": "stdout",
     "output_type": "stream",
     "text": [
      "[1] \"Cantidad de Valores Vacios:\"\n",
      "[1] \"Monto Adjudicado:  2108\"\n"
     ]
    }
   ],
   "source": [
    "# Vamos a contar cantidad de valores \"\" en las siguientes columnas:\n",
    "\n",
    "# Imprimo cantidad\n",
    "print(\"Cantidad de Valores Vacios:\")\n",
    "\n",
    "cantMontoVacio <- dataSelect %>% select(monto_adj) %>% \n",
    "                            filter(monto_adj == 0) %>%  \n",
    "                            count()\n",
    "print(paste(\"Monto Adjudicado: \", cantMontoVacio))"
   ]
  }
 ],
 "metadata": {
  "kernelspec": {
   "display_name": "R",
   "language": "R",
   "name": "ir"
  },
  "language_info": {
   "codemirror_mode": "r",
   "file_extension": ".r",
   "mimetype": "text/x-r-source",
   "name": "R",
   "pygments_lexer": "r",
   "version": "3.6.1"
  }
 },
 "nbformat": 4,
 "nbformat_minor": 2
}
