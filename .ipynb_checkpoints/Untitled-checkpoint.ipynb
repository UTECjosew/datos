{
 "cells": [
  {
   "cell_type": "code",
   "execution_count": 1,
   "metadata": {},
   "outputs": [],
   "source": [
    "# Importo archivo CSV\n",
    "archivo <- \"/Users/Andy/Desktop/Win10/UTEC/2019/Semestre 6/AD:DS/Semana1/compras/compras2018_1ero.csv\""
   ]
  },
  {
   "cell_type": "code",
   "execution_count": 2,
   "metadata": {},
   "outputs": [
    {
     "name": "stderr",
     "output_type": "stream",
     "text": [
      "Warning message in file(file, \"rt\"):\n",
      "\"no fue posible abrir el archivo '/Users/Andy/Desktop/Win10/UTEC/2019/Semestre 6/AD:DS/Semana1/compras/compras2018_1ero.csv': Invalid argument\""
     ]
    },
    {
     "ename": "ERROR",
     "evalue": "Error in file(file, \"rt\"): no se puede abrir la conexión\n",
     "output_type": "error",
     "traceback": [
      "Error in file(file, \"rt\"): no se puede abrir la conexión\nTraceback:\n",
      "1. read.csv(archivo)",
      "2. read.table(file = file, header = header, sep = sep, quote = quote, \n .     dec = dec, fill = fill, comment.char = comment.char, ...)",
      "3. file(file, \"rt\")"
     ]
    }
   ],
   "source": [
    "# Cargo datos del archivo\n",
    "datos <- read.csv(archivo)"
   ]
  },
  {
   "cell_type": "code",
   "execution_count": 3,
   "metadata": {},
   "outputs": [
    {
     "ename": "ERROR",
     "evalue": "Error in head(datos): objeto 'datos' no encontrado\n",
     "output_type": "error",
     "traceback": [
      "Error in head(datos): objeto 'datos' no encontrado\nTraceback:\n",
      "1. head(datos)"
     ]
    }
   ],
   "source": [
    "# Imprimo primeras filas del CSV\n",
    "head(datos)"
   ]
  },
  {
   "cell_type": "code",
   "execution_count": 37,
   "metadata": {},
   "outputs": [
    {
     "name": "stdout",
     "output_type": "stream",
     "text": [
      "\n",
      "The downloaded binary packages are in\n",
      "\t/var/folders/ly/95h1nybs1bqbfq40d29xnmdc0000gn/T//Rtmpfy4vl3/downloaded_packages\n"
     ]
    }
   ],
   "source": [
    "# Importar libreria dplyr\n",
    "library(dplyr)\n",
    "install.packages(\"tidyverse\")"
   ]
  },
  {
   "cell_type": "code",
   "execution_count": 31,
   "metadata": {},
   "outputs": [],
   "source": [
    "# Selecciona solamente las columnas Anio_Compra, id_moneda_monto_adj, id_ue, monto_adj,  \n",
    "dataSelect <- select(datos, anio_compra, id_inciso,id_moneda_monto_adj, id_ue, monto_adj);"
   ]
  },
  {
   "cell_type": "code",
   "execution_count": 32,
   "metadata": {},
   "outputs": [
    {
     "data": {
      "text/html": [
       "<table>\n",
       "<caption>A data.frame: 6 × 5</caption>\n",
       "<thead>\n",
       "\t<tr><th scope=col>anio_compra</th><th scope=col>id_inciso</th><th scope=col>id_moneda_monto_adj</th><th scope=col>id_ue</th><th scope=col>monto_adj</th></tr>\n",
       "\t<tr><th scope=col>&lt;int&gt;</th><th scope=col>&lt;int&gt;</th><th scope=col>&lt;int&gt;</th><th scope=col>&lt;int&gt;</th><th scope=col>&lt;dbl&gt;</th></tr>\n",
       "</thead>\n",
       "<tbody>\n",
       "\t<tr><td>2017</td><td>26</td><td>1</td><td> 31</td><td>  17910.00</td></tr>\n",
       "\t<tr><td>2017</td><td>29</td><td>0</td><td>103</td><td>  12195.03</td></tr>\n",
       "\t<tr><td>2017</td><td>26</td><td>0</td><td> 16</td><td>  12468.40</td></tr>\n",
       "\t<tr><td>2017</td><td>25</td><td>0</td><td>  1</td><td>      0.00</td></tr>\n",
       "\t<tr><td>2017</td><td>12</td><td>0</td><td>103</td><td>  13908.00</td></tr>\n",
       "\t<tr><td>2017</td><td>26</td><td>0</td><td> 16</td><td>1679118.94</td></tr>\n",
       "</tbody>\n",
       "</table>\n"
      ],
      "text/latex": [
       "A data.frame: 6 × 5\n",
       "\\begin{tabular}{r|lllll}\n",
       " anio\\_compra & id\\_inciso & id\\_moneda\\_monto\\_adj & id\\_ue & monto\\_adj\\\\\n",
       " <int> & <int> & <int> & <int> & <dbl>\\\\\n",
       "\\hline\n",
       "\t 2017 & 26 & 1 &  31 &   17910.00\\\\\n",
       "\t 2017 & 29 & 0 & 103 &   12195.03\\\\\n",
       "\t 2017 & 26 & 0 &  16 &   12468.40\\\\\n",
       "\t 2017 & 25 & 0 &   1 &       0.00\\\\\n",
       "\t 2017 & 12 & 0 & 103 &   13908.00\\\\\n",
       "\t 2017 & 26 & 0 &  16 & 1679118.94\\\\\n",
       "\\end{tabular}\n"
      ],
      "text/markdown": [
       "\n",
       "A data.frame: 6 × 5\n",
       "\n",
       "| anio_compra &lt;int&gt; | id_inciso &lt;int&gt; | id_moneda_monto_adj &lt;int&gt; | id_ue &lt;int&gt; | monto_adj &lt;dbl&gt; |\n",
       "|---|---|---|---|---|\n",
       "| 2017 | 26 | 1 |  31 |   17910.00 |\n",
       "| 2017 | 29 | 0 | 103 |   12195.03 |\n",
       "| 2017 | 26 | 0 |  16 |   12468.40 |\n",
       "| 2017 | 25 | 0 |   1 |       0.00 |\n",
       "| 2017 | 12 | 0 | 103 |   13908.00 |\n",
       "| 2017 | 26 | 0 |  16 | 1679118.94 |\n",
       "\n"
      ],
      "text/plain": [
       "  anio_compra id_inciso id_moneda_monto_adj id_ue monto_adj \n",
       "1 2017        26        1                    31     17910.00\n",
       "2 2017        29        0                   103     12195.03\n",
       "3 2017        26        0                    16     12468.40\n",
       "4 2017        25        0                     1         0.00\n",
       "5 2017        12        0                   103     13908.00\n",
       "6 2017        26        0                    16   1679118.94"
      ]
     },
     "metadata": {},
     "output_type": "display_data"
    }
   ],
   "source": [
    "# Imprimo primeras filas del CSV\n",
    "head(dataSelect)"
   ]
  },
  {
   "cell_type": "code",
   "execution_count": 55,
   "metadata": {},
   "outputs": [
    {
     "data": {
      "text/html": [
       "<table>\n",
       "<caption>A grouped_df: 20 × 3</caption>\n",
       "<thead>\n",
       "\t<tr><th scope=col>id_inciso</th><th scope=col>id_ue</th><th scope=col>monto</th></tr>\n",
       "\t<tr><th scope=col>&lt;int&gt;</th><th scope=col>&lt;int&gt;</th><th scope=col>&lt;dbl&gt;</th></tr>\n",
       "</thead>\n",
       "<tbody>\n",
       "\t<tr><td>98</td><td> 1</td><td>6965584</td></tr>\n",
       "\t<tr><td>53</td><td> 1</td><td>6471876</td></tr>\n",
       "\t<tr><td>50</td><td> 1</td><td>6223397</td></tr>\n",
       "\t<tr><td>97</td><td> 1</td><td>4380698</td></tr>\n",
       "\t<tr><td>93</td><td> 1</td><td>2890499</td></tr>\n",
       "\t<tr><td>80</td><td> 1</td><td>2875297</td></tr>\n",
       "\t<tr><td>94</td><td> 1</td><td>2698522</td></tr>\n",
       "\t<tr><td>88</td><td> 1</td><td>2514000</td></tr>\n",
       "\t<tr><td>26</td><td> 9</td><td>2464962</td></tr>\n",
       "\t<tr><td>26</td><td>10</td><td>2247193</td></tr>\n",
       "\t<tr><td>29</td><td>26</td><td>2118769</td></tr>\n",
       "\t<tr><td>84</td><td> 1</td><td>1845486</td></tr>\n",
       "\t<tr><td>29</td><td>21</td><td>1843097</td></tr>\n",
       "\t<tr><td>85</td><td> 1</td><td>1774722</td></tr>\n",
       "\t<tr><td>26</td><td>19</td><td>1701505</td></tr>\n",
       "\t<tr><td>51</td><td> 1</td><td>1669591</td></tr>\n",
       "\t<tr><td>29</td><td> 4</td><td>1511441</td></tr>\n",
       "\t<tr><td>15</td><td> 2</td><td>1121870</td></tr>\n",
       "\t<tr><td> 1</td><td> 2</td><td>1100001</td></tr>\n",
       "\t<tr><td>83</td><td> 1</td><td>1054397</td></tr>\n",
       "</tbody>\n",
       "</table>\n"
      ],
      "text/latex": [
       "A grouped_df: 20 × 3\n",
       "\\begin{tabular}{r|lll}\n",
       " id\\_inciso & id\\_ue & monto\\\\\n",
       " <int> & <int> & <dbl>\\\\\n",
       "\\hline\n",
       "\t 98 &  1 & 6965584\\\\\n",
       "\t 53 &  1 & 6471876\\\\\n",
       "\t 50 &  1 & 6223397\\\\\n",
       "\t 97 &  1 & 4380698\\\\\n",
       "\t 93 &  1 & 2890499\\\\\n",
       "\t 80 &  1 & 2875297\\\\\n",
       "\t 94 &  1 & 2698522\\\\\n",
       "\t 88 &  1 & 2514000\\\\\n",
       "\t 26 &  9 & 2464962\\\\\n",
       "\t 26 & 10 & 2247193\\\\\n",
       "\t 29 & 26 & 2118769\\\\\n",
       "\t 84 &  1 & 1845486\\\\\n",
       "\t 29 & 21 & 1843097\\\\\n",
       "\t 85 &  1 & 1774722\\\\\n",
       "\t 26 & 19 & 1701505\\\\\n",
       "\t 51 &  1 & 1669591\\\\\n",
       "\t 29 &  4 & 1511441\\\\\n",
       "\t 15 &  2 & 1121870\\\\\n",
       "\t  1 &  2 & 1100001\\\\\n",
       "\t 83 &  1 & 1054397\\\\\n",
       "\\end{tabular}\n"
      ],
      "text/markdown": [
       "\n",
       "A grouped_df: 20 × 3\n",
       "\n",
       "| id_inciso &lt;int&gt; | id_ue &lt;int&gt; | monto &lt;dbl&gt; |\n",
       "|---|---|---|\n",
       "| 98 |  1 | 6965584 |\n",
       "| 53 |  1 | 6471876 |\n",
       "| 50 |  1 | 6223397 |\n",
       "| 97 |  1 | 4380698 |\n",
       "| 93 |  1 | 2890499 |\n",
       "| 80 |  1 | 2875297 |\n",
       "| 94 |  1 | 2698522 |\n",
       "| 88 |  1 | 2514000 |\n",
       "| 26 |  9 | 2464962 |\n",
       "| 26 | 10 | 2247193 |\n",
       "| 29 | 26 | 2118769 |\n",
       "| 84 |  1 | 1845486 |\n",
       "| 29 | 21 | 1843097 |\n",
       "| 85 |  1 | 1774722 |\n",
       "| 26 | 19 | 1701505 |\n",
       "| 51 |  1 | 1669591 |\n",
       "| 29 |  4 | 1511441 |\n",
       "| 15 |  2 | 1121870 |\n",
       "|  1 |  2 | 1100001 |\n",
       "| 83 |  1 | 1054397 |\n",
       "\n"
      ],
      "text/plain": [
       "   id_inciso id_ue monto  \n",
       "1  98         1    6965584\n",
       "2  53         1    6471876\n",
       "3  50         1    6223397\n",
       "4  97         1    4380698\n",
       "5  93         1    2890499\n",
       "6  80         1    2875297\n",
       "7  94         1    2698522\n",
       "8  88         1    2514000\n",
       "9  26         9    2464962\n",
       "10 26        10    2247193\n",
       "11 29        26    2118769\n",
       "12 84         1    1845486\n",
       "13 29        21    1843097\n",
       "14 85         1    1774722\n",
       "15 26        19    1701505\n",
       "16 51         1    1669591\n",
       "17 29         4    1511441\n",
       "18 15         2    1121870\n",
       "19  1         2    1100001\n",
       "20 83         1    1054397"
      ]
     },
     "metadata": {},
     "output_type": "display_data"
    }
   ],
   "source": [
    "#Agrupamos los datos \n",
    "\n",
    "# group_by(dataSelect, dataSelect$id_ue)\n",
    "datosOrdenados <-dataSelect %>% group_by(id_inciso,id_ue) %>% summarise(monto = mean(monto_adj))\n",
    "f<-arrange(datosOrdenados, desc(monto))\n",
    "head(f, 20)"
   ]
  },
  {
   "cell_type": "code",
   "execution_count": 27,
   "metadata": {},
   "outputs": [
    {
     "name": "stdout",
     "output_type": "stream",
     "text": [
      "{xml_document}\n",
      "<unidades-ejecutoras>\n",
      " [1] <unidad-ejecutora id-inciso=\"1\" id-ue=\"1\" nom-ue=\"Cámara de Senadores\"/>\n",
      " [2] <unidad-ejecutora id-inciso=\"1\" id-ue=\"2\" nom-ue=\"Cámara de Representant ...\n",
      " [3] <unidad-ejecutora id-inciso=\"1\" id-ue=\"3\" nom-ue=\"Comisión Administrativ ...\n",
      " [4] <unidad-ejecutora id-inciso=\"2\" id-ue=\"1\" nom-ue=\"Presidencia  de la Rep ...\n",
      " [5] <unidad-ejecutora id-inciso=\"2\" id-ue=\"3\" nom-ue=\"Casa Militar\"/>\n",
      " [6] <unidad-ejecutora id-inciso=\"2\" id-ue=\"4\" nom-ue=\"Oficina de Planeamient ...\n",
      " [7] <unidad-ejecutora id-inciso=\"2\" id-ue=\"5\" nom-ue=\"NO VIGENTE - Dirección ...\n",
      " [8] <unidad-ejecutora id-inciso=\"2\" id-ue=\"6\" nom-ue=\"Unidad Reguladora de S ...\n",
      " [9] <unidad-ejecutora id-inciso=\"2\" id-ue=\"7\" nom-ue=\"Instituto Nacional de  ...\n",
      "[10] <unidad-ejecutora id-inciso=\"2\" id-ue=\"8\" nom-ue=\"Oficina Nacional del S ...\n",
      "[11] <unidad-ejecutora id-inciso=\"2\" id-ue=\"9\" nom-ue=\"Unidad Reguladora de S ...\n",
      "[12] <unidad-ejecutora id-inciso=\"2\" id-ue=\"10\" nom-ue=\"AGESIC\"/>\n",
      "[13] <unidad-ejecutora id-inciso=\"2\" id-ue=\"11\" nom-ue=\"Secretaría  Nacional  ...\n",
      "[14] <unidad-ejecutora id-inciso=\"3\" id-ue=\"1\" nom-ue=\"Dirección General de S ...\n",
      "[15] <unidad-ejecutora id-inciso=\"3\" id-ue=\"3\" nom-ue=\"Estado Mayor de la Def ...\n",
      "[16] <unidad-ejecutora id-inciso=\"3\" id-ue=\"4\" nom-ue=\"Comando General del Ej ...\n",
      "[17] <unidad-ejecutora id-inciso=\"3\" id-ue=\"18\" nom-ue=\"Comando General de la ...\n",
      "[18] <unidad-ejecutora id-inciso=\"3\" id-ue=\"23\" nom-ue=\"Comando General de la ...\n",
      "[19] <unidad-ejecutora id-inciso=\"3\" id-ue=\"30\" nom-ue=\"Ex-Dirección Nacional ...\n",
      "[20] <unidad-ejecutora id-inciso=\"3\" id-ue=\"31\" nom-ue=\"Ex-Dirección General  ...\n",
      "...\n"
     ]
    }
   ],
   "source": [
    "archivo_xml = \"/Users/Andy/Desktop/Win10/UTEC/2019/Semestre 6/AD:DS/Semana1/compras/reporteUnidadesEjecutoras.do.xml\"\n",
    "# Activate the `XML` library\n",
    "#library(XML)\n",
    "library(xml2)\n",
    "# Parse the XML file\n",
    "xmlfile <- read_xml(archivo_xml)\n",
    "print(xmlfile)"
   ]
  },
  {
   "cell_type": "code",
   "execution_count": null,
   "metadata": {},
   "outputs": [],
   "source": []
  },
  {
   "cell_type": "code",
   "execution_count": null,
   "metadata": {},
   "outputs": [],
   "source": []
  }
 ],
 "metadata": {
  "kernelspec": {
   "display_name": "R",
   "language": "R",
   "name": "ir"
  },
  "language_info": {
   "codemirror_mode": "r",
   "file_extension": ".r",
   "mimetype": "text/x-r-source",
   "name": "R",
   "pygments_lexer": "r",
   "version": "3.6.1"
  }
 },
 "nbformat": 4,
 "nbformat_minor": 2
}
