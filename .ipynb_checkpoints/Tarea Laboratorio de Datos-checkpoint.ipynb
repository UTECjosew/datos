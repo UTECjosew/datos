{
 "cells": [
  {
   "cell_type": "markdown",
   "metadata": {},
   "source": [
    " # Taller Ciencia de Datos \n",
    "\n",
    "### ***Tarea Laboratorio 2019***\n",
    "\n",
    "---\n",
    "<div class=\"text-center\"> Andrea Correa </div>\n",
    "<div class=\"text-center\">Maria Laura Gayo </div>\n",
    "<div class=\"text-center\"> Mariano Koci </div>\n",
    "<div class=\"text-center\">Alejandro Wohlwend </div>\n",
    "<div class=\"text-center\">Renzo Daset </div>\n",
    "<div class=\"text-center\">Laura Rodriguez </div>\n",
    "\n",
    "---\n",
    "\n",
    "\n",
    "<a id='Indice'></a>\n",
    "### Índice\n",
    "\n",
    "1. [Adquisición de datos](#Adquisicion-Datos)\n",
    "    1. [Import de CSV](#Import-CSV)\n",
    "    1. [Unión de archivos](#Union)\n",
    "    \n",
    "2. [Transformación de los datos](#Transformacion)\n",
    "    2. [Transformación de Adjudicaciones](#Transformación-Adjudicaciones)\n",
    "    2. [Transformación de Monedas](#Transformación-Moneda)\n",
    "    2. [Transformación de valor 0 ](#Transformación-Invalidos)\n",
    "    \n",
    "3. [Análisis de los objetivos del Negocio y como se mapeo a los datos disponibles](#Analisis)\n",
    "\n",
    "4. [Análisis y visualización para los requerimientos de negocio](#Visualización)\n",
    "\n",
    "5. [Conclusiones](#Conclusiones)\n",
    "\n",
    "---"
   ]
  },
  {
   "cell_type": "code",
   "execution_count": null,
   "metadata": {},
   "outputs": [],
   "source": [
    "# Importamos la libreria dplyr\n",
    "library(dplyr)\n",
    "install.packages(\"tidyverse\")"
   ]
  },
  {
   "cell_type": "code",
   "execution_count": null,
   "metadata": {},
   "outputs": [],
   "source": [
    "install.packages('DataExplorer') \n",
    "library(DataExplorer); library(dplyr)  "
   ]
  },
  {
   "cell_type": "markdown",
   "metadata": {},
   "source": [
    "<a id='Adquisicion-Datos'></a>\n",
    "### Adquisición de los Datos\n",
    "[Inicio ▲](#Indice)\n",
    "\n",
    "---\n",
    "\n",
    " La ingesta de datos se realizó  mediante los pasos que se muestran a continuación:\n",
    "\n",
    "\n"
   ]
  },
  {
   "cell_type": "code",
   "execution_count": null,
   "metadata": {},
   "outputs": [],
   "source": [
    "# Importamos los archivos CSV\n",
    "archivo <- \"compras2018_1ero.csv\"\n",
    "archivo2 <- \"compras2018_2do.csv\""
   ]
  },
  {
   "cell_type": "code",
   "execution_count": null,
   "metadata": {},
   "outputs": [],
   "source": [
    "# Cargamos datos del archivo\n",
    "datos <- read.csv(archivo)"
   ]
  },
  {
   "cell_type": "code",
   "execution_count": null,
   "metadata": {},
   "outputs": [],
   "source": [
    "# Cargamos datos del archivo\n",
    "datos2 <- read.csv(archivo2)"
   ]
  },
  {
   "cell_type": "code",
   "execution_count": null,
   "metadata": {},
   "outputs": [],
   "source": [
    "# Unimos los datos de ambos archivos\n",
    "datosAll<-rbind(datos,datos2)"
   ]
  },
  {
   "cell_type": "code",
   "execution_count": null,
   "metadata": {
    "scrolled": true
   },
   "outputs": [],
   "source": [
    "# Imprimmimos las primeras filas del CSV\n",
    "count(datosAll) # contamos la cantidad de registros\n",
    "names(datos) # Con 'names' obtenemos todos los nombres de los variables\n",
    "head(datos)\n"
   ]
  },
  {
   "cell_type": "code",
   "execution_count": null,
   "metadata": {},
   "outputs": [],
   "source": [
    "# Importamos la libreria dplyr\n",
    "library(dplyr)\n",
    "install.packages(\"tidyverse\")"
   ]
  },
  {
   "cell_type": "markdown",
   "metadata": {},
   "source": [
    "<a id='Analisis'></a>\n",
    "### Análisis de los requerimientos planteados\n",
    "\n",
    "[Inicio ▲](#Indice)\n",
    "\n",
    "---\n",
    "*Se quiere obtener la siguiente información a partir de los datos*\n",
    "&nbsp;\n",
    "\n",
    "1. TOP 20 de las organizaciones que gastaron más dinero (ordenados de forma descendente).\n",
    "2. TOP 50 de las compras más caras.\n",
    "3. Agregación de monto total por tipo de producto\n",
    "4. TOP 10 de las unidades ejecutoras que más compraron en el periodo\n",
    "5. Compras directas mayores $436.000.\n"
   ]
  },
  {
   "cell_type": "markdown",
   "metadata": {},
   "source": [
    "**Descripción de los puntos solicitados:**\n"
   ]
  },
  {
   "cell_type": "markdown",
   "metadata": {},
   "source": [
    "1. Con cuántos datos cuentan para el análisis?\n",
    "<br>\n",
    "Para el análisis se cuenta con 55373 registros.\n",
    "2. Cuáles columnas cree que serán de utilidad para resolver los requerimientos planteados ?\n",
    "<br>\n",
    "Según los requerimientos planteados y los datos disponibles para el análisis consideramos que son necesarias las columnas que se seleccionan en la siguiente línea.\n",
    "Por otro lado para cumplir con el requerimiento \"Agregación de monto total por tipo de producto\", se nos presenta la siguiente dificultad:\n",
    "        Consideramos que la columna a utilizar es la llamada \"objeto\", al observar los datos que se incluyen en ella encontramos que no poseen la estructura necesaria para una óptima agrupación (corresponden a diferentes tipos de datos y no cumplen con ningún patrón). Debido a esto consideramos utilizar la columna \"subtipo_compra\" la cual contiene un patrón ordenable de datos, pero en este caso la mayoría de los registros son clasificados con \"COM\",  que corresponde al tipo de compra \"COMÚN\". \n",
    "3. Qué problema identifica con los datos cargados si es que los hay.\n",
    "<br>\n",
    "Uno de los problemas, se plantea en el punto 2, en el caso de que sea necesaria la utilización de la columna OBJETO.\n",
    "El otro problema que se presenta es referido a la identificación de aquellos registros con codigeras asociadas a sus descripciones.\n"
   ]
  },
  {
   "cell_type": "code",
   "execution_count": null,
   "metadata": {},
   "outputs": [],
   "source": [
    "# Selecciona solamente las columnas Anio_Compra, id_moneda_monto_adj, id_ue, monto_adj,  \n",
    "dataSelect <- select(datosAll, anio_compra, id_inciso,id_moneda_monto_adj, id_ue, monto_adj)\n",
    "str(dataSelect)"
   ]
  },
  {
   "cell_type": "markdown",
   "metadata": {},
   "source": []
  },
  {
   "cell_type": "code",
   "execution_count": null,
   "metadata": {},
   "outputs": [],
   "source": [
    "# Imprimo primeras filas del CSV\n",
    "head(dataSelect)"
   ]
  },
  {
   "cell_type": "code",
   "execution_count": null,
   "metadata": {},
   "outputs": [],
   "source": [
    "#Agrupamos los datos \n",
    "\n",
    "# group_by(dataSelect, dataSelect$id_ue)\n",
    "datosOrdenados <-dataSelect %>% group_by(id_inciso,id_ue) %>% summarise(monto = mean(monto_adj))\n",
    "f<-arrange(datosOrdenados, desc(monto))\n",
    "head(f, 20)"
   ]
  },
  {
   "cell_type": "code",
   "execution_count": null,
   "metadata": {},
   "outputs": [],
   "source": []
  },
  {
   "cell_type": "code",
   "execution_count": null,
   "metadata": {},
   "outputs": [],
   "source": [
    "archivo_xml = \"reporteUnidadesEjecutoras.do.xml\"\n",
    "# Activate the `XML` library\n",
    "#library(XML)\n",
    "library(xml2)\n",
    "# Parse the XML file\n",
    "xmlfile <- read_xml(archivo_xml)\n",
    "print(xmlfile)"
   ]
  },
  {
   "cell_type": "code",
   "execution_count": null,
   "metadata": {},
   "outputs": [],
   "source": [
    "archivo_xml = \"reporteIncisos.do.xml\"\n",
    "# Activate the `XML` library\n",
    "#library(XML)\n",
    "library(xml2)\n",
    "# Parse the XML file\n",
    "xmlfile <- read_xml(archivo_xml)\n",
    "print(xmlfile)"
   ]
  },
  {
   "cell_type": "code",
   "execution_count": null,
   "metadata": {},
   "outputs": [],
   "source": [
    "archivo_xml = \"reporteMonedas.do.xml\"\n",
    "# Activate the `XML` library\n",
    "#library(XML)\n",
    "library(xml2)\n",
    "# Parse the XML file\n",
    "xmlfile <- read_xml(archivo_xml)\n",
    "print(xmlfile)"
   ]
  },
  {
   "cell_type": "code",
   "execution_count": null,
   "metadata": {},
   "outputs": [],
   "source": [
    "archivo_xml = \"reporteObjetosGasto.do.xml\"\n",
    "# Activate the `XML` library\n",
    "#library(XML)\n",
    "library(xml2)\n",
    "# Parse the XML file\n",
    "xmlfile <- read_xml(archivo_xml)\n",
    "print(xmlfile)"
   ]
  },
  {
   "cell_type": "code",
   "execution_count": null,
   "metadata": {},
   "outputs": [],
   "source": [
    "archivo_xml = \"reporteTiposCompra.do.xml\"\n",
    "# Activate the `XML` library\n",
    "#library(XML)\n",
    "library(xml2)\n",
    "# Parse the XML file\n",
    "xmlfile <- read_xml(archivo_xml)\n",
    "print(xmlfile)"
   ]
  },
  {
   "cell_type": "code",
   "execution_count": null,
   "metadata": {},
   "outputs": [],
   "source": [
    "install.packages('DataExplorer') \n",
    "library(DataExplorer); library(dplyr)  \n",
    "\n",
    "# Información básica sobre el dataSelect\n",
    "introduce(dataSelect)"
   ]
  },
  {
   "cell_type": "code",
   "execution_count": null,
   "metadata": {},
   "outputs": [],
   "source": [
    "#Columnas vacias del dataSelect\n",
    "plot_missing(dataSelect)"
   ]
  },
  {
   "cell_type": "code",
   "execution_count": null,
   "metadata": {},
   "outputs": [],
   "source": [
    "# Recordemos que columnas tiene el dataSelect\n",
    "colnames(dataSelect)"
   ]
  },
  {
   "cell_type": "markdown",
   "metadata": {},
   "source": [
    "## 2. Transformación de valores inválidos"
   ]
  },
  {
   "cell_type": "markdown",
   "metadata": {},
   "source": [
    "<a id= Transformación-Invalidos></a>\n",
    "### Montos valor 0\n",
    "\n",
    "---\n"
   ]
  },
  {
   "cell_type": "code",
   "execution_count": null,
   "metadata": {},
   "outputs": [],
   "source": [
    "# Vamos a contar cantidad de valores \"\" en las siguientes columnas:\n",
    "\n",
    "# Imprimo cantidad\n",
    "print(\"Cantidad de Valores Vacios:\")\n",
    "\n",
    "cantMontoVacio <- dataSelect %>% select(monto_adj) %>% \n",
    "                            filter(monto_adj == 0) %>%  \n",
    "                            count()\n",
    "print(paste(\"Monto Adjudicado: \", cantMontoVacio))"
   ]
  },
  {
   "cell_type": "code",
   "execution_count": null,
   "metadata": {},
   "outputs": [],
   "source": [
    "# Se detectaron 2108 adjudicaciones con valor 0\n",
    "\n",
    "# Limpiamos los valores mencionados\n",
    "na_rows <- which(is.na(dataSelect$monto_adj))\n",
    "dataSelect <- dataSelect[-c(na_rows), ]\n",
    "length(dataSelect$monto_adj)"
   ]
  },
  {
   "cell_type": "markdown",
   "metadata": {},
   "source": [
    "### Transformación de Monedas\n",
    "---"
   ]
  },
  {
   "cell_type": "code",
   "execution_count": null,
   "metadata": {},
   "outputs": [],
   "source": [
    "for(i in 1:nrow(df_futbol)) {\n",
    "    if(df_futbol$Player_position[i] == \"Right Winger\" \n",
    "       || df_futbol$Player_position[i] == \"Central Midfield\" \n",
    "       || df_futbol$Player_position[i] == \"Defensive Midfield\"\n",
    "       || df_futbol$Player_position[i] == \"Left Winger\" \n",
    "       || df_futbol$Player_position[i] == \"Attacking Midfield\" \n",
    "       || df_futbol$Player_position[i] == \"Left Midfield\"){\n",
    "        df_futbol$posicion[i] = \"Media Cancha\"\n",
    "    }\n",
    "     if(df_futbol$Player_position[i] == \"Goalkeeper\"){\n",
    "        df_futbol$posicion[i] = \"Golero\"\n",
    "    }\n",
    "    if(df_futbol$Player_position[i] == \"Centre-Back\" \n",
    "       || df_futbol$Player_position[i] == \"Right-Back\" \n",
    "       || df_futbol$Player_position[i] == \"Left-Back\"){\n",
    "        df_futbol$posicion[i] = \"Defensa\"\n",
    "    }\n",
    "     if(df_futbol$Player_position[i] == \"Centre-Forward\"\n",
    "        || df_futbol$Player_position[i] == \"Second Striker\"){\n",
    "        df_futbol$posicion[i] = \"Delantero\"\n",
    "    }\n",
    "}\n",
    "\n",
    "#df_futbol\n",
    "#table(df_futbol$posicion)\n",
    "coloresrenzo=c(\"red\",\"blue\",\"green\",\"yellow\")\n",
    "plot(table(df_futbol$posicion),main=\"Histograma de Posiciones dentro del campo\",col=coloresrenzo,lwd=20)"
   ]
  },
  {
   "cell_type": "markdown",
   "metadata": {},
   "source": [
    "<a id='Conclusiones'></a>\n",
    "### Conclusiones\n",
    "\n",
    "[Inicio ▲](#Indice)\n",
    "\n",
    "---\n",
    "\n",
    "Para el análisis de datos"
   ]
  },
  {
   "cell_type": "code",
   "execution_count": null,
   "metadata": {},
   "outputs": [],
   "source": []
  },
  {
   "cell_type": "code",
   "execution_count": null,
   "metadata": {},
   "outputs": [],
   "source": []
  },
  {
   "cell_type": "code",
   "execution_count": null,
   "metadata": {},
   "outputs": [],
   "source": []
  },
  {
   "cell_type": "code",
   "execution_count": null,
   "metadata": {},
   "outputs": [],
   "source": []
  },
  {
   "cell_type": "code",
   "execution_count": null,
   "metadata": {},
   "outputs": [],
   "source": []
  }
 ],
 "metadata": {
  "kernelspec": {
   "display_name": "R",
   "language": "R",
   "name": "ir"
  },
  "language_info": {
   "codemirror_mode": "r",
   "file_extension": ".r",
   "mimetype": "text/x-r-source",
   "name": "R",
   "pygments_lexer": "r",
   "version": "3.6.1"
  }
 },
 "nbformat": 4,
 "nbformat_minor": 2
}
